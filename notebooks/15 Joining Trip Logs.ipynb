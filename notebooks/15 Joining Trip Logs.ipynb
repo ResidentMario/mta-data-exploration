{
 "cells": [
  {
   "cell_type": "markdown",
   "metadata": {},
   "source": [
    "# About\n",
    "\n",
    "This notebook looks after a practical consideration. Raw GTFS-R messages are too expensive to keep in memory, so we need to be able to merge trip logs if needed. This is a dev notebook for that."
   ]
  },
  {
   "cell_type": "code",
   "execution_count": 2,
   "metadata": {
    "collapsed": false
   },
   "outputs": [
    {
     "name": "stdout",
     "output_type": "stream",
     "text": [
      "The autoreload extension is already loaded. To reload it, use:\n",
      "  %reload_ext autoreload\n",
      "1\n",
      "6\n",
      "11\n",
      "16\n",
      "21\n",
      "26\n",
      "31\n",
      "36\n",
      "41\n",
      "46\n",
      "51\n",
      "56\n",
      "Done!\n"
     ]
    },
    {
     "ename": "TypeError",
     "evalue": "parse_feeds_into_trip_logbook() missing 1 required positional argument: 'information_dates'",
     "output_type": "error",
     "traceback": [
      "\u001b[0;31m---------------------------------------------------------------------------\u001b[0m",
      "\u001b[0;31mTypeError\u001b[0m                                 Traceback (most recent call last)",
      "\u001b[0;32m<ipython-input-2-40548b335328>\u001b[0m in \u001b[0;36m<module>\u001b[0;34m()\u001b[0m\n\u001b[1;32m     30\u001b[0m                                   mta_archival_time_to_unix_timestamp('2014-09-18-09-01')),\n\u001b[1;32m     31\u001b[0m     parse_message_into_action_log(gtfs_r[5].entity[0], gtfs_r[5].entity[1], \n\u001b[0;32m---> 32\u001b[0;31m                                   mta_archival_time_to_unix_timestamp('2014-09-18-09-06'))\n\u001b[0m\u001b[1;32m     33\u001b[0m \u001b[0;34m\u001b[0m\u001b[0m\n\u001b[1;32m     34\u001b[0m ])\n",
      "\u001b[0;31mTypeError\u001b[0m: parse_feeds_into_trip_logbook() missing 1 required positional argument: 'information_dates'"
     ]
    }
   ],
   "source": [
    "import sys; sys.path.append(\"../src/\")\n",
    "from processing import fetch_archival_gtfs_realtime_data, parse_gtfs_into_action_log\n",
    "\n",
    "%load_ext autoreload\n",
    "%autoreload 2\n",
    "\n",
    "gtfs_r = dict()\n",
    "\n",
    "for n in range(0, 60, 5):\n",
    "    print(n + 1)\n",
    "    gtfs_r[n] = fetch_archival_gtfs_realtime_data(kind='gtfs', timestamp='2014-09-18-09-' + str(1 + n).zfill(2))\n",
    "    \n",
    "print(\"Done!\")"
   ]
  },
  {
   "cell_type": "code",
   "execution_count": 5,
   "metadata": {
    "collapsed": false
   },
   "outputs": [],
   "source": [
    "from processing import parse_feeds_into_trip_logbook, mta_archival_time_to_unix_timestamp\n",
    "\n",
    "ret1 = parse_feeds_into_trip_logbook([gtfs_r[0], gtfs_r[5]], \n",
    "                                  [mta_archival_time_to_unix_timestamp('2014-09-18-09-01'),\n",
    "                                   mta_archival_time_to_unix_timestamp('2014-09-18-09-06')])\n",
    "\n",
    "from processing import extract_synthetic_route_from_tripwise_action_logs, parse_message_into_action_log\n",
    "from processing import parse_tripwise_action_logs_into_trip_log\n",
    "\n",
    "\n",
    "ret2 = parse_feeds_into_trip_logbook([gtfs_r[0], gtfs_r[5], gtfs_r[10]], \n",
    "                                     [mta_archival_time_to_unix_timestamp('2014-09-18-09-01'),\n",
    "                                      mta_archival_time_to_unix_timestamp('2014-09-18-09-06'),\n",
    "                                      mta_archival_time_to_unix_timestamp('2014-09-18-09-11')])"
   ]
  },
  {
   "cell_type": "code",
   "execution_count": 30,
   "metadata": {
    "collapsed": false
   },
   "outputs": [
    {
     "data": {
      "text/html": [
       "<div>\n",
       "<table border=\"1\" class=\"dataframe\">\n",
       "  <thead>\n",
       "    <tr style=\"text-align: right;\">\n",
       "      <th></th>\n",
       "      <th>index</th>\n",
       "      <th>trip_id</th>\n",
       "      <th>route_id</th>\n",
       "      <th>action</th>\n",
       "      <th>minimum_time</th>\n",
       "      <th>maximum_time</th>\n",
       "      <th>stop_id</th>\n",
       "      <th>latest_information_time</th>\n",
       "    </tr>\n",
       "  </thead>\n",
       "  <tbody>\n",
       "    <tr>\n",
       "      <th>0</th>\n",
       "      <td>0</td>\n",
       "      <td>043550_2..S</td>\n",
       "      <td>2</td>\n",
       "      <td>STOPPED_OR_SKIPPED</td>\n",
       "      <td>1411045260</td>\n",
       "      <td>nan</td>\n",
       "      <td>247S</td>\n",
       "      <td>1411045260</td>\n",
       "    </tr>\n",
       "  </tbody>\n",
       "</table>\n",
       "</div>"
      ],
      "text/plain": [
       "   index      trip_id route_id              action minimum_time maximum_time  \\\n",
       "0      0  043550_2..S        2  STOPPED_OR_SKIPPED   1411045260          nan   \n",
       "\n",
       "  stop_id latest_information_time  \n",
       "0    247S              1411045260  "
      ]
     },
     "execution_count": 30,
     "metadata": {},
     "output_type": "execute_result"
    }
   ],
   "source": [
    "from processing import join_trip_logs\n",
    "\n",
    "\n",
    "join_trip_logs(ret2['043550_2..S'], ret1['043550_2..S'])"
   ]
  },
  {
   "cell_type": "code",
   "execution_count": 10,
   "metadata": {
    "collapsed": false,
    "scrolled": true
   },
   "outputs": [
    {
     "data": {
      "text/html": [
       "<div>\n",
       "<table border=\"1\" class=\"dataframe\">\n",
       "  <thead>\n",
       "    <tr style=\"text-align: right;\">\n",
       "      <th></th>\n",
       "      <th>trip_id</th>\n",
       "      <th>route_id</th>\n",
       "      <th>action</th>\n",
       "      <th>minimum_time</th>\n",
       "      <th>maximum_time</th>\n",
       "      <th>stop_id</th>\n",
       "      <th>latest_information_time</th>\n",
       "    </tr>\n",
       "  </thead>\n",
       "  <tbody>\n",
       "    <tr>\n",
       "      <th>0</th>\n",
       "      <td>043550_2..S</td>\n",
       "      <td>2</td>\n",
       "      <td>STOPPED_OR_SKIPPED</td>\n",
       "      <td>1411045260</td>\n",
       "      <td>nan</td>\n",
       "      <td>247S</td>\n",
       "      <td>1411045260</td>\n",
       "    </tr>\n",
       "  </tbody>\n",
       "</table>\n",
       "</div>"
      ],
      "text/plain": [
       "       trip_id route_id              action minimum_time maximum_time stop_id  \\\n",
       "0  043550_2..S        2  STOPPED_OR_SKIPPED   1411045260          nan    247S   \n",
       "\n",
       "  latest_information_time  \n",
       "0              1411045260  "
      ]
     },
     "execution_count": 10,
     "metadata": {},
     "output_type": "execute_result"
    }
   ],
   "source": [
    "ret1['043550_2..S']"
   ]
  }
 ],
 "metadata": {
  "kernelspec": {
   "display_name": "Python 3",
   "language": "python",
   "name": "python3"
  },
  "language_info": {
   "codemirror_mode": {
    "name": "ipython",
    "version": 3
   },
   "file_extension": ".py",
   "mimetype": "text/x-python",
   "name": "python",
   "nbconvert_exporter": "python",
   "pygments_lexer": "ipython3",
   "version": "3.4.5"
  }
 },
 "nbformat": 4,
 "nbformat_minor": 2
}
