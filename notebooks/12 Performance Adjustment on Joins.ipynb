{
 "cells": [
  {
   "cell_type": "markdown",
   "metadata": {},
   "source": [
    "# About\n",
    "\n",
    "The process of generating trip logs is not very fast. At this point, it's worth making performance improvements in it."
   ]
  },
  {
   "cell_type": "code",
   "execution_count": 4,
   "metadata": {
    "collapsed": true
   },
   "outputs": [],
   "source": [
    "import sys; sys.path.append(\"../src/\")\n",
    "from processing import parse_feeds_into_trip_logs, mta_archival_time_to_unix_timestamp\n",
    "from processing import fetch_archival_gtfs_realtime_data"
   ]
  },
  {
   "cell_type": "code",
   "execution_count": 2,
   "metadata": {
    "collapsed": true
   },
   "outputs": [],
   "source": [
    "%load_ext autoreload\n",
    "%autoreload 2"
   ]
  },
  {
   "cell_type": "code",
   "execution_count": 5,
   "metadata": {
    "collapsed": false
   },
   "outputs": [
    {
     "name": "stdout",
     "output_type": "stream",
     "text": [
      "1\n",
      "6\n",
      "11\n",
      "16\n",
      "21\n",
      "26\n",
      "31\n",
      "36\n",
      "41\n",
      "46\n",
      "51\n",
      "56\n",
      "Done!\n"
     ]
    }
   ],
   "source": [
    "gtfs_r = dict()\n",
    "\n",
    "for n in range(0, 60, 5):\n",
    "    print(n + 1)\n",
    "    gtfs_r[n] = fetch_archival_gtfs_realtime_data(kind='gtfs', timestamp='2014-09-18-09-' + str(1 + n).zfill(2))\n",
    "    \n",
    "print(\"Done!\")"
   ]
  },
  {
   "cell_type": "markdown",
   "metadata": {},
   "source": [
    "I have a pretty good idea of what the problem is, it's the `append` ops in `parse_message_into_action_log`. Let's see for sure though."
   ]
  },
  {
   "cell_type": "code",
   "execution_count": 18,
   "metadata": {
    "collapsed": true
   },
   "outputs": [],
   "source": [
    "from processing import parse_message_into_action_log"
   ]
  },
  {
   "cell_type": "code",
   "execution_count": 22,
   "metadata": {
    "collapsed": false
   },
   "outputs": [
    {
     "data": {
      "text/html": [
       "<div>\n",
       "<table border=\"1\" class=\"dataframe\">\n",
       "  <thead>\n",
       "    <tr style=\"text-align: right;\">\n",
       "      <th></th>\n",
       "      <th>action</th>\n",
       "      <th>information_time</th>\n",
       "      <th>route_id</th>\n",
       "      <th>stop_id</th>\n",
       "      <th>time_assigned</th>\n",
       "      <th>trip_id</th>\n",
       "    </tr>\n",
       "  </thead>\n",
       "  <tbody>\n",
       "    <tr>\n",
       "      <th>0</th>\n",
       "      <td>STOPPED_AT</td>\n",
       "      <td>1411045260</td>\n",
       "      <td>1</td>\n",
       "      <td>137S</td>\n",
       "      <td>1411044718</td>\n",
       "      <td>047600_1..S02R</td>\n",
       "    </tr>\n",
       "    <tr>\n",
       "      <th>1</th>\n",
       "      <td>EXPECTED_TO_ARRIVE_AT</td>\n",
       "      <td>1411045260</td>\n",
       "      <td>1</td>\n",
       "      <td>138S</td>\n",
       "      <td>1411044928</td>\n",
       "      <td>047600_1..S02R</td>\n",
       "    </tr>\n",
       "    <tr>\n",
       "      <th>2</th>\n",
       "      <td>EXPECTED_TO_DEPART_AT</td>\n",
       "      <td>1411045260</td>\n",
       "      <td>1</td>\n",
       "      <td>138S</td>\n",
       "      <td>1411044928</td>\n",
       "      <td>047600_1..S02R</td>\n",
       "    </tr>\n",
       "    <tr>\n",
       "      <th>3</th>\n",
       "      <td>EXPECTED_TO_ARRIVE_AT</td>\n",
       "      <td>1411045260</td>\n",
       "      <td>1</td>\n",
       "      <td>139S</td>\n",
       "      <td>1411045018</td>\n",
       "      <td>047600_1..S02R</td>\n",
       "    </tr>\n",
       "    <tr>\n",
       "      <th>4</th>\n",
       "      <td>EXPECTED_TO_DEPART_AT</td>\n",
       "      <td>1411045260</td>\n",
       "      <td>1</td>\n",
       "      <td>139S</td>\n",
       "      <td>1411045078</td>\n",
       "      <td>047600_1..S02R</td>\n",
       "    </tr>\n",
       "    <tr>\n",
       "      <th>5</th>\n",
       "      <td>EXPECTED_TO_ARRIVE_AT</td>\n",
       "      <td>1411045260</td>\n",
       "      <td>1</td>\n",
       "      <td>140S</td>\n",
       "      <td>1411045228</td>\n",
       "      <td>047600_1..S02R</td>\n",
       "    </tr>\n",
       "  </tbody>\n",
       "</table>\n",
       "</div>"
      ],
      "text/plain": [
       "                  action information_time route_id stop_id time_assigned  \\\n",
       "0             STOPPED_AT       1411045260        1    137S    1411044718   \n",
       "1  EXPECTED_TO_ARRIVE_AT       1411045260        1    138S    1411044928   \n",
       "2  EXPECTED_TO_DEPART_AT       1411045260        1    138S    1411044928   \n",
       "3  EXPECTED_TO_ARRIVE_AT       1411045260        1    139S    1411045018   \n",
       "4  EXPECTED_TO_DEPART_AT       1411045260        1    139S    1411045078   \n",
       "5  EXPECTED_TO_ARRIVE_AT       1411045260        1    140S    1411045228   \n",
       "\n",
       "          trip_id  \n",
       "0  047600_1..S02R  \n",
       "1  047600_1..S02R  \n",
       "2  047600_1..S02R  \n",
       "3  047600_1..S02R  \n",
       "4  047600_1..S02R  \n",
       "5  047600_1..S02R  "
      ]
     },
     "execution_count": 22,
     "metadata": {},
     "output_type": "execute_result"
    }
   ],
   "source": [
    "parse_message_into_action_log(gtfs_r[0].entity[0], gtfs_r[0].entity[1], \n",
    "                              mta_archival_time_to_unix_timestamp('2014-09-18-09-01'))"
   ]
  },
  {
   "cell_type": "code",
   "execution_count": 8,
   "metadata": {
    "collapsed": false
   },
   "outputs": [
    {
     "name": "stdout",
     "output_type": "stream",
     "text": [
      " "
     ]
    }
   ],
   "source": [
    "%prun ret2 = parse_feeds_into_trip_logs([gtfs_r[0], gtfs_r[5]], [mta_archival_time_to_unix_timestamp('2014-09-18-09-01'), mta_archival_time_to_unix_timestamp('2014-09-18-09-06')])"
   ]
  },
  {
   "cell_type": "markdown",
   "metadata": {},
   "source": [
    "Output (top only):\n",
    "\n",
    "```\n",
    "         105427380 function calls (104388274 primitive calls) in 93.838 seconds\n",
    "\n",
    "   Ordered by: internal time\n",
    "\n",
    "   ncalls  tottime  percall  cumtime  percall filename:lineno(function)\n",
    "   314211    5.505    0.000    5.505    0.000 {pandas.lib.maybe_convert_objects}\n",
    " 22341043    4.891    0.000    6.975    0.000 {built-in method isinstance}\n",
    "   159620    2.781    0.000    6.753    0.000 internals.py:2841(_rebuild_blknos_and_blklocs)\n",
    "  4616632    2.107    0.000    2.108    0.000 {built-in method hasattr}\n",
    "198754/162270    2.070    0.000    9.529    0.000 base.py:142(__new__)\n",
    "   348206    2.059    0.000    2.206    0.000 {pandas.lib.infer_dtype}\n",
    "    93293    2.055    0.000    2.055    0.000 {pandas.lib.clean_index_list}\n",
    "7744350/6741751    2.035    0.000    3.035    0.000 {built-in method len}\n",
    "  2045438    2.009    0.000    3.124    0.000 common.py:357(_get_dtype_type)\n",
    "  2452279    1.837    0.000    3.856    0.000 dtypes.py:74(is_dtype)\n",
    "  1439446    1.771    0.000    1.772    0.000 {built-in method array}\n",
    "   481623    1.739    0.000   10.102    0.000 internals.py:2649(make_block)\n",
    "  2929009    1.685    0.000    1.701    0.000 {built-in method getattr}\n",
    "   257646    1.404    0.000    2.565    0.000 numeric.py:607(require)\n",
    "   272939    1.259    0.000    1.259    0.000 {method 'reduce' of 'numpy.ufunc' objects}\n",
    "    30947    1.117    0.000   14.548    0.000 internals.py:1827(convert)\n",
    "    65844    1.057    0.000    6.671    0.000 internals.py:4830(get_empty_dtype_and_na)\n",
    "  5241436    0.987    0.000    0.987    0.000 {built-in method issubclass}\n",
    "   472952    0.951    0.000    0.951    0.000 {built-in method empty}\n",
    "    62997    0.935    0.000    2.027    0.000 internals.py:4935(get_mgr_concatenation_plan)\n",
    "   481623    0.930    0.000    5.129    0.000 internals.py:96(__init__)\n",
    "    31193    0.834    0.000   89.156    0.003 frame.py:4346(append)\n",
    "   479352    0.797    0.000    2.356    0.000 internals.py:2786(shape)\n",
    "   317715    0.778    0.000    4.178    0.000 internals.py:1811(__init__)\n",
    "   482273    0.773    0.000    3.447    0.000 internals.py:216(mgr_locs)\n",
    "  2038008    0.766    0.000    2.084    0.000 generic.py:7(_check)\n",
    "    93943    0.685    0.000    0.986    0.000 {method 'get_indexer' of 'pandas.index.IndexEngine' objects}\n",
    "   198429    0.673    0.000    1.970    0.000 common.py:365(_asarray_tuplesafe)\n",
    "   191723    0.641    0.000    6.961    0.000 cast.py:604(_soft_convert_objects)\n",
    "   194687    0.636    0.000    0.636    0.000 {built-in method concatenate}\n",
    "   189641    0.628    0.000    2.917    0.000 missing.py:245(array_equivalent)\n",
    "    30907    0.626    0.000    0.875    0.000 arraysetops.py:305(in1d)\n",
    "   225995    0.594    0.000    1.031    0.000 base.py:334(_simple_new)\n",
    "  1052682    0.594    0.000    2.802    0.000 common.py:54(is_object_dtype)\n",
    "   928272    0.584    0.000    0.584    0.000 {method 'ravel' of 'numpy.ndarray' objects}\n",
    "    30582    0.574    0.000    0.574    0.000 {pandas.lib.fast_multiget}\n",
    "    61854    0.564    0.000   25.995    0.000 internals.py:2978(apply)\n",
    "   131493    0.558    0.000    4.184    0.000 internals.py:5141(is_null)\n",
    "    97362    0.547    0.000    0.782    0.000 internals.py:5014(combine_concat_plans)\n",
    "    64416    0.537    0.000    3.829    0.000 internals.py:4528(_merge_blocks)\n",
    "   312619    0.525    0.000    5.791    0.000 base.py:1643(equals)\n",
    "   456350    0.521    0.000    0.521    0.000 {built-in method arange}\n",
    "  1172409    0.514    0.000    2.707    0.000 common.py:102(is_categorical_dtype)\n",
    "   773813    0.512    0.000    1.331    0.000 numeric.py:414(asarray)\n",
    "   127412    0.502    0.000    8.111    0.000 internals.py:2745(__init__)\n",
    "    63361    0.499    0.000    7.259    0.000 series.py:135(__init__)\n",
    "  1193619    0.499    0.000    0.499    0.000 {method 'view' of 'numpy.ndarray' objects}\n",
    "   549818    0.493    0.000    0.679    0.000 range.py:458(__len__)\n",
    "   102875    0.487    0.000    2.211    0.000 missing.py:120(_isnull_ndarraylike)\n",
    "    63974    0.476    0.000    0.476    0.000 {pandas.lib.isnullobj}\n",
    "   607996    0.474    0.000    7.543    0.000 base.py:3637(_ensure_index)\n",
    "    61489    0.470    0.000   18.171    0.000 generic.py:2224(reindex)\n",
    "    30907    0.457    0.000    4.555    0.000 base.py:1961(difference)\n",
    "   357307    0.452    0.000    1.165    0.000 dtypes.py:347(is_dtype)\n",
    "   126151    0.447    0.000    8.979    0.000 frame.py:252(__init__)\n",
    "    93943    0.446    0.000    3.256    0.000 base.py:2217(get_indexer)\n",
    "   358869    0.441    0.000    0.508    0.000 internals.py:301(ftype)\n",
    "   186833    0.439    0.000    0.439    0.000 {built-in method array_equivalent_object}\n",
    "   667758    0.435    0.000    0.689    0.000 common.py:333(_get_dtype)\n",
    "  1070195    0.433    0.000    0.882    0.000 base.py:522(values)\n",
    "    93579    0.428    0.000    0.746    0.000 base.py:1097(is_unique)\n",
    "    31518    0.413    0.000    4.333    0.000 merge.py:1460(__init__)\n",
    "   189512    0.404    0.000    0.404    0.000 generic.py:114(__init__)\n",
    "    61489    0.388    0.000    7.687    0.000 generic.py:2350(_reindex_with_indexers)\n",
    "   922563    0.383    0.000    1.426    0.000 common.py:89(is_datetime64tz_dtype)\n",
    "   478002    0.370    0.000    0.370    0.000 {method 'reshape' of 'numpy.ndarray' objects}\n",
    "    30582    0.367    0.000    4.912    0.000 base.py:1822(union)\n",
    "   718181    0.349    0.000    2.672    0.000 common.py:69(is_datetimetz)\n",
    "    70771    0.345    0.000    1.232    0.000 cast.py:672(_possibly_infer_to_datetimelike)\n",
    "      611    0.343    0.001   69.490    0.114 processing.py:100(parse_message_into_action_log)\n",
    "    66585    0.343    0.000    2.088    0.000 concat.py:24(get_dtype_kinds)\n",
    "   191709    0.332    0.000    0.589    0.000 generic.py:2746(__setattr__)\n",
    "  1675484    0.324    0.000    0.324    0.000 internals.py:179(mgr_locs)\n",
    "  1407474    0.315    0.000    1.558    0.000 internals.py:2788(<genexpr>)\n",
    "    32208    0.315    0.000    4.778    0.000 internals.py:4511(_consolidate)\n",
    "    31518    0.313    0.000   19.159    0.001 merge.py:1599(get_result)\n",
    "    93943    0.293    0.000    1.256    0.000 base.py:2390(_possibly_promote)\n",
    "    91135    0.292    0.000    0.461    0.000 range.py:124(_simple_new)\n",
    "   197378    0.291    0.000    0.491    0.000 shape_base.py:61(atleast_2d)\n",
    "   127737    0.282    0.000    0.990    0.000 internals.py:3257(_consolidate_check)\n",
    "   939563    0.281    0.000    0.365    0.000 base.py:491(__len__)\n",
    "   124279    0.279    0.000    0.461    0.000 {built-in method sorted}\n",
    "   836525    0.275    0.000    0.921    0.000 <frozen importlib._bootstrap>:2264(_handle_fromlist)\n",
    "   515292    0.268    0.000    0.320    0.000 numeric.py:676(<genexpr>)\n",
    "   [...]\n",
    "```"
   ]
  },
  {
   "cell_type": "markdown",
   "metadata": {},
   "source": [
    "And then:"
   ]
  },
  {
   "cell_type": "code",
   "execution_count": 23,
   "metadata": {
    "collapsed": false
   },
   "outputs": [
    {
     "name": "stdout",
     "output_type": "stream",
     "text": [
      " "
     ]
    }
   ],
   "source": [
    "%prun ret2 = parse_feeds_into_trip_logs([gtfs_r[0], gtfs_r[5]], [mta_archival_time_to_unix_timestamp('2014-09-18-09-01'), mta_archival_time_to_unix_timestamp('2014-09-18-09-06')])"
   ]
  },
  {
   "cell_type": "markdown",
   "metadata": {},
   "source": [
    "Fixing up the action logs `append` was a ~70% speedup!\n",
    "\n",
    "```\n",
    "         47807063 function calls (47374260 primitive calls) in 38.861 seconds\n",
    "```"
   ]
  },
  {
   "cell_type": "code",
   "execution_count": 8,
   "metadata": {
    "collapsed": true
   },
   "outputs": [],
   "source": [
    "from processing import parse_tripwise_action_logs_into_trip_log"
   ]
  },
  {
   "cell_type": "code",
   "execution_count": 27,
   "metadata": {
    "collapsed": false
   },
   "outputs": [
    {
     "data": {
      "text/html": [
       "<div>\n",
       "<table border=\"1\" class=\"dataframe\">\n",
       "  <thead>\n",
       "    <tr style=\"text-align: right;\">\n",
       "      <th></th>\n",
       "      <th>action</th>\n",
       "      <th>latest_information_time</th>\n",
       "      <th>maximum_time</th>\n",
       "      <th>minimum_time</th>\n",
       "      <th>route_id</th>\n",
       "      <th>stop_id</th>\n",
       "      <th>trip_id</th>\n",
       "    </tr>\n",
       "  </thead>\n",
       "  <tbody>\n",
       "    <tr>\n",
       "      <th>0</th>\n",
       "      <td>STOPPED_AT</td>\n",
       "      <td>1411045260</td>\n",
       "      <td>1411045260</td>\n",
       "      <td>1411045260</td>\n",
       "      <td>1</td>\n",
       "      <td>137S</td>\n",
       "      <td>047600_1..S02R</td>\n",
       "    </tr>\n",
       "    <tr>\n",
       "      <th>1</th>\n",
       "      <td>STOPPED_OR_SKIPPED</td>\n",
       "      <td>1411045560</td>\n",
       "      <td>1411045560</td>\n",
       "      <td>1411045260</td>\n",
       "      <td>1</td>\n",
       "      <td>138S</td>\n",
       "      <td>047600_1..S02R</td>\n",
       "    </tr>\n",
       "    <tr>\n",
       "      <th>2</th>\n",
       "      <td>STOPPED_OR_SKIPPED</td>\n",
       "      <td>1411045560</td>\n",
       "      <td>1411045560</td>\n",
       "      <td>1411045260</td>\n",
       "      <td>1</td>\n",
       "      <td>139S</td>\n",
       "      <td>047600_1..S02R</td>\n",
       "    </tr>\n",
       "    <tr>\n",
       "      <th>3</th>\n",
       "      <td>STOPPED_OR_SKIPPED</td>\n",
       "      <td>1411045860</td>\n",
       "      <td>1411045860</td>\n",
       "      <td>1411045560</td>\n",
       "      <td>1</td>\n",
       "      <td>140S</td>\n",
       "      <td>047600_1..S02R</td>\n",
       "    </tr>\n",
       "  </tbody>\n",
       "</table>\n",
       "</div>"
      ],
      "text/plain": [
       "               action latest_information_time maximum_time minimum_time  \\\n",
       "0          STOPPED_AT              1411045260   1411045260   1411045260   \n",
       "1  STOPPED_OR_SKIPPED              1411045560   1411045560   1411045260   \n",
       "2  STOPPED_OR_SKIPPED              1411045560   1411045560   1411045260   \n",
       "3  STOPPED_OR_SKIPPED              1411045860   1411045860   1411045560   \n",
       "\n",
       "  route_id stop_id         trip_id  \n",
       "0        1    137S  047600_1..S02R  \n",
       "1        1    138S  047600_1..S02R  \n",
       "2        1    139S  047600_1..S02R  \n",
       "3        1    140S  047600_1..S02R  "
      ]
     },
     "execution_count": 27,
     "metadata": {},
     "output_type": "execute_result"
    }
   ],
   "source": [
    "parse_tripwise_action_logs_into_trip_log(\n",
    "    [\n",
    "        parse_message_into_action_log(gtfs_r[0].entity[0], gtfs_r[0].entity[1],\n",
    "                              mta_archival_time_to_unix_timestamp('2014-09-18-09-01')),\n",
    "        parse_message_into_action_log(gtfs_r[5].entity[0], gtfs_r[5].entity[1],\n",
    "                              mta_archival_time_to_unix_timestamp('2014-09-18-09-06')),\n",
    "        parse_message_into_action_log(gtfs_r[10].entity[0], gtfs_r[10].entity[1],\n",
    "                                      mta_archival_time_to_unix_timestamp('2014-09-18-09-11'))\n",
    "    ]\n",
    ")"
   ]
  },
  {
   "cell_type": "code",
   "execution_count": 28,
   "metadata": {
    "collapsed": false
   },
   "outputs": [
    {
     "name": "stdout",
     "output_type": "stream",
     "text": [
      " "
     ]
    }
   ],
   "source": [
    "%prun ret2 = parse_feeds_into_trip_logs([gtfs_r[0], gtfs_r[5]], [mta_archival_time_to_unix_timestamp('2014-09-18-09-01'), mta_archival_time_to_unix_timestamp('2014-09-18-09-06')])"
   ]
  },
  {
   "cell_type": "markdown",
   "metadata": {},
   "source": [
    "Doing the same thing for trip log parsing was a further 50% speedup on top of that."
   ]
  },
  {
   "cell_type": "markdown",
   "metadata": {},
   "source": [
    "```\n",
    "         22965981 function calls (22744790 primitive calls) in 15.865 seconds\n",
    "```"
   ]
  },
  {
   "cell_type": "markdown",
   "metadata": {},
   "source": [
    "I can't optimize more than that using `prun` output alone because `cProfiler` is hard to understand. Let's switch tools and see if we can get more performance."
   ]
  },
  {
   "cell_type": "code",
   "execution_count": 31,
   "metadata": {
    "collapsed": false
   },
   "outputs": [
    {
     "name": "stdout",
     "output_type": "stream",
     "text": [
      "Collecting pyinstrument\n",
      "  Downloading pyinstrument-0.13.2.tar.gz (45kB)\n",
      "\u001b[K    100% |████████████████████████████████| 51kB 1.5MB/s ta 0:00:01\n",
      "\u001b[?25hBuilding wheels for collected packages: pyinstrument\n",
      "  Running setup.py bdist_wheel for pyinstrument ... \u001b[?25l-\b \bdone\n",
      "\u001b[?25h  Stored in directory: /home/alex/.cache/pip/wheels/90/30/05/48c02ccd6fb902d6741d9ccda2fb0ddc94ee70d86af4847cb0\n",
      "Successfully built pyinstrument\n",
      "Installing collected packages: pyinstrument\n",
      "Successfully installed pyinstrument-0.13.2\n"
     ]
    }
   ],
   "source": [
    "!pip install pyinstrument"
   ]
  },
  {
   "cell_type": "code",
   "execution_count": 6,
   "metadata": {
    "collapsed": true
   },
   "outputs": [],
   "source": [
    "import pyinstrument"
   ]
  },
  {
   "cell_type": "code",
   "execution_count": 33,
   "metadata": {
    "collapsed": false,
    "scrolled": false
   },
   "outputs": [
    {
     "name": "stdout",
     "output_type": "stream",
     "text": [
      "\u001b[31m11.869\u001b[0m parse_feeds_into_trip_logs  \u001b[2mprocessing.py:499\u001b[0m\n",
      "├─ \u001b[31m8.228\u001b[0m parse_message_list_into_action_log  \u001b[2mprocessing.py:46\u001b[0m\n",
      "│  ├─ \u001b[31m7.209\u001b[0m parse_message_into_action_log  \u001b[2mprocessing.py:100\u001b[0m\n",
      "│  │  ├─ \u001b[33m3.673\u001b[0m <listcomp>  \u001b[2mprocessing.py:300\u001b[0m\n",
      "│  │  │  └─ \u001b[33m3.661\u001b[0m __init__  \u001b[2mpandas/core/series.py:135\u001b[0m\n",
      "│  │  │     ├─ \u001b[32m1.125\u001b[0m __new__  \u001b[2mpandas/indexes/base.py:142\u001b[0m\n",
      "│  │  │     │  ├─ \u001b[32m0.642\u001b[0m __new__  \u001b[2mpandas/indexes/base.py:142\u001b[0m\n",
      "│  │  │     │  │  └─ \u001b[92m\u001b[2m0.125\u001b[0m _asarray_tuplesafe  \u001b[2mpandas/core/common.py:365\u001b[0m\n",
      "│  │  │     │  └─ \u001b[92m\u001b[2m0.177\u001b[0m _asarray_tuplesafe  \u001b[2mpandas/core/common.py:365\u001b[0m\n",
      "│  │  │     ├─ \u001b[32m0.934\u001b[0m _sanitize_array  \u001b[2mpandas/core/series.py:2817\u001b[0m\n",
      "│  │  │     │  └─ \u001b[32m0.805\u001b[0m _try_cast  \u001b[2mpandas/core/series.py:2834\u001b[0m\n",
      "│  │  │     │     ├─ \u001b[92m\u001b[2m0.556\u001b[0m _possibly_cast_to_datetime  \u001b[2mpandas/types/cast.py:765\u001b[0m\n",
      "│  │  │     │     │  └─ \u001b[92m\u001b[2m0.364\u001b[0m _possibly_infer_to_datetimelike  \u001b[2mpandas/types/cast.py:672\u001b[0m\n",
      "│  │  │     │     └─ \u001b[92m\u001b[2m0.174\u001b[0m is_extension_type  \u001b[2mpandas/types/common.py:301\u001b[0m\n",
      "│  │  │     ├─ \u001b[92m\u001b[2m0.339\u001b[0m __init__  \u001b[2mpandas/core/internals.py:4031\u001b[0m\n",
      "│  │  │     │  └─ \u001b[92m\u001b[2m0.269\u001b[0m make_block  \u001b[2mpandas/core/internals.py:2649\u001b[0m\n",
      "│  │  │     └─ \u001b[92m\u001b[2m0.170\u001b[0m _set_axis  \u001b[2mpandas/core/series.py:286\u001b[0m\n",
      "│  │  ├─ \u001b[32m2.108\u001b[0m concat  \u001b[2mpandas/tools/merge.py:1396\u001b[0m\n",
      "│  │  │  ├─ \u001b[32m1.415\u001b[0m get_result  \u001b[2mpandas/tools/merge.py:1599\u001b[0m\n",
      "│  │  │  │  └─ \u001b[32m1.396\u001b[0m __init__  \u001b[2mpandas/core/frame.py:252\u001b[0m\n",
      "│  │  │  │     └─ \u001b[32m1.391\u001b[0m _init_dict  \u001b[2mpandas/core/frame.py:349\u001b[0m\n",
      "│  │  │  │        └─ \u001b[32m1.343\u001b[0m _arrays_to_mgr  \u001b[2mpandas/core/frame.py:5391\u001b[0m\n",
      "│  │  │  │           ├─ \u001b[32m0.805\u001b[0m _homogenize  \u001b[2mpandas/core/frame.py:5689\u001b[0m\n",
      "│  │  │  │           │  └─ \u001b[32m0.776\u001b[0m reindex  \u001b[2mpandas/core/series.py:2360\u001b[0m\n",
      "│  │  │  │           │     └─ \u001b[32m0.744\u001b[0m reindex  \u001b[2mpandas/core/generic.py:2224\u001b[0m\n",
      "│  │  │  │           │        └─ \u001b[92m\u001b[2m0.511\u001b[0m <listcomp>  \u001b[2mpandas/core/generic.py:2244\u001b[0m\n",
      "│  │  │  │           │           └─ \u001b[92m\u001b[2m0.462\u001b[0m identical  \u001b[2mpandas/indexes/base.py:1663\u001b[0m\n",
      "│  │  │  │           │              └─ \u001b[92m\u001b[2m0.409\u001b[0m equals  \u001b[2mpandas/indexes/base.py:1643\u001b[0m\n",
      "│  │  │  │           │                 └─ \u001b[92m\u001b[2m0.246\u001b[0m array_equivalent  \u001b[2mpandas/types/missing.py:245\u001b[0m\n",
      "│  │  │  │           │                    └─ \u001b[92m\u001b[2m0.128\u001b[0m is_string_dtype  \u001b[2mpandas/types/common.py:106\u001b[0m\n",
      "│  │  │  │           └─ \u001b[92m\u001b[2m0.537\u001b[0m create_block_manager_from_arrays  \u001b[2mpandas/core/internals.py:4259\u001b[0m\n",
      "│  │  │  │              └─ \u001b[92m\u001b[2m0.503\u001b[0m form_blocks  \u001b[2mpandas/core/internals.py:4270\u001b[0m\n",
      "│  │  │  └─ \u001b[32m0.693\u001b[0m __init__  \u001b[2mpandas/tools/merge.py:1460\u001b[0m\n",
      "│  │  │     ├─ \u001b[92m\u001b[2m0.452\u001b[0m _get_new_axes  \u001b[2mpandas/tools/merge.py:1664\u001b[0m\n",
      "│  │  │     │  └─ \u001b[92m\u001b[2m0.433\u001b[0m _get_comb_axis  \u001b[2mpandas/tools/merge.py:1688\u001b[0m\n",
      "│  │  │     │     └─ \u001b[92m\u001b[2m0.425\u001b[0m _get_combined_index  \u001b[2mpandas/indexes/api.py:25\u001b[0m\n",
      "│  │  │     │        └─ \u001b[92m\u001b[2m0.406\u001b[0m _union_indexes  \u001b[2mpandas/indexes/api.py:45\u001b[0m\n",
      "│  │  │     │           └─ \u001b[92m\u001b[2m0.369\u001b[0m equals  \u001b[2mpandas/indexes/base.py:1643\u001b[0m\n",
      "│  │  │     │              └─ \u001b[92m\u001b[2m0.207\u001b[0m array_equivalent  \u001b[2mpandas/types/missing.py:245\u001b[0m\n",
      "│  │  │     └─ \u001b[92m\u001b[2m0.152\u001b[0m __init__  \u001b[2mpandas/core/frame.py:252\u001b[0m\n",
      "│  │  │        └─ \u001b[92m\u001b[2m0.147\u001b[0m _init_dict  \u001b[2mpandas/core/frame.py:349\u001b[0m\n",
      "│  │  ├─ \u001b[92m\u001b[2m0.445\u001b[0m append  \u001b[2mpandas/core/frame.py:4346\u001b[0m\n",
      "│  │  │  └─ \u001b[92m\u001b[2m0.441\u001b[0m concat  \u001b[2mpandas/tools/merge.py:1396\u001b[0m\n",
      "│  │  │     ├─ \u001b[92m\u001b[2m0.273\u001b[0m get_result  \u001b[2mpandas/tools/merge.py:1599\u001b[0m\n",
      "│  │  │     │  └─ \u001b[92m\u001b[2m0.195\u001b[0m concatenate_block_managers  \u001b[2mpandas/core/internals.py:4807\u001b[0m\n",
      "│  │  │     └─ \u001b[92m\u001b[2m0.168\u001b[0m __init__  \u001b[2mpandas/tools/merge.py:1460\u001b[0m\n",
      "│  │  │        └─ \u001b[92m\u001b[2m0.151\u001b[0m _get_new_axes  \u001b[2mpandas/tools/merge.py:1664\u001b[0m\n",
      "│  │  ├─ \u001b[92m\u001b[2m0.409\u001b[0m __init__  \u001b[2mpandas/core/frame.py:252\u001b[0m\n",
      "│  │  │  └─ \u001b[92m\u001b[2m0.403\u001b[0m _init_dict  \u001b[2mpandas/core/frame.py:349\u001b[0m\n",
      "│  │  │     └─ \u001b[92m\u001b[2m0.259\u001b[0m _arrays_to_mgr  \u001b[2mpandas/core/frame.py:5391\u001b[0m\n",
      "│  │  │        └─ \u001b[92m\u001b[2m0.175\u001b[0m create_block_manager_from_arrays  \u001b[2mpandas/core/internals.py:4259\u001b[0m\n",
      "│  │  │           └─ \u001b[92m\u001b[2m0.142\u001b[0m form_blocks  \u001b[2mpandas/core/internals.py:4270\u001b[0m\n",
      "│  │  ├─ \u001b[92m\u001b[2m0.276\u001b[0m __str__  \u001b[2mgoogle/protobuf/internal/python_message.py:964\u001b[0m\n",
      "│  │  │  └─ \u001b[92m\u001b[2m0.256\u001b[0m MessageToString  \u001b[2mgoogle/protobuf/text_format.py:121\u001b[0m\n",
      "│  │  │     └─ \u001b[92m\u001b[2m0.182\u001b[0m PrintMessage  \u001b[2mgoogle/protobuf/text_format.py:300\u001b[0m\n",
      "│  │  └─ \u001b[92m\u001b[2m0.140\u001b[0m transpose  \u001b[2mpandas/core/frame.py:1835\u001b[0m\n",
      "│  │     └─ \u001b[92m\u001b[2m0.125\u001b[0m transpose  \u001b[2mpandas/core/generic.py:471\u001b[0m\n",
      "│  ├─ \u001b[32m0.616\u001b[0m append  \u001b[2mpandas/core/frame.py:4346\u001b[0m\n",
      "│  │  └─ \u001b[32m0.611\u001b[0m concat  \u001b[2mpandas/tools/merge.py:1396\u001b[0m\n",
      "│  │     ├─ \u001b[92m\u001b[2m0.434\u001b[0m get_result  \u001b[2mpandas/tools/merge.py:1599\u001b[0m\n",
      "│  │     │  └─ \u001b[92m\u001b[2m0.373\u001b[0m concatenate_block_managers  \u001b[2mpandas/core/internals.py:4807\u001b[0m\n",
      "│  │     │     └─ \u001b[92m\u001b[2m0.285\u001b[0m <listcomp>  \u001b[2mpandas/core/internals.py:4823\u001b[0m\n",
      "│  │     │        └─ \u001b[92m\u001b[2m0.193\u001b[0m concatenate_join_units  \u001b[2mpandas/core/internals.py:4910\u001b[0m\n",
      "│  │     │           └─ \u001b[92m\u001b[2m0.121\u001b[0m get_empty_dtype_and_na  \u001b[2mpandas/core/internals.py:4830\u001b[0m\n",
      "│  │     └─ \u001b[92m\u001b[2m0.177\u001b[0m __init__  \u001b[2mpandas/tools/merge.py:1460\u001b[0m\n",
      "│  │        └─ \u001b[92m\u001b[2m0.155\u001b[0m _get_new_axes  \u001b[2mpandas/tools/merge.py:1664\u001b[0m\n",
      "│  └─ \u001b[92m\u001b[2m0.376\u001b[0m __init__  \u001b[2mpandas/core/frame.py:252\u001b[0m\n",
      "│     └─ \u001b[92m\u001b[2m0.375\u001b[0m _init_dict  \u001b[2mpandas/core/frame.py:349\u001b[0m\n",
      "│        └─ \u001b[92m\u001b[2m0.213\u001b[0m _arrays_to_mgr  \u001b[2mpandas/core/frame.py:5391\u001b[0m\n",
      "│           └─ \u001b[92m\u001b[2m0.147\u001b[0m create_block_manager_from_arrays  \u001b[2mpandas/core/internals.py:4259\u001b[0m\n",
      "│              └─ \u001b[92m\u001b[2m0.120\u001b[0m form_blocks  \u001b[2mpandas/core/internals.py:4270\u001b[0m\n",
      "└─ \u001b[33m3.567\u001b[0m parse_tripwise_action_logs_into_trip_log  \u001b[2mprocessing.py:306\u001b[0m\n",
      "   ├─ \u001b[32m1.040\u001b[0m <listcomp>  \u001b[2mprocessing.py:385\u001b[0m\n",
      "   │  └─ \u001b[32m1.038\u001b[0m __init__  \u001b[2mpandas/core/series.py:135\u001b[0m\n",
      "   │     ├─ \u001b[92m\u001b[2m0.371\u001b[0m __new__  \u001b[2mpandas/indexes/base.py:142\u001b[0m\n",
      "   │     │  └─ \u001b[92m\u001b[2m0.216\u001b[0m __new__  \u001b[2mpandas/indexes/base.py:142\u001b[0m\n",
      "   │     └─ \u001b[92m\u001b[2m0.228\u001b[0m _sanitize_array  \u001b[2mpandas/core/series.py:2817\u001b[0m\n",
      "   │        └─ \u001b[92m\u001b[2m0.207\u001b[0m _try_cast  \u001b[2mpandas/core/series.py:2834\u001b[0m\n",
      "   │           └─ \u001b[92m\u001b[2m0.139\u001b[0m _possibly_cast_to_datetime  \u001b[2mpandas/types/cast.py:765\u001b[0m\n",
      "   ├─ \u001b[32m0.940\u001b[0m concat  \u001b[2mpandas/tools/merge.py:1396\u001b[0m\n",
      "   │  ├─ \u001b[92m\u001b[2m0.523\u001b[0m get_result  \u001b[2mpandas/tools/merge.py:1599\u001b[0m\n",
      "   │  │  └─ \u001b[92m\u001b[2m0.419\u001b[0m __init__  \u001b[2mpandas/core/frame.py:252\u001b[0m\n",
      "   │  │     └─ \u001b[92m\u001b[2m0.418\u001b[0m _init_dict  \u001b[2mpandas/core/frame.py:349\u001b[0m\n",
      "   │  │        └─ \u001b[92m\u001b[2m0.391\u001b[0m _arrays_to_mgr  \u001b[2mpandas/core/frame.py:5391\u001b[0m\n",
      "   │  │           ├─ \u001b[92m\u001b[2m0.217\u001b[0m _homogenize  \u001b[2mpandas/core/frame.py:5689\u001b[0m\n",
      "   │  │           │  └─ \u001b[92m\u001b[2m0.210\u001b[0m reindex  \u001b[2mpandas/core/series.py:2360\u001b[0m\n",
      "   │  │           │     └─ \u001b[92m\u001b[2m0.200\u001b[0m reindex  \u001b[2mpandas/core/generic.py:2224\u001b[0m\n",
      "   │  │           │        └─ \u001b[92m\u001b[2m0.142\u001b[0m <listcomp>  \u001b[2mpandas/core/generic.py:2244\u001b[0m\n",
      "   │  │           │           └─ \u001b[92m\u001b[2m0.138\u001b[0m identical  \u001b[2mpandas/indexes/base.py:1663\u001b[0m\n",
      "   │  │           │              └─ \u001b[92m\u001b[2m0.125\u001b[0m equals  \u001b[2mpandas/indexes/base.py:1643\u001b[0m\n",
      "   │  │           └─ \u001b[92m\u001b[2m0.174\u001b[0m create_block_manager_from_arrays  \u001b[2mpandas/core/internals.py:4259\u001b[0m\n",
      "   │  │              └─ \u001b[92m\u001b[2m0.154\u001b[0m form_blocks  \u001b[2mpandas/core/internals.py:4270\u001b[0m\n",
      "   │  └─ \u001b[92m\u001b[2m0.415\u001b[0m __init__  \u001b[2mpandas/tools/merge.py:1460\u001b[0m\n",
      "   │     └─ \u001b[92m\u001b[2m0.205\u001b[0m _get_new_axes  \u001b[2mpandas/tools/merge.py:1664\u001b[0m\n",
      "   │        └─ \u001b[92m\u001b[2m0.153\u001b[0m _get_comb_axis  \u001b[2mpandas/tools/merge.py:1688\u001b[0m\n",
      "   │           └─ \u001b[92m\u001b[2m0.149\u001b[0m _get_combined_index  \u001b[2mpandas/indexes/api.py:25\u001b[0m\n",
      "   │              └─ \u001b[92m\u001b[2m0.139\u001b[0m _union_indexes  \u001b[2mpandas/indexes/api.py:45\u001b[0m\n",
      "   ├─ \u001b[92m\u001b[2m0.473\u001b[0m f  \u001b[2mpandas/core/groupby.py:108\u001b[0m\n",
      "   │  └─ \u001b[92m\u001b[2m0.409\u001b[0m _cython_agg_general  \u001b[2mpandas/core/groupby.py:3125\u001b[0m\n",
      "   │     ├─ \u001b[92m\u001b[2m0.241\u001b[0m _cython_agg_blocks  \u001b[2mpandas/core/groupby.py:3153\u001b[0m\n",
      "   │     │  └─ \u001b[92m\u001b[2m0.148\u001b[0m _get_data_to_aggregate  \u001b[2mpandas/core/groupby.py:3747\u001b[0m\n",
      "   │     │     └─ \u001b[92m\u001b[2m0.146\u001b[0m _obj_with_exclusions  \u001b[2mpandas/core/base.py:317\u001b[0m\n",
      "   │     │        └─ \u001b[92m\u001b[2m0.145\u001b[0m drop  \u001b[2mpandas/core/generic.py:1876\u001b[0m\n",
      "   │     └─ \u001b[92m\u001b[2m0.167\u001b[0m _wrap_agged_blocks  \u001b[2mpandas/core/groupby.py:3787\u001b[0m\n",
      "   │        └─ \u001b[92m\u001b[2m0.146\u001b[0m _convert  \u001b[2mpandas/core/generic.py:3079\u001b[0m\n",
      "   │           └─ \u001b[92m\u001b[2m0.145\u001b[0m convert  \u001b[2mpandas/core/internals.py:3191\u001b[0m\n",
      "   │              └─ \u001b[92m\u001b[2m0.143\u001b[0m apply  \u001b[2mpandas/core/internals.py:2978\u001b[0m\n",
      "   ├─ \u001b[92m\u001b[2m0.243\u001b[0m __init__  \u001b[2mpandas/core/frame.py:252\u001b[0m\n",
      "   │  └─ \u001b[92m\u001b[2m0.241\u001b[0m _init_dict  \u001b[2mpandas/core/frame.py:349\u001b[0m\n",
      "   │     └─ \u001b[92m\u001b[2m0.140\u001b[0m _arrays_to_mgr  \u001b[2mpandas/core/frame.py:5391\u001b[0m\n",
      "   ├─ \u001b[92m\u001b[2m0.238\u001b[0m append  \u001b[2mpandas/core/frame.py:4346\u001b[0m\n",
      "   │  └─ \u001b[92m\u001b[2m0.236\u001b[0m concat  \u001b[2mpandas/tools/merge.py:1396\u001b[0m\n",
      "   │     └─ \u001b[92m\u001b[2m0.141\u001b[0m get_result  \u001b[2mpandas/tools/merge.py:1599\u001b[0m\n",
      "   ├─ \u001b[92m\u001b[2m0.157\u001b[0m reset_index  \u001b[2mpandas/core/frame.py:2940\u001b[0m\n",
      "   └─ \u001b[92m\u001b[2m0.143\u001b[0m iterrows  \u001b[2mpandas/core/frame.py:654\u001b[0m\n",
      "\n"
     ]
    }
   ],
   "source": [
    "from pyinstrument import Profiler\n",
    "\n",
    "profiler = Profiler()\n",
    "profiler.start()\n",
    "\n",
    "# code you want to profile\n",
    "ret2 = parse_feeds_into_trip_logs([gtfs_r[0], gtfs_r[5]], [mta_archival_time_to_unix_timestamp('2014-09-18-09-01'), mta_archival_time_to_unix_timestamp('2014-09-18-09-06')])\n",
    "\n",
    "profiler.stop()\n",
    "\n",
    "print(profiler.output_text(unicode=True, color=True))"
   ]
  },
  {
   "cell_type": "markdown",
   "metadata": {},
   "source": [
    "This trace shows that most of our time is now spent in the list comprehensions that concatenate the results that we created in the earlier optimizations. So if we can get these running even faster, we can get this library running faster. Time to whip out `numpy` arrays."
   ]
  },
  {
   "cell_type": "code",
   "execution_count": 38,
   "metadata": {
    "collapsed": false
   },
   "outputs": [
    {
     "data": {
      "text/html": [
       "<div>\n",
       "<table border=\"1\" class=\"dataframe\">\n",
       "  <thead>\n",
       "    <tr style=\"text-align: right;\">\n",
       "      <th></th>\n",
       "      <th>trip_id</th>\n",
       "      <th>route_id</th>\n",
       "      <th>action</th>\n",
       "      <th>stop_id</th>\n",
       "      <th>time_assigned</th>\n",
       "      <th>information_time</th>\n",
       "    </tr>\n",
       "  </thead>\n",
       "  <tbody>\n",
       "    <tr>\n",
       "      <th>0</th>\n",
       "      <td>047600_1..S02R</td>\n",
       "      <td>1</td>\n",
       "      <td>1411045260</td>\n",
       "      <td>STOPPED_AT</td>\n",
       "      <td>137S</td>\n",
       "      <td>1411044718</td>\n",
       "    </tr>\n",
       "    <tr>\n",
       "      <th>1</th>\n",
       "      <td>047600_1..S02R</td>\n",
       "      <td>1</td>\n",
       "      <td>1411045260</td>\n",
       "      <td>EXPECTED_TO_ARRIVE_AT</td>\n",
       "      <td>138S</td>\n",
       "      <td>1411044928</td>\n",
       "    </tr>\n",
       "    <tr>\n",
       "      <th>2</th>\n",
       "      <td>047600_1..S02R</td>\n",
       "      <td>1</td>\n",
       "      <td>1411045260</td>\n",
       "      <td>EXPECTED_TO_DEPART_AT</td>\n",
       "      <td>138S</td>\n",
       "      <td>1411044928</td>\n",
       "    </tr>\n",
       "    <tr>\n",
       "      <th>3</th>\n",
       "      <td>047600_1..S02R</td>\n",
       "      <td>1</td>\n",
       "      <td>1411045260</td>\n",
       "      <td>EXPECTED_TO_ARRIVE_AT</td>\n",
       "      <td>139S</td>\n",
       "      <td>1411045018</td>\n",
       "    </tr>\n",
       "    <tr>\n",
       "      <th>4</th>\n",
       "      <td>047600_1..S02R</td>\n",
       "      <td>1</td>\n",
       "      <td>1411045260</td>\n",
       "      <td>EXPECTED_TO_DEPART_AT</td>\n",
       "      <td>139S</td>\n",
       "      <td>1411045078</td>\n",
       "    </tr>\n",
       "    <tr>\n",
       "      <th>5</th>\n",
       "      <td>047600_1..S02R</td>\n",
       "      <td>1</td>\n",
       "      <td>1411045260</td>\n",
       "      <td>EXPECTED_TO_DEPART_AT</td>\n",
       "      <td>139S</td>\n",
       "      <td>1411045078</td>\n",
       "    </tr>\n",
       "  </tbody>\n",
       "</table>\n",
       "</div>"
      ],
      "text/plain": [
       "          trip_id route_id      action                stop_id time_assigned  \\\n",
       "0  047600_1..S02R        1  1411045260             STOPPED_AT          137S   \n",
       "1  047600_1..S02R        1  1411045260  EXPECTED_TO_ARRIVE_AT          138S   \n",
       "2  047600_1..S02R        1  1411045260  EXPECTED_TO_DEPART_AT          138S   \n",
       "3  047600_1..S02R        1  1411045260  EXPECTED_TO_ARRIVE_AT          139S   \n",
       "4  047600_1..S02R        1  1411045260  EXPECTED_TO_DEPART_AT          139S   \n",
       "5  047600_1..S02R        1  1411045260  EXPECTED_TO_DEPART_AT          139S   \n",
       "\n",
       "  information_time  \n",
       "0       1411044718  \n",
       "1       1411044928  \n",
       "2       1411044928  \n",
       "3       1411045018  \n",
       "4       1411045078  \n",
       "5       1411045078  "
      ]
     },
     "execution_count": 38,
     "metadata": {},
     "output_type": "execute_result"
    }
   ],
   "source": [
    "parse_message_into_action_log(gtfs_r[0].entity[0], gtfs_r[0].entity[1],\n",
    "                      mta_archival_time_to_unix_timestamp('2014-09-18-09-01'))"
   ]
  },
  {
   "cell_type": "markdown",
   "metadata": {},
   "source": [
    "After."
   ]
  },
  {
   "cell_type": "code",
   "execution_count": 10,
   "metadata": {
    "collapsed": true
   },
   "outputs": [],
   "source": [
    "from processing import parse_message_into_action_log"
   ]
  },
  {
   "cell_type": "code",
   "execution_count": 26,
   "metadata": {
    "collapsed": false
   },
   "outputs": [
    {
     "data": {
      "text/html": [
       "<div>\n",
       "<table border=\"1\" class=\"dataframe\">\n",
       "  <thead>\n",
       "    <tr style=\"text-align: right;\">\n",
       "      <th></th>\n",
       "      <th>trip_id</th>\n",
       "      <th>route_id</th>\n",
       "      <th>information_time</th>\n",
       "      <th>action</th>\n",
       "      <th>stop_id</th>\n",
       "      <th>time_assigned</th>\n",
       "    </tr>\n",
       "  </thead>\n",
       "  <tbody>\n",
       "    <tr>\n",
       "      <th>0</th>\n",
       "      <td>047600_1..S02R</td>\n",
       "      <td>1</td>\n",
       "      <td>1411045260</td>\n",
       "      <td>STOPPED_AT</td>\n",
       "      <td>137S</td>\n",
       "      <td>1411044718</td>\n",
       "    </tr>\n",
       "    <tr>\n",
       "      <th>1</th>\n",
       "      <td>047600_1..S02R</td>\n",
       "      <td>1</td>\n",
       "      <td>1411045260</td>\n",
       "      <td>EXPECTED_TO_ARRIVE_AT</td>\n",
       "      <td>138S</td>\n",
       "      <td>1411044928</td>\n",
       "    </tr>\n",
       "    <tr>\n",
       "      <th>2</th>\n",
       "      <td>047600_1..S02R</td>\n",
       "      <td>1</td>\n",
       "      <td>1411045260</td>\n",
       "      <td>EXPECTED_TO_DEPART_AT</td>\n",
       "      <td>138S</td>\n",
       "      <td>1411044928</td>\n",
       "    </tr>\n",
       "    <tr>\n",
       "      <th>3</th>\n",
       "      <td>047600_1..S02R</td>\n",
       "      <td>1</td>\n",
       "      <td>1411045260</td>\n",
       "      <td>EXPECTED_TO_ARRIVE_AT</td>\n",
       "      <td>139S</td>\n",
       "      <td>1411045018</td>\n",
       "    </tr>\n",
       "    <tr>\n",
       "      <th>4</th>\n",
       "      <td>047600_1..S02R</td>\n",
       "      <td>1</td>\n",
       "      <td>1411045260</td>\n",
       "      <td>EXPECTED_TO_DEPART_AT</td>\n",
       "      <td>139S</td>\n",
       "      <td>1411045078</td>\n",
       "    </tr>\n",
       "    <tr>\n",
       "      <th>5</th>\n",
       "      <td>047600_1..S02R</td>\n",
       "      <td>1</td>\n",
       "      <td>1411045260</td>\n",
       "      <td>EXPECTED_TO_ARRIVE_AT</td>\n",
       "      <td>140S</td>\n",
       "      <td>1411045228</td>\n",
       "    </tr>\n",
       "  </tbody>\n",
       "</table>\n",
       "</div>"
      ],
      "text/plain": [
       "          trip_id route_id information_time                 action stop_id  \\\n",
       "0  047600_1..S02R        1       1411045260             STOPPED_AT    137S   \n",
       "1  047600_1..S02R        1       1411045260  EXPECTED_TO_ARRIVE_AT    138S   \n",
       "2  047600_1..S02R        1       1411045260  EXPECTED_TO_DEPART_AT    138S   \n",
       "3  047600_1..S02R        1       1411045260  EXPECTED_TO_ARRIVE_AT    139S   \n",
       "4  047600_1..S02R        1       1411045260  EXPECTED_TO_DEPART_AT    139S   \n",
       "5  047600_1..S02R        1       1411045260  EXPECTED_TO_ARRIVE_AT    140S   \n",
       "\n",
       "  time_assigned  \n",
       "0    1411044718  \n",
       "1    1411044928  \n",
       "2    1411044928  \n",
       "3    1411045018  \n",
       "4    1411045078  \n",
       "5    1411045228  "
      ]
     },
     "execution_count": 26,
     "metadata": {},
     "output_type": "execute_result"
    }
   ],
   "source": [
    "parse_message_into_action_log(gtfs_r[0].entity[0], gtfs_r[0].entity[1],\n",
    "                      mta_archival_time_to_unix_timestamp('2014-09-18-09-01'))"
   ]
  },
  {
   "cell_type": "code",
   "execution_count": 20,
   "metadata": {
    "collapsed": false,
    "scrolled": false
   },
   "outputs": [
    {
     "name": "stdout",
     "output_type": "stream",
     "text": [
      "\u001b[31m5.503\u001b[0m parse_feeds_into_trip_logs  \u001b[2mprocessing.py:491\u001b[0m\n",
      "├─ \u001b[33m2.995\u001b[0m parse_tripwise_action_logs_into_trip_log  \u001b[2mprocessing.py:298\u001b[0m\n",
      "│  ├─ \u001b[32m0.727\u001b[0m iterrows  \u001b[2mpandas/core/frame.py:654\u001b[0m\n",
      "│  │  ├─ \u001b[32m0.645\u001b[0m __init__  \u001b[2mpandas/core/series.py:135\u001b[0m\n",
      "│  │  │  ├─ \u001b[32m0.352\u001b[0m _sanitize_array  \u001b[2mpandas/core/series.py:2817\u001b[0m\n",
      "│  │  │  │  └─ \u001b[32m0.320\u001b[0m _try_cast  \u001b[2mpandas/core/series.py:2834\u001b[0m\n",
      "│  │  │  │     ├─ \u001b[92m\u001b[2m0.199\u001b[0m _possibly_cast_to_datetime  \u001b[2mpandas/types/cast.py:765\u001b[0m\n",
      "│  │  │  │     │  └─ \u001b[92m\u001b[2m0.137\u001b[0m _possibly_infer_to_datetimelike  \u001b[2mpandas/types/cast.py:672\u001b[0m\n",
      "│  │  │  │     └─ \u001b[92m\u001b[2m0.089\u001b[0m is_extension_type  \u001b[2mpandas/types/common.py:301\u001b[0m\n",
      "│  │  │  ├─ \u001b[92m\u001b[2m0.152\u001b[0m __init__  \u001b[2mpandas/core/internals.py:4031\u001b[0m\n",
      "│  │  │  │  └─ \u001b[92m\u001b[2m0.119\u001b[0m make_block  \u001b[2mpandas/core/internals.py:2649\u001b[0m\n",
      "│  │  │  └─ \u001b[92m\u001b[2m0.063\u001b[0m __setattr__  \u001b[2mpandas/core/generic.py:2746\u001b[0m\n",
      "│  │  └─ \u001b[92m\u001b[2m0.066\u001b[0m values  \u001b[2mpandas/core/generic.py:2910\u001b[0m\n",
      "│  │     └─ \u001b[92m\u001b[2m0.065\u001b[0m as_matrix  \u001b[2mpandas/core/generic.py:2868\u001b[0m\n",
      "│  │        └─ \u001b[92m\u001b[2m0.060\u001b[0m _consolidate_inplace  \u001b[2mpandas/core/generic.py:2795\u001b[0m\n",
      "│  │           └─ \u001b[92m\u001b[2m0.060\u001b[0m _protect_consolidate  \u001b[2mpandas/core/generic.py:2785\u001b[0m\n",
      "│  │              └─ \u001b[92m\u001b[2m0.060\u001b[0m f  \u001b[2mpandas/core/generic.py:2798\u001b[0m\n",
      "│  │                 └─ \u001b[92m\u001b[2m0.056\u001b[0m consolidate  \u001b[2mpandas/core/internals.py:3513\u001b[0m\n",
      "│  ├─ \u001b[32m0.488\u001b[0m f  \u001b[2mpandas/core/groupby.py:108\u001b[0m\n",
      "│  │  ├─ \u001b[32m0.420\u001b[0m _cython_agg_general  \u001b[2mpandas/core/groupby.py:3125\u001b[0m\n",
      "│  │  │  ├─ \u001b[92m\u001b[2m0.224\u001b[0m _cython_agg_blocks  \u001b[2mpandas/core/groupby.py:3153\u001b[0m\n",
      "│  │  │  │  ├─ \u001b[92m\u001b[2m0.155\u001b[0m _get_data_to_aggregate  \u001b[2mpandas/core/groupby.py:3747\u001b[0m\n",
      "│  │  │  │  │  └─ \u001b[92m\u001b[2m0.152\u001b[0m _obj_with_exclusions  \u001b[2mpandas/core/base.py:317\u001b[0m\n",
      "│  │  │  │  │     └─ \u001b[92m\u001b[2m0.151\u001b[0m drop  \u001b[2mpandas/core/generic.py:1876\u001b[0m\n",
      "│  │  │  │  │        └─ \u001b[92m\u001b[2m0.100\u001b[0m reindex  \u001b[2mpandas/core/frame.py:2818\u001b[0m\n",
      "│  │  │  │  │           └─ \u001b[92m\u001b[2m0.100\u001b[0m reindex  \u001b[2mpandas/core/generic.py:2224\u001b[0m\n",
      "│  │  │  │  │              └─ \u001b[92m\u001b[2m0.082\u001b[0m _reindex_axes  \u001b[2mpandas/core/frame.py:2755\u001b[0m\n",
      "│  │  │  │  │                 └─ \u001b[92m\u001b[2m0.080\u001b[0m _reindex_columns  \u001b[2mpandas/core/frame.py:2780\u001b[0m\n",
      "│  │  │  │  │                    └─ \u001b[92m\u001b[2m0.074\u001b[0m _reindex_with_indexers  \u001b[2mpandas/core/generic.py:2350\u001b[0m\n",
      "│  │  │  │  │                       └─ \u001b[92m\u001b[2m0.069\u001b[0m reindex_indexer  \u001b[2mpandas/core/internals.py:3813\u001b[0m\n",
      "│  │  │  │  └─ \u001b[92m\u001b[2m0.059\u001b[0m aggregate  \u001b[2mpandas/core/groupby.py:1905\u001b[0m\n",
      "│  │  │  │     └─ \u001b[92m\u001b[2m0.059\u001b[0m _cython_operation  \u001b[2mpandas/core/groupby.py:1807\u001b[0m\n",
      "│  │  │  └─ \u001b[92m\u001b[2m0.196\u001b[0m _wrap_agged_blocks  \u001b[2mpandas/core/groupby.py:3787\u001b[0m\n",
      "│  │  │     └─ \u001b[92m\u001b[2m0.178\u001b[0m _convert  \u001b[2mpandas/core/generic.py:3079\u001b[0m\n",
      "│  │  │        └─ \u001b[92m\u001b[2m0.175\u001b[0m convert  \u001b[2mpandas/core/internals.py:3191\u001b[0m\n",
      "│  │  │           └─ \u001b[92m\u001b[2m0.173\u001b[0m apply  \u001b[2mpandas/core/internals.py:2978\u001b[0m\n",
      "│  │  │              └─ \u001b[92m\u001b[2m0.106\u001b[0m convert  \u001b[2mpandas/core/internals.py:1827\u001b[0m\n",
      "│  │  └─ \u001b[92m\u001b[2m0.068\u001b[0m _set_group_selection  \u001b[2mpandas/core/groupby.py:485\u001b[0m\n",
      "│  ├─ \u001b[32m0.487\u001b[0m concat  \u001b[2mpandas/tools/merge.py:1396\u001b[0m\n",
      "│  │  ├─ \u001b[32m0.276\u001b[0m __init__  \u001b[2mpandas/tools/merge.py:1460\u001b[0m\n",
      "│  │  │  ├─ \u001b[92m\u001b[2m0.121\u001b[0m consolidate  \u001b[2mpandas/core/generic.py:2803\u001b[0m\n",
      "│  │  │  │  └─ \u001b[92m\u001b[2m0.120\u001b[0m _consolidate_inplace  \u001b[2mpandas/core/generic.py:2795\u001b[0m\n",
      "│  │  │  │     └─ \u001b[92m\u001b[2m0.119\u001b[0m _protect_consolidate  \u001b[2mpandas/core/generic.py:2785\u001b[0m\n",
      "│  │  │  │        └─ \u001b[92m\u001b[2m0.118\u001b[0m f  \u001b[2mpandas/core/generic.py:2798\u001b[0m\n",
      "│  │  │  │           └─ \u001b[92m\u001b[2m0.116\u001b[0m consolidate  \u001b[2mpandas/core/internals.py:3513\u001b[0m\n",
      "│  │  │  │              └─ \u001b[92m\u001b[2m0.080\u001b[0m _consolidate_inplace  \u001b[2mpandas/core/internals.py:3529\u001b[0m\n",
      "│  │  │  │                 └─ \u001b[92m\u001b[2m0.058\u001b[0m _consolidate  \u001b[2mpandas/core/internals.py:4511\u001b[0m\n",
      "│  │  │  ├─ \u001b[92m\u001b[2m0.084\u001b[0m __init__  \u001b[2mpandas/core/frame.py:252\u001b[0m\n",
      "│  │  │  │  └─ \u001b[92m\u001b[2m0.083\u001b[0m _init_dict  \u001b[2mpandas/core/frame.py:349\u001b[0m\n",
      "│  │  │  └─ \u001b[92m\u001b[2m0.062\u001b[0m _get_new_axes  \u001b[2mpandas/tools/merge.py:1664\u001b[0m\n",
      "│  │  └─ \u001b[92m\u001b[2m0.208\u001b[0m get_result  \u001b[2mpandas/tools/merge.py:1599\u001b[0m\n",
      "│  │     ├─ \u001b[92m\u001b[2m0.127\u001b[0m __init__  \u001b[2mpandas/core/frame.py:252\u001b[0m\n",
      "│  │     │  └─ \u001b[92m\u001b[2m0.124\u001b[0m _init_dict  \u001b[2mpandas/core/frame.py:349\u001b[0m\n",
      "│  │     │     └─ \u001b[92m\u001b[2m0.095\u001b[0m _arrays_to_mgr  \u001b[2mpandas/core/frame.py:5391\u001b[0m\n",
      "│  │     │        └─ \u001b[92m\u001b[2m0.077\u001b[0m create_block_manager_from_arrays  \u001b[2mpandas/core/internals.py:4259\u001b[0m\n",
      "│  │     │           └─ \u001b[92m\u001b[2m0.060\u001b[0m form_blocks  \u001b[2mpandas/core/internals.py:4270\u001b[0m\n",
      "│  │     └─ \u001b[92m\u001b[2m0.071\u001b[0m concatenate_block_managers  \u001b[2mpandas/core/internals.py:4807\u001b[0m\n",
      "│  ├─ \u001b[32m0.326\u001b[0m __getitem__  \u001b[2mpandas/core/series.py:600\u001b[0m\n",
      "│  │  └─ \u001b[92m\u001b[2m0.267\u001b[0m get_value  \u001b[2mpandas/indexes/base.py:2146\u001b[0m\n",
      "│  ├─ \u001b[92m\u001b[2m0.237\u001b[0m append  \u001b[2mpandas/core/frame.py:4346\u001b[0m\n",
      "│  │  └─ \u001b[92m\u001b[2m0.234\u001b[0m concat  \u001b[2mpandas/tools/merge.py:1396\u001b[0m\n",
      "│  │     ├─ \u001b[92m\u001b[2m0.142\u001b[0m get_result  \u001b[2mpandas/tools/merge.py:1599\u001b[0m\n",
      "│  │     │  └─ \u001b[92m\u001b[2m0.099\u001b[0m concatenate_block_managers  \u001b[2mpandas/core/internals.py:4807\u001b[0m\n",
      "│  │     └─ \u001b[92m\u001b[2m0.093\u001b[0m __init__  \u001b[2mpandas/tools/merge.py:1460\u001b[0m\n",
      "│  │        └─ \u001b[92m\u001b[2m0.081\u001b[0m _get_new_axes  \u001b[2mpandas/tools/merge.py:1664\u001b[0m\n",
      "│  ├─ \u001b[92m\u001b[2m0.216\u001b[0m __init__  \u001b[2mpandas/core/frame.py:252\u001b[0m\n",
      "│  │  └─ \u001b[92m\u001b[2m0.216\u001b[0m _init_dict  \u001b[2mpandas/core/frame.py:349\u001b[0m\n",
      "│  │     └─ \u001b[92m\u001b[2m0.146\u001b[0m _arrays_to_mgr  \u001b[2mpandas/core/frame.py:5391\u001b[0m\n",
      "│  │        └─ \u001b[92m\u001b[2m0.108\u001b[0m create_block_manager_from_arrays  \u001b[2mpandas/core/internals.py:4259\u001b[0m\n",
      "│  │           └─ \u001b[92m\u001b[2m0.092\u001b[0m form_blocks  \u001b[2mpandas/core/internals.py:4270\u001b[0m\n",
      "│  ├─ \u001b[92m\u001b[2m0.136\u001b[0m reset_index  \u001b[2mpandas/core/frame.py:2940\u001b[0m\n",
      "│  │  └─ \u001b[92m\u001b[2m0.083\u001b[0m insert  \u001b[2mpandas/core/frame.py:2494\u001b[0m\n",
      "│  │     └─ \u001b[92m\u001b[2m0.068\u001b[0m insert  \u001b[2mpandas/core/internals.py:3748\u001b[0m\n",
      "│  ├─ \u001b[92m\u001b[2m0.124\u001b[0m <listcomp>  \u001b[2mprocessing.py:377\u001b[0m\n",
      "│  │  └─ \u001b[92m\u001b[2m0.123\u001b[0m __init__  \u001b[2mpandas/core/series.py:135\u001b[0m\n",
      "│  ├─ \u001b[92m\u001b[2m0.066\u001b[0m __getitem__  \u001b[2mpandas/core/indexing.py:1302\u001b[0m\n",
      "│  │  └─ \u001b[92m\u001b[2m0.064\u001b[0m _getitem_axis  \u001b[2mpandas/core/indexing.py:1599\u001b[0m\n",
      "│  │     └─ \u001b[92m\u001b[2m0.055\u001b[0m _get_loc  \u001b[2mpandas/core/indexing.py:104\u001b[0m\n",
      "│  │        └─ \u001b[92m\u001b[2m0.055\u001b[0m _ixs  \u001b[2mpandas/core/frame.py:1953\u001b[0m\n",
      "│  └─ \u001b[92m\u001b[2m0.063\u001b[0m extract_synthetic_route_from_tripwise_action_logs  \u001b[2mprocessing.py:397\u001b[0m\n",
      "└─ \u001b[33m2.419\u001b[0m parse_message_list_into_action_log  \u001b[2mprocessing.py:47\u001b[0m\n",
      "   ├─ \u001b[33m1.214\u001b[0m parse_message_into_action_log  \u001b[2mprocessing.py:101\u001b[0m\n",
      "   │  ├─ \u001b[32m0.541\u001b[0m __init__  \u001b[2mpandas/core/frame.py:252\u001b[0m\n",
      "   │  │  ├─ \u001b[32m0.286\u001b[0m _arrays_to_mgr  \u001b[2mpandas/core/frame.py:5391\u001b[0m\n",
      "   │  │  │  ├─ \u001b[92m\u001b[2m0.151\u001b[0m create_block_manager_from_arrays  \u001b[2mpandas/core/internals.py:4259\u001b[0m\n",
      "   │  │  │  │  └─ \u001b[92m\u001b[2m0.125\u001b[0m form_blocks  \u001b[2mpandas/core/internals.py:4270\u001b[0m\n",
      "   │  │  │  └─ \u001b[92m\u001b[2m0.133\u001b[0m _homogenize  \u001b[2mpandas/core/frame.py:5689\u001b[0m\n",
      "   │  │  │     └─ \u001b[92m\u001b[2m0.129\u001b[0m _sanitize_array  \u001b[2mpandas/core/series.py:2817\u001b[0m\n",
      "   │  │  │        └─ \u001b[92m\u001b[2m0.111\u001b[0m _try_cast  \u001b[2mpandas/core/series.py:2834\u001b[0m\n",
      "   │  │  │           └─ \u001b[92m\u001b[2m0.068\u001b[0m _possibly_cast_to_datetime  \u001b[2mpandas/types/cast.py:765\u001b[0m\n",
      "   │  │  └─ \u001b[92m\u001b[2m0.211\u001b[0m _to_arrays  \u001b[2mpandas/core/frame.py:5497\u001b[0m\n",
      "   │  │     ├─ \u001b[92m\u001b[2m0.143\u001b[0m _list_to_arrays  \u001b[2mpandas/core/frame.py:5591\u001b[0m\n",
      "   │  │     │  └─ \u001b[92m\u001b[2m0.130\u001b[0m _convert_object_array  \u001b[2mpandas/core/frame.py:5650\u001b[0m\n",
      "   │  │     │     └─ \u001b[92m\u001b[2m0.130\u001b[0m <listcomp>  \u001b[2mpandas/core/frame.py:5666\u001b[0m\n",
      "   │  │     │        └─ \u001b[92m\u001b[2m0.129\u001b[0m convert  \u001b[2mpandas/core/frame.py:5660\u001b[0m\n",
      "   │  │     │           └─ \u001b[92m\u001b[2m0.074\u001b[0m _possibly_cast_to_datetime  \u001b[2mpandas/types/cast.py:765\u001b[0m\n",
      "   │  │     │              └─ \u001b[92m\u001b[2m0.057\u001b[0m _possibly_infer_to_datetimelike  \u001b[2mpandas/types/cast.py:672\u001b[0m\n",
      "   │  │     └─ \u001b[92m\u001b[2m0.060\u001b[0m lmap  \u001b[2mpandas/compat/__init__.py:122\u001b[0m\n",
      "   │  ├─ \u001b[32m0.327\u001b[0m __str__  \u001b[2mgoogle/protobuf/internal/python_message.py:964\u001b[0m\n",
      "   │  │  └─ \u001b[32m0.311\u001b[0m MessageToString  \u001b[2mgoogle/protobuf/text_format.py:121\u001b[0m\n",
      "   │  │     └─ \u001b[92m\u001b[2m0.228\u001b[0m PrintMessage  \u001b[2mgoogle/protobuf/text_format.py:300\u001b[0m\n",
      "   │  │        ├─ \u001b[92m\u001b[2m0.104\u001b[0m PrintField  \u001b[2mgoogle/protobuf/text_format.py:328\u001b[0m\n",
      "   │  │        └─ \u001b[92m\u001b[2m0.089\u001b[0m ListFields  \u001b[2mgoogle/protobuf/internal/python_message.py:776\u001b[0m\n",
      "   │  └─ \u001b[92m\u001b[2m0.129\u001b[0m append  \u001b[2mnumpy/lib/function_base.py:4534\u001b[0m\n",
      "   ├─ \u001b[32m0.788\u001b[0m append  \u001b[2mpandas/core/frame.py:4346\u001b[0m\n",
      "   │  └─ \u001b[32m0.786\u001b[0m concat  \u001b[2mpandas/tools/merge.py:1396\u001b[0m\n",
      "   │     ├─ \u001b[32m0.626\u001b[0m get_result  \u001b[2mpandas/tools/merge.py:1599\u001b[0m\n",
      "   │     │  ├─ \u001b[32m0.524\u001b[0m concatenate_block_managers  \u001b[2mpandas/core/internals.py:4807\u001b[0m\n",
      "   │     │  │  ├─ \u001b[32m0.378\u001b[0m <listcomp>  \u001b[2mpandas/core/internals.py:4823\u001b[0m\n",
      "   │     │  │  │  └─ \u001b[32m0.316\u001b[0m concatenate_join_units  \u001b[2mpandas/core/internals.py:4910\u001b[0m\n",
      "   │     │  │  │     ├─ \u001b[92m\u001b[2m0.166\u001b[0m get_empty_dtype_and_na  \u001b[2mpandas/core/internals.py:4830\u001b[0m\n",
      "   │     │  │  │     │  └─ \u001b[92m\u001b[2m0.098\u001b[0m is_null  \u001b[2mpandas/core/internals.py:5141\u001b[0m\n",
      "   │     │  │  │     │     └─ \u001b[92m\u001b[2m0.062\u001b[0m isnull  \u001b[2mpandas/types/missing.py:27\u001b[0m\n",
      "   │     │  │  │     │        └─ \u001b[92m\u001b[2m0.062\u001b[0m _isnull_new  \u001b[2mpandas/types/missing.py:48\u001b[0m\n",
      "   │     │  │  │     ├─ \u001b[92m\u001b[2m0.089\u001b[0m <listcomp>  \u001b[2mpandas/core/internals.py:4920\u001b[0m\n",
      "   │     │  │  │     │  └─ \u001b[92m\u001b[2m0.085\u001b[0m get_reindexed_values  \u001b[2mpandas/core/internals.py:5170\u001b[0m\n",
      "   │     │  │  │     │     └─ \u001b[92m\u001b[2m0.059\u001b[0m take_nd  \u001b[2mpandas/core/algorithms.py:1010\u001b[0m\n",
      "   │     │  │  │     └─ \u001b[92m\u001b[2m0.057\u001b[0m _concat_compat  \u001b[2mpandas/types/concat.py:99\u001b[0m\n",
      "   │     │  │  └─ \u001b[92m\u001b[2m0.112\u001b[0m <listcomp>  \u001b[2mpandas/core/internals.py:4820\u001b[0m\n",
      "   │     │  │     └─ \u001b[92m\u001b[2m0.110\u001b[0m get_mgr_concatenation_plan  \u001b[2mpandas/core/internals.py:4935\u001b[0m\n",
      "   │     │  │        └─ \u001b[92m\u001b[2m0.077\u001b[0m take_nd  \u001b[2mpandas/core/algorithms.py:1010\u001b[0m\n",
      "   │     │  └─ \u001b[92m\u001b[2m0.066\u001b[0m reindex  \u001b[2mpandas/indexes/base.py:2496\u001b[0m\n",
      "   │     └─ \u001b[92m\u001b[2m0.159\u001b[0m __init__  \u001b[2mpandas/tools/merge.py:1460\u001b[0m\n",
      "   │        └─ \u001b[92m\u001b[2m0.145\u001b[0m _get_new_axes  \u001b[2mpandas/tools/merge.py:1664\u001b[0m\n",
      "   │           ├─ \u001b[92m\u001b[2m0.078\u001b[0m _get_concat_axis  \u001b[2mpandas/tools/merge.py:1700\u001b[0m\n",
      "   │           │  └─ \u001b[92m\u001b[2m0.074\u001b[0m _concat_indexes  \u001b[2mpandas/tools/merge.py:1756\u001b[0m\n",
      "   │           │     └─ \u001b[92m\u001b[2m0.074\u001b[0m append  \u001b[2mpandas/indexes/base.py:1440\u001b[0m\n",
      "   │           └─ \u001b[92m\u001b[2m0.063\u001b[0m _get_comb_axis  \u001b[2mpandas/tools/merge.py:1688\u001b[0m\n",
      "   │              └─ \u001b[92m\u001b[2m0.063\u001b[0m _get_combined_index  \u001b[2mpandas/indexes/api.py:25\u001b[0m\n",
      "   │                 └─ \u001b[92m\u001b[2m0.061\u001b[0m _union_indexes  \u001b[2mpandas/indexes/api.py:45\u001b[0m\n",
      "   └─ \u001b[32m0.379\u001b[0m __init__  \u001b[2mpandas/core/frame.py:252\u001b[0m\n",
      "      └─ \u001b[32m0.376\u001b[0m _init_dict  \u001b[2mpandas/core/frame.py:349\u001b[0m\n",
      "         ├─ \u001b[92m\u001b[2m0.224\u001b[0m _arrays_to_mgr  \u001b[2mpandas/core/frame.py:5391\u001b[0m\n",
      "         │  ├─ \u001b[92m\u001b[2m0.146\u001b[0m create_block_manager_from_arrays  \u001b[2mpandas/core/internals.py:4259\u001b[0m\n",
      "         │  │  └─ \u001b[92m\u001b[2m0.115\u001b[0m form_blocks  \u001b[2mpandas/core/internals.py:4270\u001b[0m\n",
      "         │  └─ \u001b[92m\u001b[2m0.076\u001b[0m _homogenize  \u001b[2mpandas/core/frame.py:5689\u001b[0m\n",
      "         │     └─ \u001b[92m\u001b[2m0.071\u001b[0m _sanitize_array  \u001b[2mpandas/core/series.py:2817\u001b[0m\n",
      "         │        └─ \u001b[92m\u001b[2m0.055\u001b[0m _try_cast  \u001b[2mpandas/core/series.py:2834\u001b[0m\n",
      "         └─ \u001b[92m\u001b[2m0.072\u001b[0m extract_index  \u001b[2mpandas/core/frame.py:5411\u001b[0m\n",
      "            └─ \u001b[92m\u001b[2m0.069\u001b[0m __new__  \u001b[2mpandas/indexes/base.py:142\u001b[0m\n",
      "\n"
     ]
    }
   ],
   "source": [
    "from pyinstrument import Profiler\n",
    "\n",
    "profiler = Profiler()\n",
    "profiler.start()\n",
    "\n",
    "# code you want to profile\n",
    "ret2 = parse_feeds_into_trip_logs([gtfs_r[0], gtfs_r[5]], [mta_archival_time_to_unix_timestamp('2014-09-18-09-01'), mta_archival_time_to_unix_timestamp('2014-09-18-09-06')])\n",
    "\n",
    "profiler.stop()\n",
    "\n",
    "print(profiler.output_text(unicode=True, color=True))"
   ]
  },
  {
   "cell_type": "markdown",
   "metadata": {
    "collapsed": true
   },
   "source": [
    "That's another ~60% speedup!"
   ]
  },
  {
   "cell_type": "code",
   "execution_count": 22,
   "metadata": {
    "collapsed": false
   },
   "outputs": [
    {
     "name": "stdout",
     "output_type": "stream",
     "text": [
      " "
     ]
    }
   ],
   "source": [
    "%prun ret2 = parse_feeds_into_trip_logs([gtfs_r[0], gtfs_r[5]], [mta_archival_time_to_unix_timestamp('2014-09-18-09-01'), mta_archival_time_to_unix_timestamp('2014-09-18-09-06')])"
   ]
  },
  {
   "cell_type": "markdown",
   "metadata": {},
   "source": [
    "This now runs in 7 seconds:\n",
    "\n",
    "         9222335 function calls (9089769 primitive calls) in 7.291 seconds"
   ]
  },
  {
   "cell_type": "markdown",
   "metadata": {},
   "source": [
    "Let's apply this speedup to the trip logging as well."
   ]
  },
  {
   "cell_type": "code",
   "execution_count": null,
   "metadata": {
    "collapsed": true
   },
   "outputs": [],
   "source": []
  }
 ],
 "metadata": {
  "kernelspec": {
   "display_name": "Python 3",
   "language": "python",
   "name": "python3"
  },
  "language_info": {
   "codemirror_mode": {
    "name": "ipython",
    "version": 3
   },
   "file_extension": ".py",
   "mimetype": "text/x-python",
   "name": "python",
   "nbconvert_exporter": "python",
   "pygments_lexer": "ipython3",
   "version": "3.4.5"
  }
 },
 "nbformat": 4,
 "nbformat_minor": 2
}
