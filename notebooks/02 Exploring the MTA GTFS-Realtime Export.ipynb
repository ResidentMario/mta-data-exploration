{
 "cells": [
  {
   "cell_type": "markdown",
   "metadata": {},
   "source": [
    "# About\n",
    "\n",
    "## Protobuff\n",
    "\n",
    "Real-time subway data is provided in the GTFS-Realtime format. This format uses the Google Protobuff spec, an abstract data specification that allows Google to distribute transit API wrappers in various languages more easily.\n",
    "\n",
    "Google has a protobuff CLI tool that ingests a data specification and outputs an object-based API for interfacing with that spec, which can generate (distributable) packages for working with that spec in various languages. Python is included, obviously, with the output being a `.py` file. The Python implementation is metaprogrammming based, by the way.\n",
    "\n",
    "I could use the Protobuff tool directly, however, there's no need to do so, since the resultant package is distributed via PyPi.\n",
    "\n",
    "There are three versions of Protobuff. Protobuff 2 is Python 2 only, while Protobuff 3 is Python 2/3 compatible. Protobuff 1 was only ever used internally within Google, before it was open-sourced.\n",
    "\n",
    "## GTFS-Realtime\n",
    "\n",
    "The GTFS-Realtime binding is distributed via PyPI ([GitHub link](https://github.com/google/gtfs-realtime-bindings/blob/master/python/README.md)). However, Google is internally still on Python 2, as is the Transit team. Since the package is open-source, someone has contributed a [pull request](https://github.com/google/gtfs-realtime-bindings/pull/20) with an update (`0.0.4` -> `0.0.5`) which updates the PyPi module to be compatible with Protobuff 3. However, Google has been extremely slow at getting this PR distributed onto PyPi; ironically this was starting to happen just as I started getting into this project (see [here](https://github.com/google/gtfs-realtime-bindings/issues/21)).\n",
    "\n",
    "I don't want to work in Python 2 though, so I need to get the latest version.\n",
    "\n",
    "To get the latest version right now, I have to clone the repository and do a `setup.py` install, because the git repo includes *all* of the language bindings (weird as that is) in subfolders, and hence the `git+git` trick doesn't work.\n",
    "\n",
    "From Desktop:\n",
    "\n",
    "```shell\n",
    "git clone https://github.com/google/gtfs-realtime-bindings.git\n",
    "cd gtfs-realtime-bindings/python\n",
    "python setup.py install\n",
    "```\n",
    "\n",
    "Unfortunately, there's a complicated issue in the install environment (see [#21](https://github.com/google/gtfs-realtime-bindings/issues/21#issuecomment-309898505)). TLDR: you have to do this install from and use a Python 3.4 environment."
   ]
  },
  {
   "cell_type": "markdown",
   "metadata": {},
   "source": [
    "## Parsing the Data"
   ]
  },
  {
   "cell_type": "code",
   "execution_count": 1,
   "metadata": {
    "collapsed": false,
    "scrolled": false
   },
   "outputs": [],
   "source": [
    "from google.transit import gtfs_realtime_pb2\n",
    "import requests\n",
    "\n",
    "feed = gtfs_realtime_pb2.FeedMessage()\n",
    "response = requests.get('http://datamine.mta.info/mta_esi.php?key=224a3669a50efeb1b61d3fb3694a0a17&feed_id=1')\n",
    "feed.ParseFromString(response.content)\n",
    "# for entity in feed.entity:\n",
    "#   if entity.HasField('trip_update'):\n",
    "#     print(entity.trip_update)"
   ]
  },
  {
   "cell_type": "code",
   "execution_count": 2,
   "metadata": {
    "collapsed": false
   },
   "outputs": [],
   "source": [
    "example_pull = feed"
   ]
  },
  {
   "cell_type": "markdown",
   "metadata": {},
   "source": [
    "GTFS-Realtime is a binary format, and you decode it using the Python SDK. I expected the output to be a stream, however, the example provided in the library `README` is of a regular REST API.\n",
    "\n",
    "The MTA updates its feed every 30 seconds ([source](http://datamine.mta.info/sites/all/files/pdfs/GTFS-Realtime-NYC-Subway%20version%201%20dated%207%20Sep.pdf)). So to have the latest information at the highest possible temporal resolution, one would need to download and process the data at that interval. Other systems will have some other (hopefully well-documented!) update frequency."
   ]
  },
  {
   "cell_type": "code",
   "execution_count": 3,
   "metadata": {
    "collapsed": false
   },
   "outputs": [
    {
     "data": {
      "text/plain": [
       "gtfs_realtime_pb2.FeedMessage"
      ]
     },
     "execution_count": 3,
     "metadata": {},
     "output_type": "execute_result"
    }
   ],
   "source": [
    "type(example_pull)"
   ]
  },
  {
   "cell_type": "markdown",
   "metadata": {},
   "source": [
    "The result is wrapped in a Java-stype `FeedMessage` class, although it does have a `dict` repr. The underlying data is JSON, but too large to print here.\n",
    "\n",
    "The top level of the object has two keys, `header` and `entities`. `header` contains versioning information. `entities` is a list containing the data of interest (huge; omitted)."
   ]
  },
  {
   "cell_type": "code",
   "execution_count": 7,
   "metadata": {
    "collapsed": false
   },
   "outputs": [
    {
     "data": {
      "text/plain": [
       "gtfs_realtime_version: \"1.0\"\n",
       "timestamp: 1498061666"
      ]
     },
     "execution_count": 7,
     "metadata": {},
     "output_type": "execute_result"
    }
   ],
   "source": [
    "example_pull.header"
   ]
  },
  {
   "cell_type": "markdown",
   "metadata": {},
   "source": [
    "### Header\n",
    "\n",
    "These fields are pretty simple. `gtfs_realtime_version` is the version of the `gtfs-realtime` specification used for transfering this data, while `timestamp` is the UNIX timestamp at which this transfer occurred.\n",
    "\n",
    "At this intersection, we have to make a small digression. The MTA has its own spin on the GTFS-Realtime specification, adding a few fields and extensions to the data that it transmits. According to the design documentation:\n",
    "\n",
    "> ...[there are] extensions added specifically for NYCT (NyctFeedHeader,\n",
    "NyctTripDescriptor and NyctStopTimeUpdate). To use these extensions, you need the nyctsubway.proto\n",
    "file (URL TBD).\n",
    "\n",
    "Having access to the `nyctsubway.proto` file would allow us to run the `protobuf` tool on the binary blob directly, which would in turn allow us to inspect these fields as well. Although the URL isn't listed in the reference document, it's [easily findable via Google](http://datamine.mta.info/sites/all/files/pdfs/nyct-subway.proto.txt).\n",
    "\n",
    "The package that we're using is a Google export that's built against the general GTFS-Realtime specification, not the MTA's homebrew version of it. Being an expert on neither `protobuf` nor the MTA signal system, I can't say for sure (yet) what the consequences are."
   ]
  },
  {
   "cell_type": "markdown",
   "metadata": {},
   "source": [
    "### Entities\n",
    "My guess is that many if not most transit systems release their data in a single API endpoint. In those cases, the `entity` list contains records for all of the lines in the system (for which this information is available in the first place).\n",
    "\n",
    "However, the MTA is huge, so doing so in New York City would be uneconomical&mdash;the sizes of the files you would be reading from would be too large. Additionally, different lines are being brought into the fold at different times, and just \"tacking on\" recently computerized lines into the API output after-the-fact would be poor form. So instead the MTA breaks down transit information across several API endpoints, which each endpoint responsible for a certain \"slice\" of the system.\n",
    "\n",
    "The feed that we are looking at is responsible for the 1, 2, 3, 4, 5, 6, and S lines. The entity is a list with quite a large number of items in it:"
   ]
  },
  {
   "cell_type": "code",
   "execution_count": 17,
   "metadata": {
    "collapsed": false
   },
   "outputs": [
    {
     "data": {
      "text/plain": [
       "355"
      ]
     },
     "execution_count": 17,
     "metadata": {},
     "output_type": "execute_result"
    }
   ],
   "source": [
    "len(example_pull.entity)"
   ]
  },
  {
   "cell_type": "markdown",
   "metadata": {},
   "source": [
    "Each entry looks something like this one:"
   ]
  },
  {
   "cell_type": "code",
   "execution_count": 33,
   "metadata": {
    "collapsed": false,
    "scrolled": true
   },
   "outputs": [
    {
     "data": {
      "text/plain": [
       "id: \"000002\"\n",
       "vehicle {\n",
       "  trip {\n",
       "    trip_id: \"006550_1..N02X003\"\n",
       "    start_date: \"20170621\"\n",
       "    route_id: \"1\"\n",
       "  }\n",
       "  current_stop_sequence: 4\n",
       "  current_status: INCOMING_AT\n",
       "  timestamp: 1498022005\n",
       "  stop_id: \"137N\"\n",
       "}"
      ]
     },
     "execution_count": 33,
     "metadata": {},
     "output_type": "execute_result"
    }
   ],
   "source": [
    "example_pull.entity[1]"
   ]
  },
  {
   "cell_type": "markdown",
   "metadata": {},
   "source": [
    "According to the [MTA GTFS-realtime Reference](http://datamine.mta.info/sites/all/files/pdfs/GTFS-Realtime-NYC-Subway%20version%201%20dated%207%20Sep.pdf), this entity list contains three kinds of individual entities (called \"Messages\" in the Protobuf parlance): *trip updates*, *vehicle position*, and *alerts*. Above we have an example of a vehicle update."
   ]
  },
  {
   "cell_type": "markdown",
   "metadata": {},
   "source": [
    "Although entities have a JSON dict `repr`, they themselves are actually `FeedEntity` objects:"
   ]
  },
  {
   "cell_type": "code",
   "execution_count": 72,
   "metadata": {
    "collapsed": false
   },
   "outputs": [
    {
     "data": {
      "text/plain": [
       "gtfs_realtime_pb2.FeedEntity"
      ]
     },
     "execution_count": 72,
     "metadata": {},
     "output_type": "execute_result"
    }
   ],
   "source": [
    "type(example_pull.entity[0])"
   ]
  },
  {
   "cell_type": "markdown",
   "metadata": {},
   "source": [
    "This is not very Pythonic; at this level of detail I'd expect to be working with raw `dict` objects. But then, `protobuf` is a tool for outputting code across many different programming languages, resulting in programmatically generated APIs that probably feed above-averagely awkward in *all* those languages."
   ]
  },
  {
   "cell_type": "markdown",
   "metadata": {},
   "source": [
    "### Vehicle Updates\n",
    "\n",
    "Since vehicle updates are a little simpler to understand, let's start by looking at those."
   ]
  },
  {
   "cell_type": "code",
   "execution_count": 92,
   "metadata": {
    "collapsed": true
   },
   "outputs": [],
   "source": [
    "example_vehicle_update = example_pull.entity[1]"
   ]
  },
  {
   "cell_type": "code",
   "execution_count": 93,
   "metadata": {
    "collapsed": false
   },
   "outputs": [
    {
     "data": {
      "text/plain": [
       "id: \"000002\"\n",
       "vehicle {\n",
       "  trip {\n",
       "    trip_id: \"006550_1..N02X003\"\n",
       "    start_date: \"20170621\"\n",
       "    route_id: \"1\"\n",
       "  }\n",
       "  current_stop_sequence: 4\n",
       "  current_status: INCOMING_AT\n",
       "  timestamp: 1498022005\n",
       "  stop_id: \"137N\"\n",
       "}"
      ]
     },
     "execution_count": 93,
     "metadata": {},
     "output_type": "execute_result"
    }
   ],
   "source": [
    "example_vehicle_update"
   ]
  },
  {
   "cell_type": "markdown",
   "metadata": {},
   "source": [
    "As a sentence: \n",
    "\n",
    "> A train performing trip number `006550_1..N02X003` is currently `INCOMING_AT` station number `4` on route `1` (otherwise known as stop `137N`), and is expected to arrive at `1498022005` in UNIX time.\n",
    "\n",
    "Or, by translating these computer-readable IDs into human-readable ones (a processs still TBD):\n",
    "\n",
    "> A northbound `1` is currently en route to Chambers Street, (otherwise known as stop `137N`), and is expected to arrive at 1:13:25."
   ]
  },
  {
   "cell_type": "markdown",
   "metadata": {},
   "source": [
    "### Trip Update\n",
    "\n",
    "Let's repeat this process for trip updates. These contain information on all of the stops a train is taking, and so are much longer."
   ]
  },
  {
   "cell_type": "code",
   "execution_count": 94,
   "metadata": {
    "collapsed": false,
    "scrolled": true
   },
   "outputs": [
    {
     "data": {
      "text/plain": [
       "id: \"000001\"\n",
       "trip_update {\n",
       "  trip {\n",
       "    trip_id: \"006550_1..N02X003\"\n",
       "    start_date: \"20170621\"\n",
       "    route_id: \"1\"\n",
       "  }\n",
       "  stop_time_update {\n",
       "    arrival {\n",
       "      time: 1498021800\n",
       "    }\n",
       "    departure {\n",
       "      time: 1498021800\n",
       "    }\n",
       "    stop_id: \"137N\"\n",
       "  }\n",
       "  stop_time_update {\n",
       "    arrival {\n",
       "      time: 1498021890\n",
       "    }\n",
       "    departure {\n",
       "      time: 1498021890\n",
       "    }\n",
       "    stop_id: \"136N\"\n",
       "  }\n",
       "  stop_time_update {\n",
       "    arrival {\n",
       "      time: 1498021950\n",
       "    }\n",
       "    departure {\n",
       "      time: 1498021950\n",
       "    }\n",
       "    stop_id: \"135N\"\n",
       "  }\n",
       "  stop_time_update {\n",
       "    arrival {\n",
       "      time: 1498022040\n",
       "    }\n",
       "    departure {\n",
       "      time: 1498022040\n",
       "    }\n",
       "    stop_id: \"134N\"\n",
       "  }\n",
       "  stop_time_update {\n",
       "    arrival {\n",
       "      time: 1498022130\n",
       "    }\n",
       "    departure {\n",
       "      time: 1498022130\n",
       "    }\n",
       "    stop_id: \"133N\"\n",
       "  }\n",
       "  stop_time_update {\n",
       "    arrival {\n",
       "      time: 1498022220\n",
       "    }\n",
       "    departure {\n",
       "      time: 1498022220\n",
       "    }\n",
       "    stop_id: \"132N\"\n",
       "  }\n",
       "  stop_time_update {\n",
       "    arrival {\n",
       "      time: 1498022280\n",
       "    }\n",
       "    departure {\n",
       "      time: 1498022280\n",
       "    }\n",
       "    stop_id: \"131N\"\n",
       "  }\n",
       "  stop_time_update {\n",
       "    arrival {\n",
       "      time: 1498022340\n",
       "    }\n",
       "    departure {\n",
       "      time: 1498022340\n",
       "    }\n",
       "    stop_id: \"130N\"\n",
       "  }\n",
       "  stop_time_update {\n",
       "    arrival {\n",
       "      time: 1498022400\n",
       "    }\n",
       "    departure {\n",
       "      time: 1498022400\n",
       "    }\n",
       "    stop_id: \"129N\"\n",
       "  }\n",
       "  stop_time_update {\n",
       "    arrival {\n",
       "      time: 1498022490\n",
       "    }\n",
       "    departure {\n",
       "      time: 1498022490\n",
       "    }\n",
       "    stop_id: \"128N\"\n",
       "  }\n",
       "  stop_time_update {\n",
       "    arrival {\n",
       "      time: 1498022580\n",
       "    }\n",
       "    departure {\n",
       "      time: 1498022580\n",
       "    }\n",
       "    stop_id: \"127N\"\n",
       "  }\n",
       "  stop_time_update {\n",
       "    arrival {\n",
       "      time: 1498022700\n",
       "    }\n",
       "    departure {\n",
       "      time: 1498022700\n",
       "    }\n",
       "    stop_id: \"126N\"\n",
       "  }\n",
       "  stop_time_update {\n",
       "    arrival {\n",
       "      time: 1498022820\n",
       "    }\n",
       "    departure {\n",
       "      time: 1498022820\n",
       "    }\n",
       "    stop_id: \"125N\"\n",
       "  }\n",
       "  stop_time_update {\n",
       "    arrival {\n",
       "      time: 1498022910\n",
       "    }\n",
       "    departure {\n",
       "      time: 1498022910\n",
       "    }\n",
       "    stop_id: \"124N\"\n",
       "  }\n",
       "  stop_time_update {\n",
       "    arrival {\n",
       "      time: 1498022970\n",
       "    }\n",
       "    departure {\n",
       "      time: 1498022970\n",
       "    }\n",
       "    stop_id: \"123N\"\n",
       "  }\n",
       "  stop_time_update {\n",
       "    arrival {\n",
       "      time: 1498023060\n",
       "    }\n",
       "    departure {\n",
       "      time: 1498023060\n",
       "    }\n",
       "    stop_id: \"122N\"\n",
       "  }\n",
       "  stop_time_update {\n",
       "    arrival {\n",
       "      time: 1498023150\n",
       "    }\n",
       "    departure {\n",
       "      time: 1498023150\n",
       "    }\n",
       "    stop_id: \"121N\"\n",
       "  }\n",
       "  stop_time_update {\n",
       "    arrival {\n",
       "      time: 1498023240\n",
       "    }\n",
       "    departure {\n",
       "      time: 1498023240\n",
       "    }\n",
       "    stop_id: \"120N\"\n",
       "  }\n",
       "  stop_time_update {\n",
       "    arrival {\n",
       "      time: 1498023510\n",
       "    }\n",
       "    departure {\n",
       "      time: 1498023510\n",
       "    }\n",
       "    stop_id: \"227N\"\n",
       "  }\n",
       "  stop_time_update {\n",
       "    arrival {\n",
       "      time: 1498023570\n",
       "    }\n",
       "    departure {\n",
       "      time: 1498023570\n",
       "    }\n",
       "    stop_id: \"226N\"\n",
       "  }\n",
       "  stop_time_update {\n",
       "    arrival {\n",
       "      time: 1498023660\n",
       "    }\n",
       "    departure {\n",
       "      time: 1498023660\n",
       "    }\n",
       "    stop_id: \"225N\"\n",
       "  }\n",
       "  stop_time_update {\n",
       "    arrival {\n",
       "      time: 1498023750\n",
       "    }\n",
       "    departure {\n",
       "      time: 1498023750\n",
       "    }\n",
       "    stop_id: \"224N\"\n",
       "  }\n",
       "  stop_time_update {\n",
       "    arrival {\n",
       "      time: 1498023990\n",
       "    }\n",
       "    stop_id: \"301N\"\n",
       "  }\n",
       "}"
      ]
     },
     "execution_count": 94,
     "metadata": {},
     "output_type": "execute_result"
    }
   ],
   "source": [
    "example_pull.entity[0]"
   ]
  },
  {
   "cell_type": "markdown",
   "metadata": {},
   "source": [
    "The MTA's documentation states that:\n",
    "\n",
    "> The feed contains all revenue trips that are either:\n",
    ">\n",
    "> * already underway (assigned trips), or\n",
    "> * scheduled to start in the next 30 minutes (unassigned trips)\n",
    "> \n",
    "> Trips are usually assigned to a physical train a few minutes before the scheduled start time, sometimes\n",
    "just a few seconds before.\n",
    "> \n",
    "> If a trip is included in the GTFS-realtime feed, there is a high probability that it will depart from its\n",
    "originating terminal as planned. It is more likely that a train that is never assigned a trip identifier to be\n",
    "changed or cancelled than an assigned one.\n",
    "\n",
    "This block of information contains all of the *projected* arrival and departure times for our northbound 1 train from before. Chambers Street is the first stop on the list, because it's the first station that this train has not yet stopped at (two earlier stops, Rector Street and South Ferry, are excluded).\n",
    "\n",
    "By comparing this timetable with our earlier one, we learn that this train is *already late*. It was expected to arrive at 1:10:00, but is currently projected to arrive at 1:13:25&mdash;three-and-a-half minutes later!\n",
    "\n",
    "Trip updates *always* precede vehicle updates, in a 1-2 pattern. In other words, leaving aside alerts, every *even* (or 0) entry is a trip update, and every *odd* entry is a vehicle update for the immediately preceding trip.\n",
    "\n",
    "This is an awkfully convenient system: to get the status and schedule of any particular train, we just have to read two contiguous entries."
   ]
  },
  {
   "cell_type": "markdown",
   "metadata": {},
   "source": [
    "### Alerts\n",
    "\n",
    "Finally there are alerts. Alerts may be used for a somewhat wide range of informative content, but in the MTA system they are confined to service delay declarations (\"in general, when a train is shown as ‘delayed’ on the station countdown clocks, an Alert is generated for that trip in the feed\"). They also neatly always appear at the very end of our list of messages.\n",
    "\n",
    "Here's an example output:"
   ]
  },
  {
   "cell_type": "code",
   "execution_count": 121,
   "metadata": {
    "collapsed": false,
    "scrolled": false
   },
   "outputs": [
    {
     "data": {
      "text/plain": [
       "id: \"000355\"\n",
       "alert {\n",
       "  informed_entity {\n",
       "    trip {\n",
       "      trip_id: \"006550_1..N02X003\"\n",
       "      route_id: \"1\"\n",
       "    }\n",
       "  }\n",
       "  informed_entity {\n",
       "    trip {\n",
       "      trip_id: \"051350_4..N06R\"\n",
       "      route_id: \"4\"\n",
       "    }\n",
       "  }\n",
       "  header_text {\n",
       "    translation {\n",
       "      text: \"Train delayed\"\n",
       "    }\n",
       "  }\n",
       "}"
      ]
     },
     "execution_count": 121,
     "metadata": {},
     "output_type": "execute_result"
    }
   ],
   "source": [
    "example_pull.entity[-1]"
   ]
  },
  {
   "cell_type": "markdown",
   "metadata": {},
   "source": [
    "The data dictionary has the following to say about alerts:\n",
    "\n",
    "> The only alerts included in the NYCT Subway GTFS-realtime feed are notifications about delayed trains\n",
    "therefore the entity is always a trip. In general, when a train is shown as ‘delayed’ on the station\n",
    "countdown clocks, an Alert is generated for that trip in the feed.\n",
    "\n",
    "Parsing this new information as a sentence, we find out that:\n",
    "\n",
    "> Two northbound 1 and 4 trains are delayed.\n",
    "\n",
    "If we compare this trip ID with the one from our example earlier, we see that it's that same train again!"
   ]
  },
  {
   "cell_type": "code",
   "execution_count": 118,
   "metadata": {
    "collapsed": false
   },
   "outputs": [
    {
     "data": {
      "text/plain": [
       "355"
      ]
     },
     "execution_count": 118,
     "metadata": {},
     "output_type": "execute_result"
    }
   ],
   "source": [
    "len(trips_updates)"
   ]
  }
 ],
 "metadata": {
  "kernelspec": {
   "display_name": "Python 3",
   "language": "python",
   "name": "python3"
  },
  "language_info": {
   "codemirror_mode": {
    "name": "ipython",
    "version": 3
   },
   "file_extension": ".py",
   "mimetype": "text/x-python",
   "name": "python",
   "nbconvert_exporter": "python",
   "pygments_lexer": "ipython3",
   "version": "3.4.5"
  }
 },
 "nbformat": 4,
 "nbformat_minor": 2
}
