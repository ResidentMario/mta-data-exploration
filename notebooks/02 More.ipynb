{
 "cells": [
  {
   "cell_type": "markdown",
   "metadata": {},
   "source": [
    "## About\n",
    "\n",
    "### Protobuff\n",
    "\n",
    "Real-time subway data is provided in the GTFS-Realtime format. This format uses the Google Protobuff spec, an abstract data specification that allows Google to distribute transit API wrappers in various languages more easily.\n",
    "\n",
    "Google has a protobuff CLI tool that ingests a data specification and outputs an object-based API for interfacing with that spec, which can generate (distributable) packages for working with that spec in various languages. Python is included, obviously, with the output being a `.py` file. The Python implementation is metaprogrammming based, by the way.\n",
    "\n",
    "I could use the Protobuff tool directly, however, there's no need to do so, since the resultant package is distributed via PyPi.\n",
    "\n",
    "There are three versions of Protobuff. Protobuff 2 is Python 2 only, while Protobuff 3 is Python 2/3 compatible. Protobuff 1 was only ever used internally within Google, before it was open-sourced.\n",
    "\n",
    "### GTFS-Realtime\n",
    "\n",
    "The GTFS-Realtime binding is distributed via PyPI ([GitHub link](https://github.com/google/gtfs-realtime-bindings/blob/master/python/README.md)). However, Google is internally still on Python 2, as is the Transit team. Since the package is open-source, someone has contributed a [pull request](https://github.com/google/gtfs-realtime-bindings/pull/20) with an update (`0.0.4` -> `0.0.5`) which updates the PyPi module to be compatible with Protobuff 3. However, Google has been extremely slow at getting this PR distributed onto PyPi; ironically this was starting to happen just as I started getting into this project (see [here](https://github.com/google/gtfs-realtime-bindings/issues/21)).\n",
    "\n",
    "I don't want to work in Python 2 though, so I need to get the latest version.\n",
    "\n",
    "To get the latest version right now, I have to clone the repository and do a `setup.py` install, because the git repo includes *all* of the language bindings (weird as that is) in subfolders, and hence the `git+git` trick doesn't work.\n",
    "\n",
    "From Desktop:\n",
    "\n",
    "```shell\n",
    "git clone https://github.com/google/gtfs-realtime-bindings.git\n",
    "cd gtfs-realtime-bindings/python\n",
    "python setup.py install\n",
    "```\n",
    "\n",
    "Unfortunately, there's a complicated issue in the install environment (see [#21](https://github.com/google/gtfs-realtime-bindings/issues/21#issuecomment-309898505)). TLDR: you have to do this install from and use a Python 3.4 environment."
   ]
  },
  {
   "cell_type": "code",
   "execution_count": 2,
   "metadata": {
    "collapsed": false,
    "scrolled": false
   },
   "outputs": [],
   "source": [
    "from google.transit import gtfs_realtime_pb2\n",
    "import requests\n",
    "\n",
    "feed = gtfs_realtime_pb2.FeedMessage()\n",
    "response = requests.get('http://datamine.mta.info/mta_esi.php?key=224a3669a50efeb1b61d3fb3694a0a17&feed_id=1')\n",
    "feed.ParseFromString(response.content)\n",
    "# for entity in feed.entity:\n",
    "#   if entity.HasField('trip_update'):\n",
    "#     print(entity.trip_update)"
   ]
  },
  {
   "cell_type": "code",
   "execution_count": 4,
   "metadata": {
    "collapsed": false
   },
   "outputs": [],
   "source": [
    "example_pull = feed"
   ]
  },
  {
   "cell_type": "markdown",
   "metadata": {},
   "source": [
    "GTFS-Realtime is a binary format, and you decode it using the Python SDK. I expected the output to be a stream, however, the example provided in the library `README` is of a regular REST API. That probably means that to track transit system updates, I will need to poll the data at regular intervals."
   ]
  },
  {
   "cell_type": "code",
   "execution_count": null,
   "metadata": {
    "collapsed": true
   },
   "outputs": [],
   "source": [
    "example_pull"
   ]
  }
 ],
 "metadata": {
  "kernelspec": {
   "display_name": "Python 3",
   "language": "python",
   "name": "python3"
  },
  "language_info": {
   "codemirror_mode": {
    "name": "ipython",
    "version": 3
   },
   "file_extension": ".py",
   "mimetype": "text/x-python",
   "name": "python",
   "nbconvert_exporter": "python",
   "pygments_lexer": "ipython3",
   "version": "3.4.5"
  }
 },
 "nbformat": 4,
 "nbformat_minor": 2
}
