{
 "cells": [
  {
   "cell_type": "markdown",
   "metadata": {},
   "source": [
    "# About\n",
    "\n",
    "This development notebook is concerned with making sure that trip termination (see notebook 10) works."
   ]
  },
  {
   "cell_type": "code",
   "execution_count": 1,
   "metadata": {
    "collapsed": true
   },
   "outputs": [],
   "source": [
    "import sys; sys.path.append(\"../src/\")\n",
    "from processing import fetch_archival_gtfs_realtime_data, parse_gtfs_into_action_log"
   ]
  },
  {
   "cell_type": "code",
   "execution_count": 2,
   "metadata": {
    "collapsed": true
   },
   "outputs": [],
   "source": [
    "%load_ext autoreload\n",
    "%autoreload 2"
   ]
  },
  {
   "cell_type": "code",
   "execution_count": 3,
   "metadata": {
    "collapsed": false
   },
   "outputs": [
    {
     "name": "stdout",
     "output_type": "stream",
     "text": [
      "1\n",
      "6\n",
      "11\n",
      "16\n",
      "21\n",
      "26\n",
      "31\n",
      "36\n",
      "41\n",
      "46\n",
      "51\n",
      "56\n",
      "Done!\n"
     ]
    }
   ],
   "source": [
    "gtfs_r = dict()\n",
    "\n",
    "for n in range(0, 60, 5):\n",
    "    print(n + 1)\n",
    "    gtfs_r[n] = fetch_archival_gtfs_realtime_data(kind='gtfs', timestamp='2014-09-18-09-' + str(1 + n).zfill(2))\n",
    "    \n",
    "print(\"Done!\")"
   ]
  },
  {
   "cell_type": "markdown",
   "metadata": {},
   "source": [
    "We can use the same example we've been using up to now. In the following trip, the last stop is never actually stopped at."
   ]
  },
  {
   "cell_type": "code",
   "execution_count": 4,
   "metadata": {
    "collapsed": false,
    "scrolled": false
   },
   "outputs": [
    {
     "data": {
      "text/plain": [
       "id: \"000001\"\n",
       "trip_update {\n",
       "  trip {\n",
       "    trip_id: \"047600_1..S02R\"\n",
       "    start_date: \"20140918\"\n",
       "    route_id: \"1\"\n",
       "  }\n",
       "  stop_time_update {\n",
       "    arrival {\n",
       "      time: 1411044718\n",
       "    }\n",
       "    departure {\n",
       "      time: 1411044838\n",
       "    }\n",
       "    stop_id: \"137S\"\n",
       "  }\n",
       "  stop_time_update {\n",
       "    arrival {\n",
       "      time: 1411044928\n",
       "    }\n",
       "    departure {\n",
       "      time: 1411044928\n",
       "    }\n",
       "    stop_id: \"138S\"\n",
       "  }\n",
       "  stop_time_update {\n",
       "    arrival {\n",
       "      time: 1411045018\n",
       "    }\n",
       "    departure {\n",
       "      time: 1411045078\n",
       "    }\n",
       "    stop_id: \"139S\"\n",
       "  }\n",
       "  stop_time_update {\n",
       "    arrival {\n",
       "      time: 1411045228\n",
       "    }\n",
       "    stop_id: \"140S\"\n",
       "  }\n",
       "}"
      ]
     },
     "execution_count": 4,
     "metadata": {},
     "output_type": "execute_result"
    }
   ],
   "source": [
    "gtfs_r[0].entity[0]"
   ]
  },
  {
   "cell_type": "code",
   "execution_count": 13,
   "metadata": {
    "collapsed": false
   },
   "outputs": [
    {
     "data": {
      "text/plain": [
       "id: \"000002\"\n",
       "vehicle {\n",
       "  trip {\n",
       "    trip_id: \"047600_1..S02R\"\n",
       "    start_date: \"20140918\"\n",
       "    route_id: \"1\"\n",
       "  }\n",
       "  current_stop_sequence: 35\n",
       "  current_status: STOPPED_AT\n",
       "  timestamp: 1411044718\n",
       "  stop_id: \"137S\"\n",
       "}"
      ]
     },
     "execution_count": 13,
     "metadata": {},
     "output_type": "execute_result"
    }
   ],
   "source": [
    "gtfs_r[0].entity[1]"
   ]
  },
  {
   "cell_type": "code",
   "execution_count": 5,
   "metadata": {
    "collapsed": false
   },
   "outputs": [
    {
     "data": {
      "text/plain": [
       "id: \"000001\"\n",
       "trip_update {\n",
       "  trip {\n",
       "    trip_id: \"047600_1..S02R\"\n",
       "    start_date: \"20140918\"\n",
       "    route_id: \"1\"\n",
       "  }\n",
       "  stop_time_update {\n",
       "    arrival {\n",
       "      time: 1411045639\n",
       "    }\n",
       "    stop_id: \"140S\"\n",
       "  }\n",
       "}"
      ]
     },
     "execution_count": 5,
     "metadata": {},
     "output_type": "execute_result"
    }
   ],
   "source": [
    "gtfs_r[5].entity[0]"
   ]
  },
  {
   "cell_type": "code",
   "execution_count": 7,
   "metadata": {
    "collapsed": false
   },
   "outputs": [
    {
     "data": {
      "text/plain": [
       "id: \"000002\"\n",
       "vehicle {\n",
       "  trip {\n",
       "    trip_id: \"047600_1..S02R\"\n",
       "    start_date: \"20140918\"\n",
       "    route_id: \"1\"\n",
       "  }\n",
       "  current_stop_sequence: 38\n",
       "  current_status: IN_TRANSIT_TO\n",
       "  timestamp: 1411045502\n",
       "  stop_id: \"140S\"\n",
       "}"
      ]
     },
     "execution_count": 7,
     "metadata": {},
     "output_type": "execute_result"
    }
   ],
   "source": [
    "gtfs_r[5].entity[1]"
   ]
  },
  {
   "cell_type": "code",
   "execution_count": 6,
   "metadata": {
    "collapsed": false
   },
   "outputs": [
    {
     "data": {
      "text/plain": [
       "id: \"000001\"\n",
       "trip_update {\n",
       "  trip {\n",
       "    trip_id: \"048400_1..S02R\"\n",
       "    start_date: \"20140918\"\n",
       "    route_id: \"1\"\n",
       "  }\n",
       "  stop_time_update {\n",
       "    arrival {\n",
       "      time: 1411045708\n",
       "    }\n",
       "    departure {\n",
       "      time: 1411045768\n",
       "    }\n",
       "    stop_id: \"139S\"\n",
       "  }\n",
       "  stop_time_update {\n",
       "    arrival {\n",
       "      time: 1411045918\n",
       "    }\n",
       "    stop_id: \"140S\"\n",
       "  }\n",
       "}"
      ]
     },
     "execution_count": 6,
     "metadata": {},
     "output_type": "execute_result"
    }
   ],
   "source": [
    "gtfs_r[10].entity[0]"
   ]
  },
  {
   "cell_type": "markdown",
   "metadata": {},
   "source": [
    "To pick this up, we need to run these three feeds through simultaneously."
   ]
  },
  {
   "cell_type": "code",
   "execution_count": 39,
   "metadata": {
    "collapsed": true
   },
   "outputs": [],
   "source": [
    "from processing import parse_feeds_into_trip_logs, mta_archival_time_to_unix_timestamp"
   ]
  },
  {
   "cell_type": "code",
   "execution_count": 9,
   "metadata": {
    "collapsed": true
   },
   "outputs": [],
   "source": [
    "ret3 = parse_feeds_into_trip_logs([gtfs_r[0], gtfs_r[5], gtfs_r[10]], \n",
    "                                  [mta_archival_time_to_unix_timestamp('2014-09-18-09-01'),\n",
    "                                   mta_archival_time_to_unix_timestamp('2014-09-18-09-06'),\n",
    "                                   mta_archival_time_to_unix_timestamp('2014-09-18-09-11')])"
   ]
  },
  {
   "cell_type": "code",
   "execution_count": 29,
   "metadata": {
    "collapsed": false
   },
   "outputs": [
    {
     "data": {
      "text/html": [
       "<div>\n",
       "<table border=\"1\" class=\"dataframe\">\n",
       "  <thead>\n",
       "    <tr style=\"text-align: right;\">\n",
       "      <th></th>\n",
       "      <th>trip_id</th>\n",
       "      <th>route_id</th>\n",
       "      <th>action</th>\n",
       "      <th>stop_id</th>\n",
       "      <th>minimum_time</th>\n",
       "      <th>maximum_time</th>\n",
       "      <th>latest_information_time</th>\n",
       "    </tr>\n",
       "  </thead>\n",
       "  <tbody>\n",
       "    <tr>\n",
       "      <th>0</th>\n",
       "      <td>047600_1..S02R</td>\n",
       "      <td>1</td>\n",
       "      <td>STOPPED_AT</td>\n",
       "      <td>137S</td>\n",
       "      <td>1.411045e+09</td>\n",
       "      <td>1.411045e+09</td>\n",
       "      <td>1.411045e+09</td>\n",
       "    </tr>\n",
       "    <tr>\n",
       "      <th>1</th>\n",
       "      <td>047600_1..S02R</td>\n",
       "      <td>1</td>\n",
       "      <td>STOPPED_OR_SKIPPED</td>\n",
       "      <td>138S</td>\n",
       "      <td>1.411045e+09</td>\n",
       "      <td>1.411046e+09</td>\n",
       "      <td>1.411046e+09</td>\n",
       "    </tr>\n",
       "    <tr>\n",
       "      <th>2</th>\n",
       "      <td>047600_1..S02R</td>\n",
       "      <td>1</td>\n",
       "      <td>STOPPED_OR_SKIPPED</td>\n",
       "      <td>139S</td>\n",
       "      <td>1.411045e+09</td>\n",
       "      <td>1.411046e+09</td>\n",
       "      <td>1.411046e+09</td>\n",
       "    </tr>\n",
       "    <tr>\n",
       "      <th>3</th>\n",
       "      <td>047600_1..S02R</td>\n",
       "      <td>1</td>\n",
       "      <td>STOPPED_OR_SKIPPED</td>\n",
       "      <td>140S</td>\n",
       "      <td>1.411046e+09</td>\n",
       "      <td>1.411046e+09</td>\n",
       "      <td>1.411046e+09</td>\n",
       "    </tr>\n",
       "  </tbody>\n",
       "</table>\n",
       "</div>"
      ],
      "text/plain": [
       "          trip_id route_id              action stop_id  minimum_time  \\\n",
       "0  047600_1..S02R        1          STOPPED_AT    137S  1.411045e+09   \n",
       "1  047600_1..S02R        1  STOPPED_OR_SKIPPED    138S  1.411045e+09   \n",
       "2  047600_1..S02R        1  STOPPED_OR_SKIPPED    139S  1.411045e+09   \n",
       "3  047600_1..S02R        1  STOPPED_OR_SKIPPED    140S  1.411046e+09   \n",
       "\n",
       "   maximum_time  latest_information_time  \n",
       "0  1.411045e+09             1.411045e+09  \n",
       "1  1.411046e+09             1.411046e+09  \n",
       "2  1.411046e+09             1.411046e+09  \n",
       "3  1.411046e+09             1.411046e+09  "
      ]
     },
     "execution_count": 29,
     "metadata": {},
     "output_type": "execute_result"
    }
   ],
   "source": [
    "ret3[\"047600_1..S02R\"]"
   ]
  },
  {
   "cell_type": "markdown",
   "metadata": {},
   "source": [
    "Perfect.\n",
    "\n",
    "Compare this with the log we get when we do not finish the trip."
   ]
  },
  {
   "cell_type": "code",
   "execution_count": 14,
   "metadata": {
    "collapsed": true
   },
   "outputs": [],
   "source": [
    "from processing import extract_synthetic_route_from_tripwise_action_logs, parse_message_into_action_log"
   ]
  },
  {
   "cell_type": "code",
   "execution_count": 23,
   "metadata": {
    "collapsed": false
   },
   "outputs": [
    {
     "data": {
      "text/plain": [
       "['137S', '138S', '139S', '140S']"
      ]
     },
     "execution_count": 23,
     "metadata": {},
     "output_type": "execute_result"
    }
   ],
   "source": [
    "extract_synthetic_route_from_tripwise_action_logs([\n",
    "    parse_message_into_action_log(gtfs_r[0].entity[0], gtfs_r[0].entity[1], \n",
    "                                  mta_archival_time_to_unix_timestamp('2014-09-18-09-01')),\n",
    "    parse_message_into_action_log(gtfs_r[5].entity[0], gtfs_r[5].entity[1], \n",
    "                                  mta_archival_time_to_unix_timestamp('2014-09-18-09-06'))    \n",
    "])"
   ]
  },
  {
   "cell_type": "code",
   "execution_count": 34,
   "metadata": {
    "collapsed": true
   },
   "outputs": [],
   "source": [
    "from processing import parse_tripwise_action_logs_into_trip_log"
   ]
  },
  {
   "cell_type": "code",
   "execution_count": 48,
   "metadata": {
    "collapsed": false
   },
   "outputs": [
    {
     "data": {
      "text/html": [
       "<div>\n",
       "<table border=\"1\" class=\"dataframe\">\n",
       "  <thead>\n",
       "    <tr style=\"text-align: right;\">\n",
       "      <th></th>\n",
       "      <th>trip_id</th>\n",
       "      <th>route_id</th>\n",
       "      <th>action</th>\n",
       "      <th>stop_id</th>\n",
       "      <th>minimum_time</th>\n",
       "      <th>maximum_time</th>\n",
       "      <th>latest_information_time</th>\n",
       "    </tr>\n",
       "  </thead>\n",
       "  <tbody>\n",
       "    <tr>\n",
       "      <th>0</th>\n",
       "      <td>047600_1..S02R</td>\n",
       "      <td>1</td>\n",
       "      <td>STOPPED_AT</td>\n",
       "      <td>137S</td>\n",
       "      <td>1.411045e+09</td>\n",
       "      <td>1.411045e+09</td>\n",
       "      <td>1.411045e+09</td>\n",
       "    </tr>\n",
       "    <tr>\n",
       "      <th>1</th>\n",
       "      <td>047600_1..S02R</td>\n",
       "      <td>1</td>\n",
       "      <td>STOPPED_OR_SKIPPED</td>\n",
       "      <td>138S</td>\n",
       "      <td>1.411045e+09</td>\n",
       "      <td>1.411046e+09</td>\n",
       "      <td>1.411046e+09</td>\n",
       "    </tr>\n",
       "    <tr>\n",
       "      <th>2</th>\n",
       "      <td>047600_1..S02R</td>\n",
       "      <td>1</td>\n",
       "      <td>STOPPED_OR_SKIPPED</td>\n",
       "      <td>139S</td>\n",
       "      <td>1.411045e+09</td>\n",
       "      <td>1.411046e+09</td>\n",
       "      <td>1.411046e+09</td>\n",
       "    </tr>\n",
       "    <tr>\n",
       "      <th>3</th>\n",
       "      <td>047600_1..S02R</td>\n",
       "      <td>1</td>\n",
       "      <td>EN_ROUTE_TO</td>\n",
       "      <td>140S</td>\n",
       "      <td>1.411046e+09</td>\n",
       "      <td>NaN</td>\n",
       "      <td>1.411046e+09</td>\n",
       "    </tr>\n",
       "  </tbody>\n",
       "</table>\n",
       "</div>"
      ],
      "text/plain": [
       "          trip_id route_id              action stop_id  minimum_time  \\\n",
       "0  047600_1..S02R        1          STOPPED_AT    137S  1.411045e+09   \n",
       "1  047600_1..S02R        1  STOPPED_OR_SKIPPED    138S  1.411045e+09   \n",
       "2  047600_1..S02R        1  STOPPED_OR_SKIPPED    139S  1.411045e+09   \n",
       "3  047600_1..S02R        1         EN_ROUTE_TO    140S  1.411046e+09   \n",
       "\n",
       "   maximum_time  latest_information_time  \n",
       "0  1.411045e+09             1.411045e+09  \n",
       "1  1.411046e+09             1.411046e+09  \n",
       "2  1.411046e+09             1.411046e+09  \n",
       "3           NaN             1.411046e+09  "
      ]
     },
     "execution_count": 48,
     "metadata": {},
     "output_type": "execute_result"
    }
   ],
   "source": [
    "parse_tripwise_action_logs_into_trip_log(\n",
    "[\n",
    "    parse_message_into_action_log(gtfs_r[0].entity[0], gtfs_r[0].entity[1], \n",
    "                                  mta_archival_time_to_unix_timestamp('2014-09-18-09-01')),\n",
    "    parse_message_into_action_log(gtfs_r[5].entity[0], gtfs_r[5].entity[1], \n",
    "                                  mta_archival_time_to_unix_timestamp('2014-09-18-09-06'))\n",
    "   \n",
    "])"
   ]
  },
  {
   "cell_type": "markdown",
   "metadata": {},
   "source": [
    "We can finish this trip using the `finish_trip` function (which is used internally within the whole-feeds parser):"
   ]
  },
  {
   "cell_type": "code",
   "execution_count": 49,
   "metadata": {
    "collapsed": false
   },
   "outputs": [
    {
     "data": {
      "text/html": [
       "<div>\n",
       "<table border=\"1\" class=\"dataframe\">\n",
       "  <thead>\n",
       "    <tr style=\"text-align: right;\">\n",
       "      <th></th>\n",
       "      <th>trip_id</th>\n",
       "      <th>route_id</th>\n",
       "      <th>action</th>\n",
       "      <th>stop_id</th>\n",
       "      <th>minimum_time</th>\n",
       "      <th>maximum_time</th>\n",
       "      <th>latest_information_time</th>\n",
       "    </tr>\n",
       "  </thead>\n",
       "  <tbody>\n",
       "    <tr>\n",
       "      <th>0</th>\n",
       "      <td>047600_1..S02R</td>\n",
       "      <td>1</td>\n",
       "      <td>STOPPED_AT</td>\n",
       "      <td>137S</td>\n",
       "      <td>1.411045e+09</td>\n",
       "      <td>1.411045e+09</td>\n",
       "      <td>1.411045e+09</td>\n",
       "    </tr>\n",
       "    <tr>\n",
       "      <th>1</th>\n",
       "      <td>047600_1..S02R</td>\n",
       "      <td>1</td>\n",
       "      <td>STOPPED_OR_SKIPPED</td>\n",
       "      <td>138S</td>\n",
       "      <td>1.411045e+09</td>\n",
       "      <td>1.411046e+09</td>\n",
       "      <td>1.411046e+09</td>\n",
       "    </tr>\n",
       "    <tr>\n",
       "      <th>2</th>\n",
       "      <td>047600_1..S02R</td>\n",
       "      <td>1</td>\n",
       "      <td>STOPPED_OR_SKIPPED</td>\n",
       "      <td>139S</td>\n",
       "      <td>1.411045e+09</td>\n",
       "      <td>1.411046e+09</td>\n",
       "      <td>1.411046e+09</td>\n",
       "    </tr>\n",
       "    <tr>\n",
       "      <th>3</th>\n",
       "      <td>047600_1..S02R</td>\n",
       "      <td>1</td>\n",
       "      <td>STOPPED_OR_SKIPPED</td>\n",
       "      <td>140S</td>\n",
       "      <td>1.411046e+09</td>\n",
       "      <td>1.411046e+09</td>\n",
       "      <td>1.411046e+09</td>\n",
       "    </tr>\n",
       "  </tbody>\n",
       "</table>\n",
       "</div>"
      ],
      "text/plain": [
       "          trip_id route_id              action stop_id  minimum_time  \\\n",
       "0  047600_1..S02R        1          STOPPED_AT    137S  1.411045e+09   \n",
       "1  047600_1..S02R        1  STOPPED_OR_SKIPPED    138S  1.411045e+09   \n",
       "2  047600_1..S02R        1  STOPPED_OR_SKIPPED    139S  1.411045e+09   \n",
       "3  047600_1..S02R        1  STOPPED_OR_SKIPPED    140S  1.411046e+09   \n",
       "\n",
       "   maximum_time  latest_information_time  \n",
       "0  1.411045e+09             1.411045e+09  \n",
       "1  1.411046e+09             1.411046e+09  \n",
       "2  1.411046e+09             1.411046e+09  \n",
       "3  1.411046e+09             1.411046e+09  "
      ]
     },
     "execution_count": 49,
     "metadata": {},
     "output_type": "execute_result"
    }
   ],
   "source": [
    "from processing import finish_trip\n",
    "finish_trip(_, mta_archival_time_to_unix_timestamp('2014-09-18-09-11'))"
   ]
  },
  {
   "cell_type": "code",
   "execution_count": 40,
   "metadata": {
    "collapsed": false
   },
   "outputs": [],
   "source": [
    "ret3 = parse_feeds_into_trip_logs([gtfs_r[0], gtfs_r[5], gtfs_r[10]], \n",
    "                                  [mta_archival_time_to_unix_timestamp('2014-09-18-09-01'),\n",
    "                                   mta_archival_time_to_unix_timestamp('2014-09-18-09-06'),\n",
    "                                   mta_archival_time_to_unix_timestamp('2014-09-18-09-11')])"
   ]
  },
  {
   "cell_type": "code",
   "execution_count": 41,
   "metadata": {
    "collapsed": false
   },
   "outputs": [
    {
     "data": {
      "text/html": [
       "<div>\n",
       "<table border=\"1\" class=\"dataframe\">\n",
       "  <thead>\n",
       "    <tr style=\"text-align: right;\">\n",
       "      <th></th>\n",
       "      <th>trip_id</th>\n",
       "      <th>route_id</th>\n",
       "      <th>action</th>\n",
       "      <th>stop_id</th>\n",
       "      <th>minimum_time</th>\n",
       "      <th>maximum_time</th>\n",
       "      <th>latest_information_time</th>\n",
       "    </tr>\n",
       "  </thead>\n",
       "  <tbody>\n",
       "    <tr>\n",
       "      <th>0</th>\n",
       "      <td>047600_1..S02R</td>\n",
       "      <td>1</td>\n",
       "      <td>STOPPED_AT</td>\n",
       "      <td>137S</td>\n",
       "      <td>1.411045e+09</td>\n",
       "      <td>1.411045e+09</td>\n",
       "      <td>1.411045e+09</td>\n",
       "    </tr>\n",
       "    <tr>\n",
       "      <th>1</th>\n",
       "      <td>047600_1..S02R</td>\n",
       "      <td>1</td>\n",
       "      <td>STOPPED_OR_SKIPPED</td>\n",
       "      <td>138S</td>\n",
       "      <td>1.411045e+09</td>\n",
       "      <td>1.411046e+09</td>\n",
       "      <td>1.411046e+09</td>\n",
       "    </tr>\n",
       "    <tr>\n",
       "      <th>2</th>\n",
       "      <td>047600_1..S02R</td>\n",
       "      <td>1</td>\n",
       "      <td>STOPPED_OR_SKIPPED</td>\n",
       "      <td>139S</td>\n",
       "      <td>1.411045e+09</td>\n",
       "      <td>1.411046e+09</td>\n",
       "      <td>1.411046e+09</td>\n",
       "    </tr>\n",
       "    <tr>\n",
       "      <th>3</th>\n",
       "      <td>047600_1..S02R</td>\n",
       "      <td>1</td>\n",
       "      <td>STOPPED_OR_SKIPPED</td>\n",
       "      <td>140S</td>\n",
       "      <td>1.411046e+09</td>\n",
       "      <td>1.411046e+09</td>\n",
       "      <td>1.411046e+09</td>\n",
       "    </tr>\n",
       "  </tbody>\n",
       "</table>\n",
       "</div>"
      ],
      "text/plain": [
       "          trip_id route_id              action stop_id  minimum_time  \\\n",
       "0  047600_1..S02R        1          STOPPED_AT    137S  1.411045e+09   \n",
       "1  047600_1..S02R        1  STOPPED_OR_SKIPPED    138S  1.411045e+09   \n",
       "2  047600_1..S02R        1  STOPPED_OR_SKIPPED    139S  1.411045e+09   \n",
       "3  047600_1..S02R        1  STOPPED_OR_SKIPPED    140S  1.411046e+09   \n",
       "\n",
       "   maximum_time  latest_information_time  \n",
       "0  1.411045e+09             1.411045e+09  \n",
       "1  1.411046e+09             1.411046e+09  \n",
       "2  1.411046e+09             1.411046e+09  \n",
       "3  1.411046e+09             1.411046e+09  "
      ]
     },
     "execution_count": 41,
     "metadata": {},
     "output_type": "execute_result"
    }
   ],
   "source": [
    "ret3[\"047600_1..S02R\"]"
   ]
  }
 ],
 "metadata": {
  "kernelspec": {
   "display_name": "Python 3",
   "language": "python",
   "name": "python3"
  },
  "language_info": {
   "codemirror_mode": {
    "name": "ipython",
    "version": 3
   },
   "file_extension": ".py",
   "mimetype": "text/x-python",
   "name": "python",
   "nbconvert_exporter": "python",
   "pygments_lexer": "ipython3",
   "version": "3.4.5"
  }
 },
 "nbformat": 4,
 "nbformat_minor": 2
}
