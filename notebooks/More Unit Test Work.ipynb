{
 "cells": [
  {
   "cell_type": "code",
   "execution_count": 1,
   "metadata": {
    "collapsed": true
   },
   "outputs": [],
   "source": [
    "import sys; sys.path.append(\"../src/\")\n",
    "from processing import fetch_archival_gtfs_realtime_data, parse_gtfs_into_action_log"
   ]
  },
  {
   "cell_type": "code",
   "execution_count": 2,
   "metadata": {
    "collapsed": true
   },
   "outputs": [],
   "source": [
    "%load_ext autoreload\n",
    "%autoreload 2"
   ]
  },
  {
   "cell_type": "code",
   "execution_count": 4,
   "metadata": {
    "collapsed": true
   },
   "outputs": [],
   "source": [
    "from processing import parse_message_into_action_log"
   ]
  },
  {
   "cell_type": "code",
   "execution_count": 33,
   "metadata": {
    "collapsed": true
   },
   "outputs": [],
   "source": [
    "from google.transit import gtfs_realtime_pb2\n",
    "\n",
    "with open(\"../src/tests/data/gtfs_realtime_pull_1.dat\", \"rb\") as f:\n",
    "    gtfs_r0 = gtfs_realtime_pb2.FeedMessage()\n",
    "    gtfs_r0.ParseFromString(f.read())"
   ]
  },
  {
   "cell_type": "code",
   "execution_count": 10,
   "metadata": {
    "collapsed": false
   },
   "outputs": [
    {
     "data": {
      "text/html": [
       "<div>\n",
       "<table border=\"1\" class=\"dataframe\">\n",
       "  <thead>\n",
       "    <tr style=\"text-align: right;\">\n",
       "      <th></th>\n",
       "      <th>trip_id</th>\n",
       "      <th>route_id</th>\n",
       "      <th>information_time</th>\n",
       "      <th>action</th>\n",
       "      <th>stop_id</th>\n",
       "      <th>time_assigned</th>\n",
       "    </tr>\n",
       "  </thead>\n",
       "  <tbody>\n",
       "    <tr>\n",
       "      <th>0</th>\n",
       "      <td>047600_1..S02R</td>\n",
       "      <td>1</td>\n",
       "      <td>None</td>\n",
       "      <td>STOPPED_AT</td>\n",
       "      <td>137S</td>\n",
       "      <td>1411044718</td>\n",
       "    </tr>\n",
       "    <tr>\n",
       "      <th>1</th>\n",
       "      <td>047600_1..S02R</td>\n",
       "      <td>1</td>\n",
       "      <td>None</td>\n",
       "      <td>EXPECTED_TO_ARRIVE_AT</td>\n",
       "      <td>138S</td>\n",
       "      <td>1411044928</td>\n",
       "    </tr>\n",
       "    <tr>\n",
       "      <th>2</th>\n",
       "      <td>047600_1..S02R</td>\n",
       "      <td>1</td>\n",
       "      <td>None</td>\n",
       "      <td>EXPECTED_TO_DEPART_AT</td>\n",
       "      <td>138S</td>\n",
       "      <td>1411044928</td>\n",
       "    </tr>\n",
       "    <tr>\n",
       "      <th>3</th>\n",
       "      <td>047600_1..S02R</td>\n",
       "      <td>1</td>\n",
       "      <td>None</td>\n",
       "      <td>EXPECTED_TO_ARRIVE_AT</td>\n",
       "      <td>139S</td>\n",
       "      <td>1411045018</td>\n",
       "    </tr>\n",
       "    <tr>\n",
       "      <th>4</th>\n",
       "      <td>047600_1..S02R</td>\n",
       "      <td>1</td>\n",
       "      <td>None</td>\n",
       "      <td>EXPECTED_TO_DEPART_AT</td>\n",
       "      <td>139S</td>\n",
       "      <td>1411045078</td>\n",
       "    </tr>\n",
       "    <tr>\n",
       "      <th>5</th>\n",
       "      <td>047600_1..S02R</td>\n",
       "      <td>1</td>\n",
       "      <td>None</td>\n",
       "      <td>EXPECTED_TO_ARRIVE_AT</td>\n",
       "      <td>140S</td>\n",
       "      <td>1411045228</td>\n",
       "    </tr>\n",
       "  </tbody>\n",
       "</table>\n",
       "</div>"
      ],
      "text/plain": [
       "          trip_id route_id information_time                 action stop_id  \\\n",
       "0  047600_1..S02R        1             None             STOPPED_AT    137S   \n",
       "1  047600_1..S02R        1             None  EXPECTED_TO_ARRIVE_AT    138S   \n",
       "2  047600_1..S02R        1             None  EXPECTED_TO_DEPART_AT    138S   \n",
       "3  047600_1..S02R        1             None  EXPECTED_TO_ARRIVE_AT    139S   \n",
       "4  047600_1..S02R        1             None  EXPECTED_TO_DEPART_AT    139S   \n",
       "5  047600_1..S02R        1             None  EXPECTED_TO_ARRIVE_AT    140S   \n",
       "\n",
       "  time_assigned  \n",
       "0    1411044718  \n",
       "1    1411044928  \n",
       "2    1411044928  \n",
       "3    1411045018  \n",
       "4    1411045078  \n",
       "5    1411045228  "
      ]
     },
     "execution_count": 10,
     "metadata": {},
     "output_type": "execute_result"
    }
   ],
   "source": [
    "parse_message_into_action_log(gtfs_r0.entity[0], gtfs_r0.entity[1], None)"
   ]
  },
  {
   "cell_type": "code",
   "execution_count": 76,
   "metadata": {
    "collapsed": true
   },
   "outputs": [],
   "source": [
    "i = 0"
   ]
  },
  {
   "cell_type": "code",
   "execution_count": 77,
   "metadata": {
    "collapsed": false
   },
   "outputs": [
    {
     "data": {
      "text/html": [
       "<div>\n",
       "<table border=\"1\" class=\"dataframe\">\n",
       "  <thead>\n",
       "    <tr style=\"text-align: right;\">\n",
       "      <th></th>\n",
       "      <th>trip_id</th>\n",
       "      <th>route_id</th>\n",
       "      <th>information_time</th>\n",
       "      <th>action</th>\n",
       "      <th>stop_id</th>\n",
       "      <th>time_assigned</th>\n",
       "    </tr>\n",
       "  </thead>\n",
       "  <tbody>\n",
       "    <tr>\n",
       "      <th>0</th>\n",
       "      <td>048150_1..S07R</td>\n",
       "      <td>1</td>\n",
       "      <td>None</td>\n",
       "      <td>STOPPED_AT</td>\n",
       "      <td>136S</td>\n",
       "      <td>1411044793</td>\n",
       "    </tr>\n",
       "    <tr>\n",
       "      <th>1</th>\n",
       "      <td>048150_1..S07R</td>\n",
       "      <td>1</td>\n",
       "      <td>None</td>\n",
       "      <td>EXPECTED_TO_ARRIVE_AT</td>\n",
       "      <td>137S</td>\n",
       "      <td>1411044883</td>\n",
       "    </tr>\n",
       "    <tr>\n",
       "      <th>2</th>\n",
       "      <td>048150_1..S07R</td>\n",
       "      <td>1</td>\n",
       "      <td>None</td>\n",
       "      <td>EXPECTED_TO_DEPART_AT</td>\n",
       "      <td>137S</td>\n",
       "      <td>1411045003</td>\n",
       "    </tr>\n",
       "    <tr>\n",
       "      <th>3</th>\n",
       "      <td>048150_1..S07R</td>\n",
       "      <td>1</td>\n",
       "      <td>None</td>\n",
       "      <td>EXPECTED_TO_ARRIVE_AT</td>\n",
       "      <td>138S</td>\n",
       "      <td>1411045093</td>\n",
       "    </tr>\n",
       "    <tr>\n",
       "      <th>4</th>\n",
       "      <td>048150_1..S07R</td>\n",
       "      <td>1</td>\n",
       "      <td>None</td>\n",
       "      <td>EXPECTED_TO_DEPART_AT</td>\n",
       "      <td>138S</td>\n",
       "      <td>1411045093</td>\n",
       "    </tr>\n",
       "    <tr>\n",
       "      <th>5</th>\n",
       "      <td>048150_1..S07R</td>\n",
       "      <td>1</td>\n",
       "      <td>None</td>\n",
       "      <td>EXPECTED_TO_ARRIVE_AT</td>\n",
       "      <td>139S</td>\n",
       "      <td>1411045183</td>\n",
       "    </tr>\n",
       "    <tr>\n",
       "      <th>6</th>\n",
       "      <td>048150_1..S07R</td>\n",
       "      <td>1</td>\n",
       "      <td>None</td>\n",
       "      <td>EXPECTED_TO_DEPART_AT</td>\n",
       "      <td>139S</td>\n",
       "      <td>1411045243</td>\n",
       "    </tr>\n",
       "    <tr>\n",
       "      <th>7</th>\n",
       "      <td>048150_1..S07R</td>\n",
       "      <td>1</td>\n",
       "      <td>None</td>\n",
       "      <td>EXPECTED_TO_ARRIVE_AT</td>\n",
       "      <td>140S</td>\n",
       "      <td>1411045393</td>\n",
       "    </tr>\n",
       "  </tbody>\n",
       "</table>\n",
       "</div>"
      ],
      "text/plain": [
       "          trip_id route_id information_time                 action stop_id  \\\n",
       "0  048150_1..S07R        1             None             STOPPED_AT    136S   \n",
       "1  048150_1..S07R        1             None  EXPECTED_TO_ARRIVE_AT    137S   \n",
       "2  048150_1..S07R        1             None  EXPECTED_TO_DEPART_AT    137S   \n",
       "3  048150_1..S07R        1             None  EXPECTED_TO_ARRIVE_AT    138S   \n",
       "4  048150_1..S07R        1             None  EXPECTED_TO_DEPART_AT    138S   \n",
       "5  048150_1..S07R        1             None  EXPECTED_TO_ARRIVE_AT    139S   \n",
       "6  048150_1..S07R        1             None  EXPECTED_TO_DEPART_AT    139S   \n",
       "7  048150_1..S07R        1             None  EXPECTED_TO_ARRIVE_AT    140S   \n",
       "\n",
       "  time_assigned  \n",
       "0    1411044793  \n",
       "1    1411044883  \n",
       "2    1411045003  \n",
       "3    1411045093  \n",
       "4    1411045093  \n",
       "5    1411045183  \n",
       "6    1411045243  \n",
       "7    1411045393  "
      ]
     },
     "execution_count": 77,
     "metadata": {},
     "output_type": "execute_result"
    }
   ],
   "source": [
    "i += 2\n",
    "\n",
    "parse_message_into_action_log(gtfs_r0.entity[i], gtfs_r0.entity[i + 1], None)"
   ]
  },
  {
   "cell_type": "code",
   "execution_count": 81,
   "metadata": {
    "collapsed": false
   },
   "outputs": [],
   "source": [
    "gtfs_r0.entity[15].vehicle.current_status = 1"
   ]
  },
  {
   "cell_type": "code",
   "execution_count": 82,
   "metadata": {
    "collapsed": false
   },
   "outputs": [
    {
     "data": {
      "text/plain": [
       "id: \"000016\"\n",
       "vehicle {\n",
       "  trip {\n",
       "    trip_id: \"049450_1..S08R\"\n",
       "    start_date: \"20140918\"\n",
       "    route_id: \"1\"\n",
       "  }\n",
       "  current_stop_sequence: 26\n",
       "  current_status: STOPPED_AT\n",
       "  timestamp: 1411045187\n",
       "  stop_id: \"140S\"\n",
       "}"
      ]
     },
     "execution_count": 82,
     "metadata": {},
     "output_type": "execute_result"
    }
   ],
   "source": [
    "gtfs_r0.entity[15]"
   ]
  },
  {
   "cell_type": "code",
   "execution_count": 85,
   "metadata": {
    "collapsed": false
   },
   "outputs": [
    {
     "data": {
      "text/html": [
       "<div>\n",
       "<table border=\"1\" class=\"dataframe\">\n",
       "  <thead>\n",
       "    <tr style=\"text-align: right;\">\n",
       "      <th></th>\n",
       "      <th>trip_id</th>\n",
       "      <th>route_id</th>\n",
       "      <th>information_time</th>\n",
       "      <th>action</th>\n",
       "      <th>stop_id</th>\n",
       "      <th>time_assigned</th>\n",
       "    </tr>\n",
       "  </thead>\n",
       "  <tbody>\n",
       "    <tr>\n",
       "      <th>0</th>\n",
       "      <td>049450_1..S08R</td>\n",
       "      <td>1</td>\n",
       "      <td>None</td>\n",
       "      <td>EXPECTED_TO_ARRIVE_AT</td>\n",
       "      <td>140S</td>\n",
       "      <td>1411045326</td>\n",
       "    </tr>\n",
       "  </tbody>\n",
       "</table>\n",
       "</div>"
      ],
      "text/plain": [
       "          trip_id route_id information_time                 action stop_id  \\\n",
       "0  049450_1..S08R        1             None  EXPECTED_TO_ARRIVE_AT    140S   \n",
       "\n",
       "  time_assigned  \n",
       "0    1411045326  "
      ]
     },
     "execution_count": 85,
     "metadata": {},
     "output_type": "execute_result"
    }
   ],
   "source": [
    "parse_message_into_action_log(gtfs_r0.entity[14], gtfs_r0.entity[15], None)"
   ]
  }
 ],
 "metadata": {
  "kernelspec": {
   "display_name": "Python 3",
   "language": "python",
   "name": "python3"
  },
  "language_info": {
   "codemirror_mode": {
    "name": "ipython",
    "version": 3
   },
   "file_extension": ".py",
   "mimetype": "text/x-python",
   "name": "python",
   "nbconvert_exporter": "python",
   "pygments_lexer": "ipython3",
   "version": "3.4.5"
  }
 },
 "nbformat": 4,
 "nbformat_minor": 2
}
