{
 "cells": [
  {
   "cell_type": "markdown",
   "metadata": {},
   "source": [
    "Trip log joins are an operational necessity. However, they do not process fast enough. Let's get them running more quickly."
   ]
  },
  {
   "cell_type": "code",
   "execution_count": 1,
   "metadata": {
    "collapsed": true
   },
   "outputs": [],
   "source": [
    "%load_ext autoreload\n",
    "%autoreload 2"
   ]
  },
  {
   "cell_type": "code",
   "execution_count": 2,
   "metadata": {
    "collapsed": false
   },
   "outputs": [],
   "source": [
    "from google.transit import gtfs_realtime_pb2\n",
    "import sys; sys.path.append(\"../src/\")\n",
    "from processing import parse_feeds_into_trip_logbook, merge_trip_logbooks\n",
    "\n",
    "with open(\"../src/tests/data/gtfs_realtime_pull_1.dat\", \"rb\") as f:\n",
    "    gtfs_r0 = gtfs_realtime_pb2.FeedMessage()\n",
    "    gtfs_r0.ParseFromString(f.read())\n",
    "with open(\"../src/tests/data/gtfs_realtime_pull_2.dat\", \"rb\") as f:\n",
    "    gtfs_r1 = gtfs_realtime_pb2.FeedMessage()\n",
    "    gtfs_r1.ParseFromString(f.read())\n",
    "\n",
    "left_logbook = parse_feeds_into_trip_logbook([gtfs_r0], [0])\n",
    "right_logbook = parse_feeds_into_trip_logbook([gtfs_r1], [1])"
   ]
  },
  {
   "cell_type": "code",
   "execution_count": 3,
   "metadata": {
    "collapsed": false
   },
   "outputs": [],
   "source": [
    "# Slow!\n",
    "# result = merge_trip_logbooks([left_logbook, right_logbook])"
   ]
  },
  {
   "cell_type": "markdown",
   "metadata": {},
   "source": [
    "The above makes it obvious that the problem is that we are running `_join_trip_logs`, a multi-second operation, 162 times here. So we need to raise that functions' execution speed."
   ]
  },
  {
   "cell_type": "code",
   "execution_count": 4,
   "metadata": {
    "collapsed": false
   },
   "outputs": [],
   "source": [
    "from processing import _join_trip_logs"
   ]
  },
  {
   "cell_type": "markdown",
   "metadata": {},
   "source": [
    "Old code:"
   ]
  },
  {
   "cell_type": "markdown",
   "metadata": {},
   "source": [
    "This is a 20x speedup. However, the full merge still takes 20 seconds (!), due to `__setitem__` calls still in `_join_trip_logs`. It's not transparent to me where these are coming from, so I spent some time muddling about in it."
   ]
  },
  {
   "cell_type": "markdown",
   "metadata": {},
   "source": [
    "We got another 33% speedup by avoiding `DataFrame` transforms."
   ]
  },
  {
   "cell_type": "markdown",
   "metadata": {},
   "source": [
    "Eventually we get a really huge speedup, from forever to less than a second, but this is still surprising to me as I expected it to process faster. But this seems to be as fast as it gets..."
   ]
  },
  {
   "cell_type": "code",
   "execution_count": 6,
   "metadata": {
    "collapsed": false,
    "scrolled": false
   },
   "outputs": [
    {
     "name": "stdout",
     "output_type": "stream",
     "text": [
      "\u001b[31m0.862\u001b[0m _join_trip_logs  \u001b[2mprocessing.py:592\u001b[0m\n",
      "├─ \u001b[33m0.336\u001b[0m __setitem__  \u001b[2mpandas/core/indexing.py:135\u001b[0m\n",
      "│  ├─ \u001b[33m0.186\u001b[0m _setitem_with_indexer  \u001b[2mpandas/core/indexing.py:233\u001b[0m\n",
      "│  │  ├─ \u001b[32m0.115\u001b[0m setter  \u001b[2mpandas/core/indexing.py:455\u001b[0m\n",
      "│  │  │  ├─ \u001b[32m0.059\u001b[0m __setitem__  \u001b[2mpandas/core/frame.py:2405\u001b[0m\n",
      "│  │  │  │  └─ \u001b[32m0.049\u001b[0m _set_item  \u001b[2mpandas/core/frame.py:2473\u001b[0m\n",
      "│  │  │  │     ├─ \u001b[92m\u001b[2m0.030\u001b[0m _set_item  \u001b[2mpandas/core/generic.py:1499\u001b[0m\n",
      "│  │  │  │     │  └─ \u001b[92m\u001b[2m0.028\u001b[0m set  \u001b[2mpandas/core/internals.py:3636\u001b[0m\n",
      "│  │  │  │     └─ \u001b[92m\u001b[2m0.018\u001b[0m _sanitize_column  \u001b[2mpandas/core/frame.py:2593\u001b[0m\n",
      "│  │  │  ├─ \u001b[92m\u001b[2m0.026\u001b[0m setitem  \u001b[2mpandas/core/internals.py:3167\u001b[0m\n",
      "│  │  │  │  └─ \u001b[92m\u001b[2m0.026\u001b[0m apply  \u001b[2mpandas/core/internals.py:2978\u001b[0m\n",
      "│  │  │  │     └─ \u001b[92m\u001b[2m0.022\u001b[0m setitem  \u001b[2mpandas/core/internals.py:654\u001b[0m\n",
      "│  │  │  └─ \u001b[92m\u001b[2m0.018\u001b[0m copy  \u001b[2mpandas/core/generic.py:3057\u001b[0m\n",
      "│  │  │     └─ \u001b[92m\u001b[2m0.013\u001b[0m copy  \u001b[2mpandas/core/internals.py:3364\u001b[0m\n",
      "│  │  ├─ \u001b[92m\u001b[2m0.036\u001b[0m __getitem__  \u001b[2mpandas/core/frame.py:2035\u001b[0m\n",
      "│  │  │  └─ \u001b[92m\u001b[2m0.032\u001b[0m _getitem_column  \u001b[2mpandas/core/frame.py:2061\u001b[0m\n",
      "│  │  │     └─ \u001b[92m\u001b[2m0.032\u001b[0m _get_item_cache  \u001b[2mpandas/core/generic.py:1381\u001b[0m\n",
      "│  │  │        ├─ \u001b[92m\u001b[2m0.016\u001b[0m _box_item_values  \u001b[2mpandas/core/frame.py:2393\u001b[0m\n",
      "│  │  │        │  └─ \u001b[92m\u001b[2m0.011\u001b[0m _box_col_values  \u001b[2mpandas/core/frame.py:2400\u001b[0m\n",
      "│  │  │        │     └─ \u001b[92m\u001b[2m0.011\u001b[0m from_array  \u001b[2mpandas/core/series.py:252\u001b[0m\n",
      "│  │  │        │        └─ \u001b[92m\u001b[2m0.009\u001b[0m __init__  \u001b[2mpandas/core/series.py:135\u001b[0m\n",
      "│  │  │        └─ \u001b[92m\u001b[2m0.014\u001b[0m get  \u001b[2mpandas/core/internals.py:3536\u001b[0m\n",
      "│  │  │           └─ \u001b[92m\u001b[2m0.009\u001b[0m iget  \u001b[2mpandas/core/internals.py:3565\u001b[0m\n",
      "│  │  └─ \u001b[92m\u001b[2m0.014\u001b[0m __getitem__  \u001b[2mpandas/indexes/base.py:1406\u001b[0m\n",
      "│  └─ \u001b[32m0.146\u001b[0m _get_setitem_indexer  \u001b[2mpandas/core/indexing.py:110\u001b[0m\n",
      "│     └─ \u001b[32m0.144\u001b[0m _convert_tuple  \u001b[2mpandas/core/indexing.py:172\u001b[0m\n",
      "│        └─ \u001b[32m0.142\u001b[0m _convert_to_indexer  \u001b[2mpandas/core/indexing.py:1116\u001b[0m\n",
      "│           ├─ \u001b[32m0.100\u001b[0m get_loc  \u001b[2mpandas/indexes/base.py:2104\u001b[0m\n",
      "│           │  └─ \u001b[32m0.099\u001b[0m array_str  \u001b[2mnumpy/core/numeric.py:1835\u001b[0m\n",
      "│           │     └─ \u001b[32m0.099\u001b[0m array2string  \u001b[2mnumpy/core/arrayprint.py:340\u001b[0m\n",
      "│           │        └─ \u001b[32m0.097\u001b[0m _array2string  \u001b[2mnumpy/core/arrayprint.py:237\u001b[0m\n",
      "│           │           ├─ \u001b[32m0.048\u001b[0m __init__  \u001b[2mnumpy/core/arrayprint.py:696\u001b[0m\n",
      "│           │           │  └─ \u001b[32m0.048\u001b[0m __init__  \u001b[2mnumpy/core/arrayprint.py:529\u001b[0m\n",
      "│           │           │     └─ \u001b[32m0.047\u001b[0m fillFormat  \u001b[2mnumpy/core/arrayprint.py:543\u001b[0m\n",
      "│           │           └─ \u001b[92m\u001b[2m0.027\u001b[0m __init__  \u001b[2mnumpy/core/arrayprint.py:529\u001b[0m\n",
      "│           │              └─ \u001b[92m\u001b[2m0.025\u001b[0m fillFormat  \u001b[2mnumpy/core/arrayprint.py:543\u001b[0m\n",
      "│           └─ \u001b[92m\u001b[2m0.021\u001b[0m get_indexer  \u001b[2mpandas/indexes/base.py:2217\u001b[0m\n",
      "├─ \u001b[32m0.134\u001b[0m __getitem__  \u001b[2mpandas/core/indexing.py:1302\u001b[0m\n",
      "│  ├─ \u001b[32m0.065\u001b[0m _getitem_axis  \u001b[2mpandas/core/indexing.py:1599\u001b[0m\n",
      "│  │  └─ \u001b[32m0.050\u001b[0m _get_loc  \u001b[2mpandas/core/indexing.py:104\u001b[0m\n",
      "│  │     └─ \u001b[32m0.050\u001b[0m _ixs  \u001b[2mpandas/core/frame.py:1953\u001b[0m\n",
      "│  │        ├─ \u001b[92m\u001b[2m0.032\u001b[0m take  \u001b[2mpandas/core/generic.py:1650\u001b[0m\n",
      "│  │        │  └─ \u001b[92m\u001b[2m0.023\u001b[0m take  \u001b[2mpandas/core/internals.py:3943\u001b[0m\n",
      "│  │        │     └─ \u001b[92m\u001b[2m0.014\u001b[0m reindex_indexer  \u001b[2mpandas/core/internals.py:3813\u001b[0m\n",
      "│  │        └─ \u001b[92m\u001b[2m0.010\u001b[0m __init__  \u001b[2mpandas/core/series.py:135\u001b[0m\n",
      "│  └─ \u001b[32m0.064\u001b[0m _getitem_tuple  \u001b[2mpandas/core/indexing.py:794\u001b[0m\n",
      "│     └─ \u001b[32m0.064\u001b[0m _getitem_lowerdim  \u001b[2mpandas/core/indexing.py:894\u001b[0m\n",
      "│        └─ \u001b[32m0.049\u001b[0m _getitem_axis  \u001b[2mpandas/core/indexing.py:1447\u001b[0m\n",
      "│           └─ \u001b[92m\u001b[2m0.037\u001b[0m _get_label  \u001b[2mpandas/core/indexing.py:89\u001b[0m\n",
      "│              └─ \u001b[92m\u001b[2m0.037\u001b[0m xs  \u001b[2mpandas/core/generic.py:1679\u001b[0m\n",
      "│                 └─ \u001b[92m\u001b[2m0.031\u001b[0m __init__  \u001b[2mpandas/core/series.py:135\u001b[0m\n",
      "│                    └─ \u001b[92m\u001b[2m0.017\u001b[0m _sanitize_array  \u001b[2mpandas/core/series.py:2817\u001b[0m\n",
      "│                       └─ \u001b[92m\u001b[2m0.009\u001b[0m _try_cast  \u001b[2mpandas/core/series.py:2834\u001b[0m\n",
      "├─ \u001b[32m0.121\u001b[0m __getitem__  \u001b[2mpandas/core/frame.py:2035\u001b[0m\n",
      "│  ├─ \u001b[32m0.066\u001b[0m _getitem_array  \u001b[2mpandas/core/frame.py:2078\u001b[0m\n",
      "│  │  └─ \u001b[32m0.057\u001b[0m take  \u001b[2mpandas/core/generic.py:1650\u001b[0m\n",
      "│  │     └─ \u001b[32m0.049\u001b[0m take  \u001b[2mpandas/core/internals.py:3943\u001b[0m\n",
      "│  │        └─ \u001b[92m\u001b[2m0.029\u001b[0m reindex_indexer  \u001b[2mpandas/core/internals.py:3813\u001b[0m\n",
      "│  │           ├─ \u001b[92m\u001b[2m0.017\u001b[0m <listcomp>  \u001b[2mpandas/core/internals.py:3848\u001b[0m\n",
      "│  │           │  └─ \u001b[92m\u001b[2m0.010\u001b[0m take_nd  \u001b[2mpandas/core/internals.py:2126\u001b[0m\n",
      "│  │           │     └─ \u001b[92m\u001b[2m0.009\u001b[0m take_nd  \u001b[2mpandas/core/categorical.py:1481\u001b[0m\n",
      "│  │           └─ \u001b[92m\u001b[2m0.013\u001b[0m __init__  \u001b[2mpandas/core/internals.py:2745\u001b[0m\n",
      "│  │              └─ \u001b[92m\u001b[2m0.009\u001b[0m _rebuild_blknos_and_blklocs  \u001b[2mpandas/core/internals.py:2841\u001b[0m\n",
      "│  ├─ \u001b[92m\u001b[2m0.023\u001b[0m _getitem_slice  \u001b[2mpandas/core/frame.py:2075\u001b[0m\n",
      "│  │  └─ \u001b[92m\u001b[2m0.023\u001b[0m _slice  \u001b[2mpandas/core/generic.py:1483\u001b[0m\n",
      "│  │     └─ \u001b[92m\u001b[2m0.020\u001b[0m get_slice  \u001b[2mpandas/core/internals.py:3337\u001b[0m\n",
      "│  └─ \u001b[92m\u001b[2m0.018\u001b[0m _getitem_column  \u001b[2mpandas/core/frame.py:2061\u001b[0m\n",
      "│     └─ \u001b[92m\u001b[2m0.016\u001b[0m _get_item_cache  \u001b[2mpandas/core/generic.py:1381\u001b[0m\n",
      "├─ \u001b[32m0.086\u001b[0m concat  \u001b[2mpandas/tools/merge.py:1396\u001b[0m\n",
      "│  ├─ \u001b[32m0.051\u001b[0m get_result  \u001b[2mpandas/tools/merge.py:1599\u001b[0m\n",
      "│  │  └─ \u001b[32m0.046\u001b[0m concatenate_block_managers  \u001b[2mpandas/core/internals.py:4807\u001b[0m\n",
      "│  │     ├─ \u001b[92m\u001b[2m0.029\u001b[0m <listcomp>  \u001b[2mpandas/core/internals.py:4823\u001b[0m\n",
      "│  │     │  └─ \u001b[92m\u001b[2m0.025\u001b[0m concatenate_join_units  \u001b[2mpandas/core/internals.py:4910\u001b[0m\n",
      "│  │     │     └─ \u001b[92m\u001b[2m0.017\u001b[0m get_empty_dtype_and_na  \u001b[2mpandas/core/internals.py:4830\u001b[0m\n",
      "│  │     │        └─ \u001b[92m\u001b[2m0.013\u001b[0m is_null  \u001b[2mpandas/core/internals.py:5141\u001b[0m\n",
      "│  │     └─ \u001b[92m\u001b[2m0.014\u001b[0m __init__  \u001b[2mpandas/core/internals.py:2745\u001b[0m\n",
      "│  └─ \u001b[92m\u001b[2m0.035\u001b[0m __init__  \u001b[2mpandas/tools/merge.py:1460\u001b[0m\n",
      "│     └─ \u001b[92m\u001b[2m0.027\u001b[0m _get_new_axes  \u001b[2mpandas/tools/merge.py:1664\u001b[0m\n",
      "│        ├─ \u001b[92m\u001b[2m0.018\u001b[0m _get_concat_axis  \u001b[2mpandas/tools/merge.py:1700\u001b[0m\n",
      "│        │  └─ \u001b[92m\u001b[2m0.018\u001b[0m _concat_indexes  \u001b[2mpandas/tools/merge.py:1756\u001b[0m\n",
      "│        │     └─ \u001b[92m\u001b[2m0.018\u001b[0m append  \u001b[2mpandas/indexes/base.py:1440\u001b[0m\n",
      "│        │        └─ \u001b[92m\u001b[2m0.013\u001b[0m _append_same_dtype  \u001b[2mpandas/indexes/base.py:1478\u001b[0m\n",
      "│        │           └─ \u001b[92m\u001b[2m0.013\u001b[0m _concat_index_asobject  \u001b[2mpandas/types/concat.py:392\u001b[0m\n",
      "│        └─ \u001b[92m\u001b[2m0.009\u001b[0m _get_comb_axis  \u001b[2mpandas/tools/merge.py:1688\u001b[0m\n",
      "├─ \u001b[32m0.054\u001b[0m __init__  \u001b[2mpandas/core/categorical.py:233\u001b[0m\n",
      "│  ├─ \u001b[92m\u001b[2m0.037\u001b[0m _validate_categories  \u001b[2mpandas/core/categorical.py:532\u001b[0m\n",
      "│  │  └─ \u001b[92m\u001b[2m0.016\u001b[0m __new__  \u001b[2mpandas/indexes/base.py:142\u001b[0m\n",
      "│  └─ \u001b[92m\u001b[2m0.012\u001b[0m _get_codes_for_values  \u001b[2mpandas/core/categorical.py:1977\u001b[0m\n",
      "│     └─ \u001b[92m\u001b[2m0.009\u001b[0m _get_data_algo  \u001b[2mpandas/core/algorithms.py:786\u001b[0m\n",
      "├─ \u001b[92m\u001b[2m0.033\u001b[0m __setitem__  \u001b[2mpandas/core/frame.py:2405\u001b[0m\n",
      "│  └─ \u001b[92m\u001b[2m0.033\u001b[0m _set_item  \u001b[2mpandas/core/frame.py:2473\u001b[0m\n",
      "│     └─ \u001b[92m\u001b[2m0.031\u001b[0m _set_item  \u001b[2mpandas/core/generic.py:1499\u001b[0m\n",
      "│        └─ \u001b[92m\u001b[2m0.031\u001b[0m set  \u001b[2mpandas/core/internals.py:3636\u001b[0m\n",
      "│           └─ \u001b[92m\u001b[2m0.020\u001b[0m delete  \u001b[2mpandas/core/internals.py:339\u001b[0m\n",
      "│              └─ \u001b[92m\u001b[2m0.017\u001b[0m delete  \u001b[2mnumpy/lib/function_base.py:4121\u001b[0m\n",
      "├─ \u001b[92m\u001b[2m0.031\u001b[0m wrapper  \u001b[2mpandas/core/ops.py:803\u001b[0m\n",
      "│  └─ \u001b[92m\u001b[2m0.017\u001b[0m na_op  \u001b[2mpandas/core/ops.py:749\u001b[0m\n",
      "│     └─ \u001b[92m\u001b[2m0.016\u001b[0m _comp_method_OBJECT_ARRAY  \u001b[2mpandas/core/ops.py:727\u001b[0m\n",
      "│        └─ \u001b[92m\u001b[2m0.012\u001b[0m _find_and_load  \u001b[2m<frozen importlib._bootstrap>:2234\u001b[0m\n",
      "├─ \u001b[92m\u001b[2m0.030\u001b[0m stat_func  \u001b[2mpandas/core/generic.py:5618\u001b[0m\n",
      "│  └─ \u001b[92m\u001b[2m0.027\u001b[0m _reduce  \u001b[2mpandas/core/series.py:2303\u001b[0m\n",
      "│     └─ \u001b[92m\u001b[2m0.021\u001b[0m f  \u001b[2mpandas/core/nanops.py:76\u001b[0m\n",
      "│        └─ \u001b[92m\u001b[2m0.021\u001b[0m reduction  \u001b[2mpandas/core/nanops.py:433\u001b[0m\n",
      "│           └─ \u001b[92m\u001b[2m0.015\u001b[0m _get_values  \u001b[2mpandas/core/nanops.py:175\u001b[0m\n",
      "├─ \u001b[92m\u001b[2m0.017\u001b[0m reset_index  \u001b[2mpandas/core/frame.py:2940\u001b[0m\n",
      "│  └─ \u001b[92m\u001b[2m0.013\u001b[0m copy  \u001b[2mpandas/core/generic.py:3057\u001b[0m\n",
      "│     └─ \u001b[92m\u001b[2m0.012\u001b[0m copy  \u001b[2mpandas/core/internals.py:3364\u001b[0m\n",
      "└─ \u001b[92m\u001b[2m0.014\u001b[0m _extract_synthetic_route_from_station_lists  \u001b[2mprocessing.py:419\u001b[0m\n",
      "   └─ \u001b[92m\u001b[2m0.014\u001b[0m _synthesize_station_lists  \u001b[2mprocessing.py:431\u001b[0m\n",
      "\n"
     ]
    }
   ],
   "source": [
    "from pyinstrument import Profiler\n",
    "\n",
    "profiler = Profiler()\n",
    "profiler.start()\n",
    "\n",
    "# code you want to profile\n",
    "result = merge_trip_logbooks([left_logbook, right_logbook])\n",
    "\n",
    "profiler.stop()\n",
    "\n",
    "print(profiler.output_text(unicode=True, color=True))"
   ]
  },
  {
   "cell_type": "code",
   "execution_count": 7,
   "metadata": {
    "collapsed": true
   },
   "outputs": [],
   "source": [
    "import os\n",
    "\n",
    "logs = [f for f in os.listdir(\"./data/subway_time_20160512\") if f != 'arch.tar.xz' \n",
    "        and 'si' not in f and 'l' not in f]"
   ]
  },
  {
   "cell_type": "code",
   "execution_count": 8,
   "metadata": {
    "collapsed": false,
    "scrolled": true
   },
   "outputs": [
    {
     "data": {
      "text/plain": [
       "['gtfs-20160512T0415Z',\n",
       " 'gtfs-20160512T1759Z',\n",
       " 'gtfs-20160512T2155Z',\n",
       " 'gtfs-20160512T0610Z',\n",
       " 'gtfs-20160513T0153Z']"
      ]
     },
     "execution_count": 8,
     "metadata": {},
     "output_type": "execute_result"
    }
   ],
   "source": [
    "logs[:5]"
   ]
  },
  {
   "cell_type": "code",
   "execution_count": 9,
   "metadata": {
    "collapsed": true
   },
   "outputs": [],
   "source": [
    "from google.transit import gtfs_realtime_pb2"
   ]
  },
  {
   "cell_type": "code",
   "execution_count": 10,
   "metadata": {
    "collapsed": true
   },
   "outputs": [],
   "source": [
    "def parse_feed(filepath):\n",
    "    with open(filepath, \"rb\") as f:\n",
    "        try:\n",
    "            fm = gtfs_realtime_pb2.FeedMessage()\n",
    "            fm.ParseFromString(f.read())\n",
    "            return fm\n",
    "        except (KeyboardInterrupt, SystemExit):\n",
    "            raise\n",
    "        except:\n",
    "            return None"
   ]
  },
  {
   "cell_type": "markdown",
   "metadata": {},
   "source": [
    "Note: the data above comes from the next notebook. You can get it yourself by using the following magical incantation:\n",
    "\n",
    "    pip install requests gtfs-realtime-bindings\n",
    "    python -c \"import requests; r = requests.get('http://data.mytransit.nyc.s3.amazonaws.com/subway_time/2016/2016-05/subway_time_20160512.tar.xz'); open('arch.tar.xz', 'wb').write(r.content)\"\n",
    "    tar xvfJ arch.tar.xz\n",
    "    python -c \"from google.transit import gtfs_realtime_pb2; test_example = gtfs_realtime_pb2.FeedMessage().ParseFromString(open('gtfs-20160512T0400Z', 'rb').read()); print(type(test_example))\""
   ]
  },
  {
   "cell_type": "code",
   "execution_count": 11,
   "metadata": {
    "collapsed": true
   },
   "outputs": [],
   "source": [
    "from tqdm import tqdm"
   ]
  },
  {
   "cell_type": "code",
   "execution_count": 12,
   "metadata": {
    "collapsed": false
   },
   "outputs": [
    {
     "name": "stderr",
     "output_type": "stream",
     "text": [
      "100%|██████████| 6/6 [00:01<00:00,  4.33it/s]\n"
     ]
    }
   ],
   "source": [
    "feeds = [parse_feed(\"./data/subway_time_20160512/\" + l) for l in tqdm(logs[:6])]"
   ]
  },
  {
   "cell_type": "code",
   "execution_count": 13,
   "metadata": {
    "collapsed": true
   },
   "outputs": [],
   "source": [
    "import sys; sys.path.append(\"../src/\")\n",
    "from processing import parse_feeds_into_trip_logbook"
   ]
  },
  {
   "cell_type": "code",
   "execution_count": 16,
   "metadata": {
    "collapsed": false
   },
   "outputs": [],
   "source": [
    "logbooks = [\n",
    "    parse_feeds_into_trip_logbook(feeds[0:3], [0, 1, 2]), \n",
    "    parse_feeds_into_trip_logbook(feeds[3:6], [3, 4, 5])\n",
    "]"
   ]
  },
  {
   "cell_type": "markdown",
   "metadata": {},
   "source": [
    "This is now very fast."
   ]
  },
  {
   "cell_type": "code",
   "execution_count": 19,
   "metadata": {
    "collapsed": false
   },
   "outputs": [
    {
     "name": "stdout",
     "output_type": "stream",
     "text": [
      "1 loop, best of 3: 305 ms per loop\n"
     ]
    }
   ],
   "source": [
    "%timeit master = merge_trip_logbooks(logbooks)"
   ]
  }
 ],
 "metadata": {
  "kernelspec": {
   "display_name": "Python 3",
   "language": "python",
   "name": "python3"
  },
  "language_info": {
   "codemirror_mode": {
    "name": "ipython",
    "version": 3
   },
   "file_extension": ".py",
   "mimetype": "text/x-python",
   "name": "python",
   "nbconvert_exporter": "python",
   "pygments_lexer": "ipython3",
   "version": "3.4.5"
  }
 },
 "nbformat": 4,
 "nbformat_minor": 2
}
