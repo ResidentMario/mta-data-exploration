{
 "cells": [
  {
   "cell_type": "code",
   "execution_count": 1,
   "metadata": {
    "collapsed": true
   },
   "outputs": [],
   "source": [
    "import pygtfs\n",
    "sched = pygtfs.Schedule(\":memory:\")"
   ]
  },
  {
   "cell_type": "code",
   "execution_count": 2,
   "metadata": {
    "collapsed": false
   },
   "outputs": [
    {
     "name": "stdout",
     "output_type": "stream",
     "text": [
      "Loading GTFS data for <class 'pygtfs.gtfs_entities.Agency'>:\n",
      "Loading GTFS data for <class 'pygtfs.gtfs_entities.Stop'>:\n",
      "Loading GTFS data for <class 'pygtfs.gtfs_entities.Route'>:\n",
      "Loading GTFS data for <class 'pygtfs.gtfs_entities.Trip'>:\n",
      "Loading GTFS data for <class 'pygtfs.gtfs_entities.StopTime'>:\n",
      "Loading GTFS data for <class 'pygtfs.gtfs_entities.Service'>:\n",
      "Loading GTFS data for <class 'pygtfs.gtfs_entities.ServiceException'>:\n",
      "Loading GTFS data for <class 'pygtfs.gtfs_entities.Fare'>:\n",
      "Loading GTFS data for <class 'pygtfs.gtfs_entities.FareRule'>:\n",
      "Loading GTFS data for <class 'pygtfs.gtfs_entities.ShapePoint'>:\n",
      "Loading GTFS data for <class 'pygtfs.gtfs_entities.Frequency'>:\n",
      "Loading GTFS data for <class 'pygtfs.gtfs_entities.Transfer'>:\n",
      "Loading GTFS data for <class 'pygtfs.gtfs_entities.FeedInfo'>:\n",
      "Loading GTFS data for <class 'pygtfs.gtfs_entities.Translation'>:\n",
      "1 record read for <class 'pygtfs.gtfs_entities.Agency'>.\n"
     ]
    },
    {
     "name": "stderr",
     "output_type": "stream",
     "text": [
      "/home/alex/miniconda3/envs/mta-data-exploration/lib/python3.4/site-packages/sqlalchemy/orm/relationships.py:2694: SAWarning: relationship 'Trip.service' will copy column calendar.feed_id to column trips.feed_id, which conflicts with relationship(s): 'ShapePoint.trips' (copies shapes.feed_id to trips.feed_id), 'Trip.shape_points' (copies shapes.feed_id to trips.feed_id). Consider applying viewonly=True to read-only relationships, or provide a primaryjoin condition marking writable columns with the foreign() annotation.\n",
      "  for (pr, fr_) in other_props)\n",
      "/home/alex/miniconda3/envs/mta-data-exploration/lib/python3.4/site-packages/sqlalchemy/orm/relationships.py:2694: SAWarning: relationship 'Service.trips' will copy column calendar.feed_id to column trips.feed_id, which conflicts with relationship(s): 'ShapePoint.trips' (copies shapes.feed_id to trips.feed_id), 'Trip.shape_points' (copies shapes.feed_id to trips.feed_id). Consider applying viewonly=True to read-only relationships, or provide a primaryjoin condition marking writable columns with the foreign() annotation.\n",
      "  for (pr, fr_) in other_props)\n",
      "/home/alex/miniconda3/envs/mta-data-exploration/lib/python3.4/site-packages/sqlalchemy/orm/relationships.py:2694: SAWarning: relationship 'Trip.route' will copy column routes.feed_id to column trips.feed_id, which conflicts with relationship(s): 'Trip.service' (copies calendar.feed_id to trips.feed_id), 'ShapePoint.trips' (copies shapes.feed_id to trips.feed_id), 'Service.trips' (copies calendar.feed_id to trips.feed_id), 'Trip.shape_points' (copies shapes.feed_id to trips.feed_id). Consider applying viewonly=True to read-only relationships, or provide a primaryjoin condition marking writable columns with the foreign() annotation.\n",
      "  for (pr, fr_) in other_props)\n",
      "/home/alex/miniconda3/envs/mta-data-exploration/lib/python3.4/site-packages/sqlalchemy/orm/relationships.py:2694: SAWarning: relationship 'Route.trips' will copy column routes.feed_id to column trips.feed_id, which conflicts with relationship(s): 'Trip.service' (copies calendar.feed_id to trips.feed_id), 'ShapePoint.trips' (copies shapes.feed_id to trips.feed_id), 'Service.trips' (copies calendar.feed_id to trips.feed_id), 'Trip.shape_points' (copies shapes.feed_id to trips.feed_id). Consider applying viewonly=True to read-only relationships, or provide a primaryjoin condition marking writable columns with the foreign() annotation.\n",
      "  for (pr, fr_) in other_props)\n",
      "/home/alex/miniconda3/envs/mta-data-exploration/lib/python3.4/site-packages/sqlalchemy/orm/relationships.py:2694: SAWarning: relationship 'StopTime.stop' will copy column stops.feed_id to column stop_times.feed_id, which conflicts with relationship(s): 'Trip.stop_times' (copies trips.feed_id to stop_times.feed_id), 'StopTime.trip' (copies trips.feed_id to stop_times.feed_id). Consider applying viewonly=True to read-only relationships, or provide a primaryjoin condition marking writable columns with the foreign() annotation.\n",
      "  for (pr, fr_) in other_props)\n",
      "/home/alex/miniconda3/envs/mta-data-exploration/lib/python3.4/site-packages/sqlalchemy/orm/relationships.py:2694: SAWarning: relationship 'Stop.stop_times' will copy column stops.feed_id to column stop_times.feed_id, which conflicts with relationship(s): 'Trip.stop_times' (copies trips.feed_id to stop_times.feed_id), 'StopTime.trip' (copies trips.feed_id to stop_times.feed_id). Consider applying viewonly=True to read-only relationships, or provide a primaryjoin condition marking writable columns with the foreign() annotation.\n",
      "  for (pr, fr_) in other_props)\n",
      "/home/alex/miniconda3/envs/mta-data-exploration/lib/python3.4/site-packages/sqlalchemy/orm/relationships.py:2694: SAWarning: relationship 'Route.feed' will copy column _feed.feed_id to column routes.feed_id, which conflicts with relationship(s): 'Agency.routes' (copies agency.feed_id to routes.feed_id), 'Route.agency' (copies agency.feed_id to routes.feed_id). Consider applying viewonly=True to read-only relationships, or provide a primaryjoin condition marking writable columns with the foreign() annotation.\n",
      "  for (pr, fr_) in other_props)\n",
      "/home/alex/miniconda3/envs/mta-data-exploration/lib/python3.4/site-packages/sqlalchemy/orm/relationships.py:2694: SAWarning: relationship 'Feed.routes' will copy column _feed.feed_id to column routes.feed_id, which conflicts with relationship(s): 'Agency.routes' (copies agency.feed_id to routes.feed_id), 'Route.agency' (copies agency.feed_id to routes.feed_id). Consider applying viewonly=True to read-only relationships, or provide a primaryjoin condition marking writable columns with the foreign() annotation.\n",
      "  for (pr, fr_) in other_props)\n",
      "/home/alex/miniconda3/envs/mta-data-exploration/lib/python3.4/site-packages/sqlalchemy/orm/relationships.py:2694: SAWarning: relationship 'Trip.feed' will copy column _feed.feed_id to column trips.feed_id, which conflicts with relationship(s): 'Trip.shape_points' (copies shapes.feed_id to trips.feed_id), 'Trip.service' (copies calendar.feed_id to trips.feed_id), 'ShapePoint.trips' (copies shapes.feed_id to trips.feed_id), 'Route.trips' (copies routes.feed_id to trips.feed_id), 'Trip.route' (copies routes.feed_id to trips.feed_id), 'Service.trips' (copies calendar.feed_id to trips.feed_id). Consider applying viewonly=True to read-only relationships, or provide a primaryjoin condition marking writable columns with the foreign() annotation.\n",
      "  for (pr, fr_) in other_props)\n",
      "/home/alex/miniconda3/envs/mta-data-exploration/lib/python3.4/site-packages/sqlalchemy/orm/relationships.py:2694: SAWarning: relationship 'Feed.trips' will copy column _feed.feed_id to column trips.feed_id, which conflicts with relationship(s): 'Trip.shape_points' (copies shapes.feed_id to trips.feed_id), 'Trip.service' (copies calendar.feed_id to trips.feed_id), 'ShapePoint.trips' (copies shapes.feed_id to trips.feed_id), 'Route.trips' (copies routes.feed_id to trips.feed_id), 'Trip.route' (copies routes.feed_id to trips.feed_id), 'Service.trips' (copies calendar.feed_id to trips.feed_id). Consider applying viewonly=True to read-only relationships, or provide a primaryjoin condition marking writable columns with the foreign() annotation.\n",
      "  for (pr, fr_) in other_props)\n",
      "/home/alex/miniconda3/envs/mta-data-exploration/lib/python3.4/site-packages/sqlalchemy/orm/relationships.py:2694: SAWarning: relationship 'StopTime.feed' will copy column _feed.feed_id to column stop_times.feed_id, which conflicts with relationship(s): 'Trip.stop_times' (copies trips.feed_id to stop_times.feed_id), 'Stop.stop_times' (copies stops.feed_id to stop_times.feed_id), 'StopTime.stop' (copies stops.feed_id to stop_times.feed_id), 'StopTime.trip' (copies trips.feed_id to stop_times.feed_id). Consider applying viewonly=True to read-only relationships, or provide a primaryjoin condition marking writable columns with the foreign() annotation.\n",
      "  for (pr, fr_) in other_props)\n",
      "/home/alex/miniconda3/envs/mta-data-exploration/lib/python3.4/site-packages/sqlalchemy/orm/relationships.py:2694: SAWarning: relationship 'Feed.stop_times' will copy column _feed.feed_id to column stop_times.feed_id, which conflicts with relationship(s): 'Trip.stop_times' (copies trips.feed_id to stop_times.feed_id), 'Stop.stop_times' (copies stops.feed_id to stop_times.feed_id), 'StopTime.stop' (copies stops.feed_id to stop_times.feed_id), 'StopTime.trip' (copies trips.feed_id to stop_times.feed_id). Consider applying viewonly=True to read-only relationships, or provide a primaryjoin condition marking writable columns with the foreign() annotation.\n",
      "  for (pr, fr_) in other_props)\n",
      "/home/alex/miniconda3/envs/mta-data-exploration/lib/python3.4/site-packages/sqlalchemy/orm/relationships.py:2694: SAWarning: relationship 'FareRule.feed' will copy column _feed.feed_id to column fare_rules.feed_id, which conflicts with relationship(s): 'Route.fare_rules' (copies routes.feed_id to fare_rules.feed_id), 'FareRule.route' (copies routes.feed_id to fare_rules.feed_id). Consider applying viewonly=True to read-only relationships, or provide a primaryjoin condition marking writable columns with the foreign() annotation.\n",
      "  for (pr, fr_) in other_props)\n",
      "/home/alex/miniconda3/envs/mta-data-exploration/lib/python3.4/site-packages/sqlalchemy/orm/relationships.py:2694: SAWarning: relationship 'Feed.fare_rules' will copy column _feed.feed_id to column fare_rules.feed_id, which conflicts with relationship(s): 'Route.fare_rules' (copies routes.feed_id to fare_rules.feed_id), 'FareRule.route' (copies routes.feed_id to fare_rules.feed_id). Consider applying viewonly=True to read-only relationships, or provide a primaryjoin condition marking writable columns with the foreign() annotation.\n",
      "  for (pr, fr_) in other_props)\n",
      "/home/alex/miniconda3/envs/mta-data-exploration/lib/python3.4/site-packages/sqlalchemy/orm/relationships.py:2694: SAWarning: relationship 'Frequency.feed' will copy column _feed.feed_id to column frequencies.feed_id, which conflicts with relationship(s): 'Trip.frequencies' (copies trips.feed_id to frequencies.feed_id), 'Frequency.trip' (copies trips.feed_id to frequencies.feed_id). Consider applying viewonly=True to read-only relationships, or provide a primaryjoin condition marking writable columns with the foreign() annotation.\n",
      "  for (pr, fr_) in other_props)\n",
      "/home/alex/miniconda3/envs/mta-data-exploration/lib/python3.4/site-packages/sqlalchemy/orm/relationships.py:2694: SAWarning: relationship 'Feed.frequencies' will copy column _feed.feed_id to column frequencies.feed_id, which conflicts with relationship(s): 'Trip.frequencies' (copies trips.feed_id to frequencies.feed_id), 'Frequency.trip' (copies trips.feed_id to frequencies.feed_id). Consider applying viewonly=True to read-only relationships, or provide a primaryjoin condition marking writable columns with the foreign() annotation.\n",
      "  for (pr, fr_) in other_props)\n"
     ]
    },
    {
     "name": "stdout",
     "output_type": "stream",
     "text": [
      "1497 records read for <class 'pygtfs.gtfs_entities.Stop'>.\n",
      "29 records read for <class 'pygtfs.gtfs_entities.Route'>.\n",
      "....20622 records read for <class 'pygtfs.gtfs_entities.Trip'>.\n",
      "..............................................................................................................553149 records read for <class 'pygtfs.gtfs_entities.StopTime'>.\n",
      "10 records read for <class 'pygtfs.gtfs_entities.Service'>.\n",
      "16 records read for <class 'pygtfs.gtfs_entities.ServiceException'>.\n",
      "........................122382 records read for <class 'pygtfs.gtfs_entities.ShapePoint'>.\n",
      "610 records read for <class 'pygtfs.gtfs_entities.Transfer'>.\n",
      "Complete.\n"
     ]
    }
   ],
   "source": [
    "schedule = pygtfs.append_feed(sched, \"../data/gtfs/temp.zip\")"
   ]
  },
  {
   "cell_type": "code",
   "execution_count": 3,
   "metadata": {
    "collapsed": true
   },
   "outputs": [],
   "source": [
    "# Load the data in.\n",
    "\n",
    "from google.transit import gtfs_realtime_pb2\n",
    "import requests\n",
    "\n",
    "feed = gtfs_realtime_pb2.FeedMessage()\n",
    "\n",
    "import pickle\n",
    "response = pickle.load(open(\"../data/gtfs-realtime/response.p\", \"rb\"))\n",
    "feed.ParseFromString(response.content)\n",
    "example_pull = feed"
   ]
  },
  {
   "cell_type": "code",
   "execution_count": 5,
   "metadata": {
    "collapsed": false
   },
   "outputs": [
    {
     "name": "stdout",
     "output_type": "stream",
     "text": [
      "The autoreload extension is already loaded. To reload it, use:\n",
      "  %reload_ext autoreload\n"
     ]
    }
   ],
   "source": [
    "%load_ext autoreload\n",
    "%autoreload 2"
   ]
  },
  {
   "cell_type": "code",
   "execution_count": 23,
   "metadata": {
    "collapsed": true
   },
   "outputs": [],
   "source": [
    "import sys; sys.path.append(\"../src/\")\n",
    "from tripset import *"
   ]
  },
  {
   "cell_type": "code",
   "execution_count": 21,
   "metadata": {
    "collapsed": false
   },
   "outputs": [
    {
     "data": {
      "text/plain": [
       "'6'"
      ]
     },
     "execution_count": 21,
     "metadata": {},
     "output_type": "execute_result"
    }
   ],
   "source": [
    "map_route_id_to_line('6')"
   ]
  },
  {
   "cell_type": "code",
   "execution_count": 11,
   "metadata": {
    "collapsed": false
   },
   "outputs": [
    {
     "data": {
      "text/plain": [
       "<tripset.TripSet at 0x7fd1aa138a58>"
      ]
     },
     "execution_count": 11,
     "metadata": {},
     "output_type": "execute_result"
    }
   ],
   "source": [
    "TripSet()"
   ]
  },
  {
   "cell_type": "code",
   "execution_count": 22,
   "metadata": {
    "collapsed": true
   },
   "outputs": [],
   "source": [
    "from google.transit import gtfs_realtime_pb2\n",
    "import requests\n",
    "\n",
    "feed = gtfs_realtime_pb2.FeedMessage()\n",
    "\n",
    "import pickle\n",
    "response = pickle.load(open(\"../data/gtfs-realtime/response.p\", \"rb\"))\n",
    "feed.ParseFromString(response.content)\n",
    "example_pull = feed"
   ]
  },
  {
   "cell_type": "code",
   "execution_count": 67,
   "metadata": {
    "collapsed": false
   },
   "outputs": [
    {
     "data": {
      "text/plain": [
       "'006550_1..N02X003'"
      ]
     },
     "execution_count": 67,
     "metadata": {},
     "output_type": "execute_result"
    }
   ],
   "source": [
    "example_pull.entity[1].vehicle.trip.trip_id"
   ]
  },
  {
   "cell_type": "code",
   "execution_count": 69,
   "metadata": {
    "collapsed": false
   },
   "outputs": [
    {
     "data": {
      "text/plain": [
       "'006550_1..N02X003'"
      ]
     },
     "execution_count": 69,
     "metadata": {},
     "output_type": "execute_result"
    }
   ],
   "source": [
    "example_pull.entity[0].trip_update.trip.trip_id"
   ]
  },
  {
   "cell_type": "code",
   "execution_count": 53,
   "metadata": {
    "collapsed": false
   },
   "outputs": [
    {
     "data": {
      "text/plain": [
       "arrival {\n",
       "  time: 1498021800\n",
       "}\n",
       "departure {\n",
       "  time: 1498021800\n",
       "}\n",
       "stop_id: \"137N\""
      ]
     },
     "execution_count": 53,
     "metadata": {},
     "output_type": "execute_result"
    }
   ],
   "source": [
    "example_pull.entity[0].trip_update"
   ]
  },
  {
   "cell_type": "code",
   "execution_count": 71,
   "metadata": {
    "collapsed": false
   },
   "outputs": [
    {
     "data": {
      "text/plain": [
       "id: \"000002\"\n",
       "vehicle {\n",
       "  trip {\n",
       "    trip_id: \"006550_1..N02X003\"\n",
       "    start_date: \"20170621\"\n",
       "    route_id: \"1\"\n",
       "  }\n",
       "  current_stop_sequence: 4\n",
       "  current_status: INCOMING_AT\n",
       "  timestamp: 1498022005\n",
       "  stop_id: \"137N\"\n",
       "}"
      ]
     },
     "execution_count": 71,
     "metadata": {},
     "output_type": "execute_result"
    }
   ],
   "source": [
    "example_pull.entity[1]"
   ]
  },
  {
   "cell_type": "code",
   "execution_count": 87,
   "metadata": {
    "collapsed": false,
    "scrolled": true
   },
   "outputs": [
    {
     "data": {
      "text/plain": [
       "[<tripset.TripSet at 0x7fd1aaad62b0>,\n",
       " <tripset.TripSet at 0x7fd1aaa990b8>,\n",
       " <tripset.TripSet at 0x7fd1aaad6860>,\n",
       " <tripset.TripSet at 0x7fd1aaabfbe0>,\n",
       " <tripset.TripSet at 0x7fd1aa154b70>,\n",
       " <tripset.TripSet at 0x7fd1aaa99ba8>,\n",
       " <tripset.TripSet at 0x7fd1aaa9a940>,\n",
       " <tripset.TripSet at 0x7fd1aaaaf3c8>,\n",
       " <tripset.TripSet at 0x7fd1aaa9aa90>,\n",
       " <tripset.TripSet at 0x7fd1aa3eb978>,\n",
       " <tripset.TripSet at 0x7fd1aa3d8cf8>,\n",
       " <tripset.TripSet at 0x7fd1aaad6940>,\n",
       " <tripset.TripSet at 0x7fd1aaaaff98>,\n",
       " <tripset.TripSet at 0x7fd1aaad6908>,\n",
       " <tripset.TripSet at 0x7fd1aaa64358>,\n",
       " <tripset.TripSet at 0x7fd1aaa9a828>,\n",
       " <tripset.TripSet at 0x7fd1aaaa2208>,\n",
       " <tripset.TripSet at 0x7fd1aaaa2fd0>,\n",
       " <tripset.TripSet at 0x7fd1aaabd9e8>,\n",
       " <tripset.TripSet at 0x7fd1aaa99e48>,\n",
       " <tripset.TripSet at 0x7fd1aaac39b0>,\n",
       " <tripset.TripSet at 0x7fd1aaab8940>,\n",
       " <tripset.TripSet at 0x7fd1aaac3a58>,\n",
       " <tripset.TripSet at 0x7fd1aaa9a400>,\n",
       " <tripset.TripSet at 0x7fd1aaac50f0>,\n",
       " <tripset.TripSet at 0x7fd1aaacb278>,\n",
       " <tripset.TripSet at 0x7fd1aa3eb668>,\n",
       " <tripset.TripSet at 0x7fd1aaacb2e8>,\n",
       " <tripset.TripSet at 0x7fd1aaab6c50>,\n",
       " <tripset.TripSet at 0x7fd1aaaade10>,\n",
       " <tripset.TripSet at 0x7fd1aaab62e8>,\n",
       " <tripset.TripSet at 0x7fd1aaa972b0>,\n",
       " <tripset.TripSet at 0x7fd1aaac30f0>,\n",
       " <tripset.TripSet at 0x7fd1aaaaf828>,\n",
       " <tripset.TripSet at 0x7fd1aaab8cc0>,\n",
       " <tripset.TripSet at 0x7fd1aaa99828>,\n",
       " <tripset.TripSet at 0x7fd1aaabf780>,\n",
       " <tripset.TripSet at 0x7fd1aaabf748>,\n",
       " <tripset.TripSet at 0x7fd1aa3d8c18>,\n",
       " <tripset.TripSet at 0x7fd1aa3d8a58>,\n",
       " <tripset.TripSet at 0x7fd1aaa5e278>,\n",
       " <tripset.TripSet at 0x7fd1aaa99780>,\n",
       " <tripset.TripSet at 0x7fd1aa3fe160>,\n",
       " <tripset.TripSet at 0x7fd1aa401208>,\n",
       " <tripset.TripSet at 0x7fd1aa6f25c0>,\n",
       " <tripset.TripSet at 0x7fd1aa3eb898>,\n",
       " <tripset.TripSet at 0x7fd1aaa73b00>,\n",
       " <tripset.TripSet at 0x7fd1aa4082e8>,\n",
       " <tripset.TripSet at 0x7fd1aaad57f0>,\n",
       " <tripset.TripSet at 0x7fd1aa3d8908>,\n",
       " <tripset.TripSet at 0x7fd1aaa8df98>,\n",
       " <tripset.TripSet at 0x7fd1aa3f40f0>,\n",
       " <tripset.TripSet at 0x7fd1aa3e4080>,\n",
       " <tripset.TripSet at 0x7fd1aa401588>,\n",
       " <tripset.TripSet at 0x7fd1aa4076a0>,\n",
       " <tripset.TripSet at 0x7fd1aaab1630>,\n",
       " <tripset.TripSet at 0x7fd1aaac9748>,\n",
       " <tripset.TripSet at 0x7fd1aa3f96a0>,\n",
       " <tripset.TripSet at 0x7fd1aaac2080>,\n",
       " <tripset.TripSet at 0x7fd1aaa9b278>,\n",
       " <tripset.TripSet at 0x7fd1aaaa95c0>,\n",
       " <tripset.TripSet at 0x7fd1aaac2390>,\n",
       " <tripset.TripSet at 0x7fd1aaab4160>,\n",
       " <tripset.TripSet at 0x7fd1aaaac390>,\n",
       " <tripset.TripSet at 0x7fd1aaaac9b0>,\n",
       " <tripset.TripSet at 0x7fd1aaac26d8>,\n",
       " <tripset.TripSet at 0x7fd1aaaa5320>,\n",
       " <tripset.TripSet at 0x7fd1aaab5550>,\n",
       " <tripset.TripSet at 0x7fd1aaac2780>,\n",
       " <tripset.TripSet at 0x7fd1aaaac898>,\n",
       " <tripset.TripSet at 0x7fd1aaaab4a8>,\n",
       " <tripset.TripSet at 0x7fd1aaaabdd8>,\n",
       " <tripset.TripSet at 0x7fd1aaaa47f0>,\n",
       " <tripset.TripSet at 0x7fd1aaaa4438>,\n",
       " <tripset.TripSet at 0x7fd1aaaab470>,\n",
       " <tripset.TripSet at 0x7fd1aaaab128>,\n",
       " <tripset.TripSet at 0x7fd1aa3e4ba8>,\n",
       " <tripset.TripSet at 0x7fd1aa50ac50>,\n",
       " <tripset.TripSet at 0x7fd1aa513710>,\n",
       " <tripset.TripSet at 0x7fd1aaab41d0>,\n",
       " <tripset.TripSet at 0x7fd1aaaab8d0>,\n",
       " <tripset.TripSet at 0x7fd1aa5132b0>,\n",
       " <tripset.TripSet at 0x7fd1aa503208>,\n",
       " <tripset.TripSet at 0x7fd1aa513b00>,\n",
       " <tripset.TripSet at 0x7fd1aa50a710>,\n",
       " <tripset.TripSet at 0x7fd1aaaa4f98>,\n",
       " <tripset.TripSet at 0x7fd1aaaa97b8>,\n",
       " <tripset.TripSet at 0x7fd1aaa9b550>,\n",
       " <tripset.TripSet at 0x7fd1aaaa46d8>,\n",
       " <tripset.TripSet at 0x7fd1aa513438>,\n",
       " <tripset.TripSet at 0x7fd1aa407b00>,\n",
       " <tripset.TripSet at 0x7fd1aa409f28>,\n",
       " <tripset.TripSet at 0x7fd1aaabc780>,\n",
       " <tripset.TripSet at 0x7fd1aa3d84a8>,\n",
       " <tripset.TripSet at 0x7fd1aa50c208>,\n",
       " <tripset.TripSet at 0x7fd1aa50c710>,\n",
       " <tripset.TripSet at 0x7fd1aa50a518>,\n",
       " <tripset.TripSet at 0x7fd1aa4fe160>,\n",
       " <tripset.TripSet at 0x7fd1aa4e20b8>,\n",
       " <tripset.TripSet at 0x7fd1aa4e2fd0>,\n",
       " <tripset.TripSet at 0x7fd1aa4fe748>,\n",
       " <tripset.TripSet at 0x7fd1aa50ad30>,\n",
       " <tripset.TripSet at 0x7fd1aa50c320>,\n",
       " <tripset.TripSet at 0x7fd1aa4d93c8>,\n",
       " <tripset.TripSet at 0x7fd1aa4f9048>,\n",
       " <tripset.TripSet at 0x7fd1aa4d97b8>,\n",
       " <tripset.TripSet at 0x7fd1aa50c9b0>,\n",
       " <tripset.TripSet at 0x7fd1aa4fe1d0>,\n",
       " <tripset.TripSet at 0x7fd1aa4e25f8>,\n",
       " <tripset.TripSet at 0x7fd1aa4ed198>,\n",
       " <tripset.TripSet at 0x7fd1aa4f9b70>,\n",
       " <tripset.TripSet at 0x7fd1aa3d84e0>,\n",
       " <tripset.TripSet at 0x7fd1aa4d94e0>,\n",
       " <tripset.TripSet at 0x7fd1aa506198>,\n",
       " <tripset.TripSet at 0x7fd1aa506f98>,\n",
       " <tripset.TripSet at 0x7fd1aa506278>,\n",
       " <tripset.TripSet at 0x7fd1aa3e47b8>,\n",
       " <tripset.TripSet at 0x7fd1aa4f9d30>,\n",
       " <tripset.TripSet at 0x7fd1aa4ec550>,\n",
       " <tripset.TripSet at 0x7fd1aa4e0390>,\n",
       " <tripset.TripSet at 0x7fd1aa500d30>,\n",
       " <tripset.TripSet at 0x7fd1aa4ed828>,\n",
       " <tripset.TripSet at 0x7fd1aa4e0cf8>,\n",
       " <tripset.TripSet at 0x7fd1aa4ebb38>,\n",
       " <tripset.TripSet at 0x7fd1aa506a20>,\n",
       " <tripset.TripSet at 0x7fd1aa500cc0>,\n",
       " <tripset.TripSet at 0x7fd1aa4ec6d8>,\n",
       " <tripset.TripSet at 0x7fd1aa4ffa90>,\n",
       " <tripset.TripSet at 0x7fd1aa4e95c0>,\n",
       " <tripset.TripSet at 0x7fd1aa4ff748>,\n",
       " <tripset.TripSet at 0x7fd1aa4ecc88>,\n",
       " <tripset.TripSet at 0x7fd1aa4e0f28>,\n",
       " <tripset.TripSet at 0x7fd1aa4f1320>,\n",
       " <tripset.TripSet at 0x7fd1aa507080>,\n",
       " <tripset.TripSet at 0x7fd1aa4f1748>,\n",
       " <tripset.TripSet at 0x7fd1aa4ec898>,\n",
       " <tripset.TripSet at 0x7fd1aa4ff550>,\n",
       " <tripset.TripSet at 0x7fd1aa4ee5f8>,\n",
       " <tripset.TripSet at 0x7fd1aa5143c8>,\n",
       " <tripset.TripSet at 0x7fd1aa4eef28>,\n",
       " <tripset.TripSet at 0x7fd1aa5079b0>,\n",
       " <tripset.TripSet at 0x7fd1aa4e9b00>,\n",
       " <tripset.TripSet at 0x7fd1aa4ebe80>,\n",
       " <tripset.TripSet at 0x7fd1aa507438>,\n",
       " <tripset.TripSet at 0x7fd1aa4eed68>,\n",
       " <tripset.TripSet at 0x7fd1aa4f9b00>,\n",
       " <tripset.TripSet at 0x7fd1aa515240>,\n",
       " <tripset.TripSet at 0x7fd1aa500710>,\n",
       " <tripset.TripSet at 0x7fd1aa4ff6a0>,\n",
       " <tripset.TripSet at 0x7fd1aa4d7ac8>,\n",
       " <tripset.TripSet at 0x7fd1aa50bcc0>,\n",
       " <tripset.TripSet at 0x7fd1aa4d71d0>,\n",
       " <tripset.TripSet at 0x7fd1aa514438>,\n",
       " <tripset.TripSet at 0x7fd1aa4e84a8>,\n",
       " <tripset.TripSet at 0x7fd1aa4e8f60>,\n",
       " <tripset.TripSet at 0x7fd1aa4e85f8>,\n",
       " <tripset.TripSet at 0x7fd1aa4de4e0>,\n",
       " <tripset.TripSet at 0x7fd1aa515c18>,\n",
       " <tripset.TripSet at 0x7fd1aa516ef0>,\n",
       " <tripset.TripSet at 0x7fd1aa4f5a90>,\n",
       " <tripset.TripSet at 0x7fd1aa50f5c0>,\n",
       " <tripset.TripSet at 0x7fd1aa4f51d0>,\n",
       " <tripset.TripSet at 0x7fd1aa516908>,\n",
       " <tripset.TripSet at 0x7fd1aa4de780>,\n",
       " <tripset.TripSet at 0x7fd1aa50f0f0>,\n",
       " <tripset.TripSet at 0x7fd1aa50d5c0>,\n",
       " <tripset.TripSet at 0x7fd1aa4de710>,\n",
       " <tripset.TripSet at 0x7fd1aa5065c0>,\n",
       " <tripset.TripSet at 0x7fd1aa4f5048>,\n",
       " <tripset.TripSet at 0x7fd1aa4f41d0>,\n",
       " <tripset.TripSet at 0x7fd1aa4f0128>,\n",
       " <tripset.TripSet at 0x7fd1aa50dc18>,\n",
       " <tripset.TripSet at 0x7fd1aa4f53c8>,\n",
       " <tripset.TripSet at 0x7fd1aa4f0390>,\n",
       " <tripset.TripSet at 0x7fd1aa271320>,\n",
       " <tripset.TripSet at 0x7fd1aa4f0588>,\n",
       " <tripset.TripSet at 0x7fd1aa515278>,\n",
       " <tripset.TripSet at 0x7fd1aa4f4ac8>,\n",
       " <tripset.TripSet at 0x7fd1aa2959e8>,\n",
       " <tripset.TripSet at 0x7fd1aa27e780>,\n",
       " <tripset.TripSet at 0x7fd1aa2950b8>,\n",
       " <tripset.TripSet at 0x7fd1aa4d7240>,\n",
       " <tripset.TripSet at 0x7fd1aa278438>,\n",
       " <tripset.TripSet at 0x7fd1aa262160>,\n",
       " <tripset.TripSet at 0x7fd1aa278b00>,\n",
       " <tripset.TripSet at 0x7fd1aa271f28>,\n",
       " <tripset.TripSet at 0x7fd1aa25c828>,\n",
       " <tripset.TripSet at 0x7fd1aa2845f8>,\n",
       " <tripset.TripSet at 0x7fd1aa25cda0>,\n",
       " <tripset.TripSet at 0x7fd1aa4f0c18>,\n",
       " <tripset.TripSet at 0x7fd1aa27bc18>,\n",
       " <tripset.TripSet at 0x7fd1aa2649e8>,\n",
       " <tripset.TripSet at 0x7fd1aa27bf60>,\n",
       " <tripset.TripSet at 0x7fd1aa25ceb8>,\n",
       " <tripset.TripSet at 0x7fd1aa278860>,\n",
       " <tripset.TripSet at 0x7fd1aa271470>,\n",
       " <tripset.TripSet at 0x7fd1aa27ebe0>,\n",
       " <tripset.TripSet at 0x7fd1aa27b208>,\n",
       " <tripset.TripSet at 0x7fd1aa5162b0>,\n",
       " <tripset.TripSet at 0x7fd1aa50b0b8>,\n",
       " <tripset.TripSet at 0x7fd1aa516780>,\n",
       " <tripset.TripSet at 0x7fd1aa50fcf8>,\n",
       " <tripset.TripSet at 0x7fd1aa4f4940>,\n",
       " <tripset.TripSet at 0x7fd1aa500e80>,\n",
       " <tripset.TripSet at 0x7fd1aa291668>,\n",
       " <tripset.TripSet at 0x7fd1aa257128>,\n",
       " <tripset.TripSet at 0x7fd1aa4ebdd8>,\n",
       " <tripset.TripSet at 0x7fd1aa291da0>,\n",
       " <tripset.TripSet at 0x7fd1aa291dd8>,\n",
       " <tripset.TripSet at 0x7fd1aa27bdd8>,\n",
       " <tripset.TripSet at 0x7fd1aa4de3c8>,\n",
       " <tripset.TripSet at 0x7fd1aa257dd8>,\n",
       " <tripset.TripSet at 0x7fd1aa257b38>,\n",
       " <tripset.TripSet at 0x7fd1aa516470>,\n",
       " <tripset.TripSet at 0x7fd1aa27eba8>,\n",
       " <tripset.TripSet at 0x7fd1aa27ec18>]"
      ]
     },
     "execution_count": 87,
     "metadata": {},
     "output_type": "execute_result"
    }
   ],
   "source": [
    "to_tripsets(example_pull)"
   ]
  },
  {
   "cell_type": "code",
   "execution_count": 88,
   "metadata": {
    "collapsed": true
   },
   "outputs": [],
   "source": [
    "ret = _"
   ]
  },
  {
   "cell_type": "code",
   "execution_count": 93,
   "metadata": {
    "collapsed": false,
    "scrolled": false
   },
   "outputs": [
    {
     "data": {
      "text/plain": [
       "[True,\n",
       " True,\n",
       " True,\n",
       " True,\n",
       " True,\n",
       " True,\n",
       " True,\n",
       " True,\n",
       " True,\n",
       " True,\n",
       " True,\n",
       " True,\n",
       " True,\n",
       " True,\n",
       " True,\n",
       " True,\n",
       " True,\n",
       " True,\n",
       " True,\n",
       " True,\n",
       " True,\n",
       " True,\n",
       " True,\n",
       " True,\n",
       " True,\n",
       " False,\n",
       " False,\n",
       " False,\n",
       " False,\n",
       " False,\n",
       " False,\n",
       " False,\n",
       " False,\n",
       " False,\n",
       " False,\n",
       " False,\n",
       " True,\n",
       " True,\n",
       " True,\n",
       " True,\n",
       " True,\n",
       " True,\n",
       " True,\n",
       " True,\n",
       " True,\n",
       " True,\n",
       " True,\n",
       " True,\n",
       " True,\n",
       " True,\n",
       " True,\n",
       " True,\n",
       " True,\n",
       " True,\n",
       " True,\n",
       " True,\n",
       " True,\n",
       " True,\n",
       " True,\n",
       " True,\n",
       " True,\n",
       " False,\n",
       " False,\n",
       " False,\n",
       " False,\n",
       " False,\n",
       " False,\n",
       " False,\n",
       " False,\n",
       " True,\n",
       " True,\n",
       " True,\n",
       " True,\n",
       " True,\n",
       " True,\n",
       " True,\n",
       " True,\n",
       " True,\n",
       " True,\n",
       " True,\n",
       " True,\n",
       " True,\n",
       " True,\n",
       " True,\n",
       " True,\n",
       " True,\n",
       " True,\n",
       " True,\n",
       " False,\n",
       " False,\n",
       " False,\n",
       " False,\n",
       " False,\n",
       " False,\n",
       " False,\n",
       " False,\n",
       " False,\n",
       " False,\n",
       " True,\n",
       " False,\n",
       " True,\n",
       " True,\n",
       " True,\n",
       " True,\n",
       " True,\n",
       " True,\n",
       " True,\n",
       " True,\n",
       " True,\n",
       " True,\n",
       " True,\n",
       " True,\n",
       " True,\n",
       " True,\n",
       " True,\n",
       " True,\n",
       " True,\n",
       " True,\n",
       " True,\n",
       " False,\n",
       " False,\n",
       " False,\n",
       " False,\n",
       " False,\n",
       " False,\n",
       " False,\n",
       " True,\n",
       " True,\n",
       " True,\n",
       " True,\n",
       " True,\n",
       " True,\n",
       " True,\n",
       " True,\n",
       " True,\n",
       " True,\n",
       " True,\n",
       " False,\n",
       " True,\n",
       " True,\n",
       " True,\n",
       " True,\n",
       " True,\n",
       " False,\n",
       " True,\n",
       " True,\n",
       " True,\n",
       " False,\n",
       " False,\n",
       " False,\n",
       " False,\n",
       " False,\n",
       " False,\n",
       " False,\n",
       " True,\n",
       " True,\n",
       " True,\n",
       " True,\n",
       " True,\n",
       " True,\n",
       " True,\n",
       " True,\n",
       " True,\n",
       " True,\n",
       " True,\n",
       " True,\n",
       " True,\n",
       " True,\n",
       " True,\n",
       " True,\n",
       " True,\n",
       " True,\n",
       " True,\n",
       " True,\n",
       " True,\n",
       " True,\n",
       " True,\n",
       " True,\n",
       " True,\n",
       " True,\n",
       " True,\n",
       " True,\n",
       " False,\n",
       " False,\n",
       " False,\n",
       " False,\n",
       " False,\n",
       " False,\n",
       " False,\n",
       " False,\n",
       " False,\n",
       " False,\n",
       " False,\n",
       " False,\n",
       " False,\n",
       " False,\n",
       " False,\n",
       " False,\n",
       " False,\n",
       " False,\n",
       " True,\n",
       " True,\n",
       " False,\n",
       " False,\n",
       " False,\n",
       " False,\n",
       " False,\n",
       " False,\n",
       " False,\n",
       " False,\n",
       " False,\n",
       " False,\n",
       " False,\n",
       " False,\n",
       " False,\n",
       " False]"
      ]
     },
     "execution_count": 93,
     "metadata": {},
     "output_type": "execute_result"
    }
   ],
   "source": [
    "[bool(ret[i].current_vehicle_update) for i in range(len(ret))]"
   ]
  }
 ],
 "metadata": {
  "kernelspec": {
   "display_name": "Python 3",
   "language": "python",
   "name": "python3"
  },
  "language_info": {
   "codemirror_mode": {
    "name": "ipython",
    "version": 3
   },
   "file_extension": ".py",
   "mimetype": "text/x-python",
   "name": "python",
   "nbconvert_exporter": "python",
   "pygments_lexer": "ipython3",
   "version": "3.4.5"
  }
 },
 "nbformat": 4,
 "nbformat_minor": 2
}
