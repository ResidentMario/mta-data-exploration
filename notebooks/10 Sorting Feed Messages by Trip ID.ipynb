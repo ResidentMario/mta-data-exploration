{
 "cells": [
  {
   "cell_type": "markdown",
   "metadata": {},
   "source": [
    "# About\n",
    "\n",
    "This is a development notebook for `sort_feed_messages_by_trip_ids`, a method that separates a list of feeds into a hash table of trips corresponding with a list of messages on the subject thereof found in the feeds."
   ]
  },
  {
   "cell_type": "code",
   "execution_count": 1,
   "metadata": {
    "collapsed": true
   },
   "outputs": [],
   "source": [
    "import sys; sys.path.append(\"../src/\")\n",
    "from processing import fetch_archival_gtfs_realtime_data, parse_gtfs_into_action_log"
   ]
  },
  {
   "cell_type": "code",
   "execution_count": 23,
   "metadata": {
    "collapsed": false
   },
   "outputs": [
    {
     "name": "stdout",
     "output_type": "stream",
     "text": [
      "The autoreload extension is already loaded. To reload it, use:\n",
      "  %reload_ext autoreload\n"
     ]
    }
   ],
   "source": [
    "%load_ext autoreload\n",
    "%autoreload 2"
   ]
  },
  {
   "cell_type": "code",
   "execution_count": 7,
   "metadata": {
    "collapsed": false
   },
   "outputs": [
    {
     "name": "stdout",
     "output_type": "stream",
     "text": [
      "1\n",
      "6\n",
      "11\n",
      "16\n",
      "21\n",
      "26\n",
      "31\n",
      "36\n",
      "41\n",
      "46\n",
      "51\n",
      "56\n",
      "Done!\n"
     ]
    }
   ],
   "source": [
    "gtfs_r = dict()\n",
    "\n",
    "for n in range(0, 60, 5):\n",
    "    print(n + 1)\n",
    "    gtfs_r[n] = fetch_archival_gtfs_realtime_data(kind='gtfs', timestamp='2014-09-18-09-' + str(1 + n).zfill(2))\n",
    "    \n",
    "print(\"Done!\")"
   ]
  },
  {
   "cell_type": "code",
   "execution_count": 9,
   "metadata": {
    "collapsed": false
   },
   "outputs": [
    {
     "data": {
      "text/plain": [
       "'047600_1..S02R'"
      ]
     },
     "execution_count": 9,
     "metadata": {},
     "output_type": "execute_result"
    }
   ],
   "source": [
    "gtfs_r[0].entity[0].trip_update.trip.trip_id"
   ]
  },
  {
   "cell_type": "code",
   "execution_count": 16,
   "metadata": {
    "collapsed": false
   },
   "outputs": [
    {
     "data": {
      "text/plain": [
       "'047600_1..S02R'"
      ]
     },
     "execution_count": 16,
     "metadata": {},
     "output_type": "execute_result"
    }
   ],
   "source": [
    "gtfs_r[0].entity[1].vehicle.trip.trip_id"
   ]
  },
  {
   "cell_type": "code",
   "execution_count": 14,
   "metadata": {
    "collapsed": false
   },
   "outputs": [
    {
     "data": {
      "text/plain": [
       "id: \"000493\"\n",
       "alert {\n",
       "  informed_entity {\n",
       "    trip {\n",
       "      trip_id: \"047600_1..S02R\"\n",
       "      route_id: \"1\"\n",
       "    }\n",
       "  }\n",
       "  header_text {\n",
       "    translation {\n",
       "      text: \"Train delayed\"\n",
       "    }\n",
       "  }\n",
       "}"
      ]
     },
     "execution_count": 14,
     "metadata": {},
     "output_type": "execute_result"
    }
   ],
   "source": [
    "gtfs_r[0].entity[-1]"
   ]
  },
  {
   "cell_type": "code",
   "execution_count": 30,
   "metadata": {
    "collapsed": true
   },
   "outputs": [],
   "source": [
    "from processing import sort_feed_messages_by_trip_id"
   ]
  },
  {
   "cell_type": "code",
   "execution_count": 29,
   "metadata": {
    "collapsed": false
   },
   "outputs": [
    {
     "data": {
      "text/plain": [
       "493"
      ]
     },
     "execution_count": 29,
     "metadata": {},
     "output_type": "execute_result"
    }
   ],
   "source": [
    "len(gtfs_r[0].entity)"
   ]
  },
  {
   "cell_type": "code",
   "execution_count": 33,
   "metadata": {
    "collapsed": false
   },
   "outputs": [
    {
     "name": "stdout",
     "output_type": "stream",
     "text": [
      "Alert!\n"
     ]
    }
   ],
   "source": [
    "sorted_table = sort_feed_messages_by_trip_id([gtfs_r[0]])"
   ]
  },
  {
   "cell_type": "code",
   "execution_count": 39,
   "metadata": {
    "collapsed": false,
    "scrolled": false
   },
   "outputs": [
    {
     "data": {
      "text/plain": [
       "[id: \"000181\"\n",
       " trip_update {\n",
       "   trip {\n",
       "     trip_id: \"049150_3..S01R\"\n",
       "     start_date: \"20140918\"\n",
       "     route_id: \"3\"\n",
       "   }\n",
       "   stop_time_update {\n",
       "     arrival {\n",
       "       time: 1411045262\n",
       "     }\n",
       "     departure {\n",
       "       time: 1411045262\n",
       "     }\n",
       "     stop_id: \"234S\"\n",
       "   }\n",
       "   stop_time_update {\n",
       "     arrival {\n",
       "       time: 1411045352\n",
       "     }\n",
       "     departure {\n",
       "       time: 1411045352\n",
       "     }\n",
       "     stop_id: \"235S\"\n",
       "   }\n",
       "   stop_time_update {\n",
       "     arrival {\n",
       "       time: 1411045412\n",
       "     }\n",
       "     departure {\n",
       "       time: 1411045412\n",
       "     }\n",
       "     stop_id: \"236S\"\n",
       "   }\n",
       "   stop_time_update {\n",
       "     arrival {\n",
       "       time: 1411045532\n",
       "     }\n",
       "     departure {\n",
       "       time: 1411045532\n",
       "     }\n",
       "     stop_id: \"237S\"\n",
       "   }\n",
       "   stop_time_update {\n",
       "     arrival {\n",
       "       time: 1411045652\n",
       "     }\n",
       "     departure {\n",
       "       time: 1411045652\n",
       "     }\n",
       "     stop_id: \"238S\"\n",
       "   }\n",
       "   stop_time_update {\n",
       "     arrival {\n",
       "       time: 1411045742\n",
       "     }\n",
       "     departure {\n",
       "       time: 1411045772\n",
       "     }\n",
       "     stop_id: \"239S\"\n",
       "   }\n",
       "   stop_time_update {\n",
       "     arrival {\n",
       "       time: 1411045862\n",
       "     }\n",
       "     departure {\n",
       "       time: 1411045862\n",
       "     }\n",
       "     stop_id: \"248S\"\n",
       "   }\n",
       "   stop_time_update {\n",
       "     arrival {\n",
       "       time: 1411045952\n",
       "     }\n",
       "     departure {\n",
       "       time: 1411045952\n",
       "     }\n",
       "     stop_id: \"249S\"\n",
       "   }\n",
       "   stop_time_update {\n",
       "     arrival {\n",
       "       time: 1411046072\n",
       "     }\n",
       "     departure {\n",
       "       time: 1411046072\n",
       "     }\n",
       "     stop_id: \"250S\"\n",
       "   }\n",
       "   stop_time_update {\n",
       "     arrival {\n",
       "       time: 1411046252\n",
       "     }\n",
       "     departure {\n",
       "       time: 1411046252\n",
       "     }\n",
       "     stop_id: \"251S\"\n",
       "   }\n",
       "   stop_time_update {\n",
       "     arrival {\n",
       "       time: 1411046342\n",
       "     }\n",
       "     departure {\n",
       "       time: 1411046342\n",
       "     }\n",
       "     stop_id: \"252S\"\n",
       "   }\n",
       "   stop_time_update {\n",
       "     arrival {\n",
       "       time: 1411046462\n",
       "     }\n",
       "     departure {\n",
       "       time: 1411046462\n",
       "     }\n",
       "     stop_id: \"253S\"\n",
       "   }\n",
       "   stop_time_update {\n",
       "     arrival {\n",
       "       time: 1411046522\n",
       "     }\n",
       "     departure {\n",
       "       time: 1411046522\n",
       "     }\n",
       "     stop_id: \"254S\"\n",
       "   }\n",
       "   stop_time_update {\n",
       "     arrival {\n",
       "       time: 1411046642\n",
       "     }\n",
       "     departure {\n",
       "       time: 1411046642\n",
       "     }\n",
       "     stop_id: \"255S\"\n",
       "   }\n",
       "   stop_time_update {\n",
       "     arrival {\n",
       "       time: 1411046702\n",
       "     }\n",
       "     departure {\n",
       "       time: 1411046702\n",
       "     }\n",
       "     stop_id: \"256S\"\n",
       "   }\n",
       "   stop_time_update {\n",
       "     arrival {\n",
       "       time: 1411046792\n",
       "     }\n",
       "     stop_id: \"257S\"\n",
       "   }\n",
       " }, id: \"000182\"\n",
       " vehicle {\n",
       "   trip {\n",
       "     trip_id: \"049150_3..S01R\"\n",
       "     start_date: \"20140918\"\n",
       "     route_id: \"3\"\n",
       "   }\n",
       "   current_stop_sequence: 19\n",
       "   current_status: INCOMING_AT\n",
       "   timestamp: 1411045222\n",
       "   stop_id: \"234S\"\n",
       " }]"
      ]
     },
     "execution_count": 39,
     "metadata": {},
     "output_type": "execute_result"
    }
   ],
   "source": [
    "sorted_table[list(sorted_table.keys())[0]]"
   ]
  },
  {
   "cell_type": "markdown",
   "metadata": {},
   "source": [
    "That was pretty simple. Incidentally, we see that there's no order to feed messages for trips that are and aren't ongoing; the two are intermixed (trips with two messages have a vehicle update, and are thus en route; ones that do not, are not)."
   ]
  },
  {
   "cell_type": "code",
   "execution_count": 41,
   "metadata": {
    "collapsed": false,
    "scrolled": false
   },
   "outputs": [
    {
     "name": "stdout",
     "output_type": "stream",
     "text": [
      "2\n",
      "2\n",
      "2\n",
      "2\n",
      "1\n",
      "2\n",
      "2\n",
      "1\n",
      "1\n",
      "1\n",
      "1\n",
      "2\n",
      "2\n",
      "2\n",
      "2\n",
      "2\n",
      "1\n",
      "2\n",
      "2\n",
      "2\n",
      "2\n",
      "2\n",
      "2\n",
      "2\n",
      "2\n",
      "2\n",
      "2\n",
      "2\n",
      "1\n",
      "1\n",
      "2\n",
      "2\n",
      "1\n",
      "2\n",
      "2\n",
      "2\n",
      "2\n",
      "2\n",
      "2\n",
      "2\n",
      "1\n",
      "2\n",
      "2\n",
      "2\n",
      "1\n",
      "1\n",
      "2\n",
      "2\n",
      "1\n",
      "1\n",
      "2\n",
      "2\n",
      "2\n",
      "1\n",
      "2\n",
      "2\n",
      "2\n",
      "2\n",
      "2\n",
      "2\n",
      "2\n",
      "2\n",
      "1\n",
      "2\n",
      "1\n",
      "1\n",
      "1\n",
      "1\n",
      "1\n",
      "2\n",
      "1\n",
      "1\n",
      "2\n",
      "1\n",
      "2\n",
      "2\n",
      "2\n",
      "2\n",
      "2\n",
      "2\n",
      "1\n",
      "2\n",
      "1\n",
      "2\n",
      "1\n",
      "1\n",
      "2\n",
      "2\n",
      "1\n",
      "2\n",
      "2\n",
      "1\n",
      "2\n",
      "2\n",
      "2\n",
      "1\n",
      "2\n",
      "1\n",
      "2\n",
      "1\n",
      "1\n",
      "2\n",
      "2\n",
      "1\n",
      "2\n",
      "2\n",
      "2\n",
      "1\n",
      "1\n",
      "1\n",
      "2\n",
      "2\n",
      "1\n",
      "2\n",
      "2\n",
      "1\n",
      "1\n",
      "2\n",
      "2\n",
      "1\n",
      "1\n",
      "1\n",
      "1\n",
      "2\n",
      "2\n",
      "1\n",
      "2\n",
      "2\n",
      "2\n",
      "1\n",
      "2\n",
      "1\n",
      "1\n",
      "2\n",
      "1\n",
      "2\n",
      "2\n",
      "1\n",
      "1\n",
      "2\n",
      "2\n",
      "1\n",
      "2\n",
      "2\n",
      "1\n",
      "1\n",
      "1\n",
      "1\n",
      "2\n",
      "2\n",
      "1\n",
      "2\n",
      "1\n",
      "1\n",
      "2\n",
      "2\n",
      "1\n",
      "2\n",
      "1\n",
      "2\n",
      "2\n",
      "2\n",
      "1\n",
      "1\n",
      "2\n",
      "2\n",
      "1\n",
      "2\n",
      "1\n",
      "1\n",
      "2\n",
      "2\n",
      "2\n",
      "1\n",
      "1\n",
      "2\n",
      "1\n",
      "2\n",
      "1\n",
      "1\n",
      "2\n",
      "2\n",
      "2\n",
      "2\n",
      "2\n",
      "2\n",
      "2\n",
      "2\n",
      "1\n",
      "2\n",
      "1\n",
      "2\n",
      "1\n",
      "1\n",
      "2\n",
      "2\n",
      "1\n",
      "2\n",
      "2\n",
      "2\n",
      "1\n",
      "1\n",
      "2\n",
      "2\n",
      "1\n",
      "2\n",
      "1\n",
      "2\n",
      "2\n",
      "1\n",
      "1\n",
      "1\n",
      "1\n",
      "1\n",
      "2\n",
      "2\n",
      "2\n",
      "1\n",
      "2\n",
      "1\n",
      "2\n",
      "2\n",
      "2\n",
      "2\n",
      "2\n",
      "1\n",
      "1\n",
      "2\n",
      "1\n",
      "2\n",
      "2\n",
      "2\n",
      "1\n",
      "1\n",
      "2\n",
      "2\n",
      "2\n",
      "2\n",
      "2\n",
      "2\n",
      "2\n",
      "2\n",
      "2\n",
      "1\n",
      "1\n",
      "2\n",
      "2\n",
      "2\n",
      "1\n",
      "2\n",
      "2\n",
      "2\n",
      "1\n",
      "1\n",
      "2\n",
      "2\n",
      "1\n",
      "1\n",
      "1\n",
      "1\n",
      "1\n",
      "1\n",
      "1\n",
      "2\n",
      "1\n",
      "2\n",
      "2\n",
      "2\n",
      "1\n",
      "2\n",
      "2\n",
      "2\n",
      "1\n",
      "2\n",
      "1\n",
      "2\n",
      "1\n",
      "2\n",
      "2\n",
      "2\n",
      "1\n",
      "2\n",
      "2\n",
      "2\n",
      "2\n",
      "1\n",
      "2\n",
      "1\n",
      "2\n",
      "2\n",
      "1\n",
      "1\n",
      "2\n",
      "1\n",
      "2\n",
      "2\n",
      "2\n",
      "1\n",
      "1\n",
      "2\n",
      "1\n",
      "2\n",
      "2\n",
      "2\n",
      "1\n",
      "2\n"
     ]
    }
   ],
   "source": [
    "for key in sorted_table:\n",
    "    print(len(sorted_table[key]))"
   ]
  }
 ],
 "metadata": {
  "kernelspec": {
   "display_name": "Python 3",
   "language": "python",
   "name": "python3"
  },
  "language_info": {
   "codemirror_mode": {
    "name": "ipython",
    "version": 3
   },
   "file_extension": ".py",
   "mimetype": "text/x-python",
   "name": "python",
   "nbconvert_exporter": "python",
   "pygments_lexer": "ipython3",
   "version": "3.4.5"
  }
 },
 "nbformat": 4,
 "nbformat_minor": 2
}
