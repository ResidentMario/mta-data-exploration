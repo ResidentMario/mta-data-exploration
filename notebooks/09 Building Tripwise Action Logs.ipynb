{
 "cells": [
  {
   "cell_type": "markdown",
   "metadata": {},
   "source": [
    "# About\n",
    "\n",
    "Here we start working on the tripwise conversion."
   ]
  },
  {
   "cell_type": "code",
   "execution_count": 1,
   "metadata": {
    "collapsed": true
   },
   "outputs": [],
   "source": [
    "import sys; sys.path.append(\"../src/\")\n",
    "from processing import fetch_archival_gtfs_realtime_data, parse_gtfs_into_action_log"
   ]
  },
  {
   "cell_type": "code",
   "execution_count": 2,
   "metadata": {
    "collapsed": true
   },
   "outputs": [],
   "source": [
    "%load_ext autoreload\n",
    "%autoreload 2"
   ]
  },
  {
   "cell_type": "code",
   "execution_count": 3,
   "metadata": {
    "collapsed": false
   },
   "outputs": [
    {
     "name": "stdout",
     "output_type": "stream",
     "text": [
      "1\n",
      "6\n",
      "11\n",
      "16\n",
      "21\n",
      "26\n",
      "31\n",
      "36\n",
      "41\n",
      "46\n",
      "51\n",
      "56\n",
      "Done!\n"
     ]
    }
   ],
   "source": [
    "gtfs_r = dict()\n",
    "\n",
    "for n in range(0, 60, 5):\n",
    "    print(n + 1)\n",
    "    gtfs_r[n] = fetch_archival_gtfs_realtime_data(kind='gtfs', timestamp='2014-09-18-09-' + str(1 + n).zfill(2))\n",
    "    \n",
    "print(\"Done!\")"
   ]
  },
  {
   "cell_type": "markdown",
   "metadata": {},
   "source": [
    "In this example pull, the nearly completed `047600_1..S02R` trip stays live for two ticks."
   ]
  },
  {
   "cell_type": "code",
   "execution_count": 42,
   "metadata": {
    "collapsed": false,
    "scrolled": false
   },
   "outputs": [
    {
     "data": {
      "text/plain": [
       "id: \"000033\"\n",
       "trip_update {\n",
       "  trip {\n",
       "    trip_id: \"051200_1..N08R\"\n",
       "    start_date: \"20140918\"\n",
       "    route_id: \"1\"\n",
       "  }\n",
       "  stop_time_update {\n",
       "    arrival {\n",
       "      time: 1411045236\n",
       "    }\n",
       "    departure {\n",
       "      time: 1411045236\n",
       "    }\n",
       "    stop_id: \"121N\"\n",
       "  }\n",
       "  stop_time_update {\n",
       "    arrival {\n",
       "      time: 1411045356\n",
       "    }\n",
       "    departure {\n",
       "      time: 1411045356\n",
       "    }\n",
       "    stop_id: \"120N\"\n",
       "  }\n",
       "  stop_time_update {\n",
       "    arrival {\n",
       "      time: 1411045446\n",
       "    }\n",
       "    departure {\n",
       "      time: 1411045446\n",
       "    }\n",
       "    stop_id: \"119N\"\n",
       "  }\n",
       "  stop_time_update {\n",
       "    arrival {\n",
       "      time: 1411045536\n",
       "    }\n",
       "    departure {\n",
       "      time: 1411045536\n",
       "    }\n",
       "    stop_id: \"118N\"\n",
       "  }\n",
       "  stop_time_update {\n",
       "    arrival {\n",
       "      time: 1411045596\n",
       "    }\n",
       "    departure {\n",
       "      time: 1411045596\n",
       "    }\n",
       "    stop_id: \"117N\"\n",
       "  }\n",
       "  stop_time_update {\n",
       "    arrival {\n",
       "      time: 1411045716\n",
       "    }\n",
       "    departure {\n",
       "      time: 1411045716\n",
       "    }\n",
       "    stop_id: \"116N\"\n",
       "  }\n",
       "  stop_time_update {\n",
       "    arrival {\n",
       "      time: 1411045836\n",
       "    }\n",
       "    stop_id: \"115N\"\n",
       "  }\n",
       "}"
      ]
     },
     "execution_count": 42,
     "metadata": {},
     "output_type": "execute_result"
    }
   ],
   "source": [
    "gtfs_r[0].entity[32]"
   ]
  },
  {
   "cell_type": "code",
   "execution_count": 41,
   "metadata": {
    "collapsed": false,
    "scrolled": true
   },
   "outputs": [
    {
     "data": {
      "text/plain": [
       "id: \"000034\"\n",
       "vehicle {\n",
       "  trip {\n",
       "    trip_id: \"051200_1..N08R\"\n",
       "    start_date: \"20140918\"\n",
       "    route_id: \"1\"\n",
       "  }\n",
       "  current_stop_sequence: 20\n",
       "  current_status: INCOMING_AT\n",
       "  timestamp: 1411045196\n",
       "  stop_id: \"121N\"\n",
       "}"
      ]
     },
     "execution_count": 41,
     "metadata": {},
     "output_type": "execute_result"
    }
   ],
   "source": [
    "gtfs_r[0].entity[33]"
   ]
  },
  {
   "cell_type": "markdown",
   "metadata": {},
   "source": [
    "We create our two action logs..."
   ]
  },
  {
   "cell_type": "code",
   "execution_count": 6,
   "metadata": {
    "collapsed": true
   },
   "outputs": [],
   "source": [
    "from processing import parse_message_into_action_log, mta_archival_time_to_unix_timestamp"
   ]
  },
  {
   "cell_type": "code",
   "execution_count": 7,
   "metadata": {
    "collapsed": true
   },
   "outputs": [],
   "source": [
    "S02R_action_logs = []\n",
    "\n",
    "for n in [0, 5]:\n",
    "    information_time = mta_archival_time_to_unix_timestamp('2014-09-18-09-' + str(1 + n).zfill(2))\n",
    "    S02R_action_logs.append(parse_message_into_action_log(gtfs_r[n].entity[0], \n",
    "                                                          gtfs_r[n].entity[1],\n",
    "                                                          information_time))"
   ]
  },
  {
   "cell_type": "markdown",
   "metadata": {},
   "source": [
    "Now we are back at where we were earlier."
   ]
  },
  {
   "cell_type": "code",
   "execution_count": 8,
   "metadata": {
    "collapsed": false
   },
   "outputs": [
    {
     "data": {
      "text/html": [
       "<div>\n",
       "<table border=\"1\" class=\"dataframe\">\n",
       "  <thead>\n",
       "    <tr style=\"text-align: right;\">\n",
       "      <th></th>\n",
       "      <th>trip_id</th>\n",
       "      <th>route_id</th>\n",
       "      <th>action</th>\n",
       "      <th>stop_id</th>\n",
       "      <th>time_assigned</th>\n",
       "      <th>information_time</th>\n",
       "    </tr>\n",
       "  </thead>\n",
       "  <tbody>\n",
       "    <tr>\n",
       "      <th>0</th>\n",
       "      <td>047600_1..S02R</td>\n",
       "      <td>1</td>\n",
       "      <td>STOPPED_AT</td>\n",
       "      <td>137S</td>\n",
       "      <td>1.411045e+09</td>\n",
       "      <td>1.411045e+09</td>\n",
       "    </tr>\n",
       "    <tr>\n",
       "      <th>1</th>\n",
       "      <td>047600_1..S02R</td>\n",
       "      <td>1</td>\n",
       "      <td>EXPECTED_TO_ARRIVE_AT</td>\n",
       "      <td>138S</td>\n",
       "      <td>1.411045e+09</td>\n",
       "      <td>1.411045e+09</td>\n",
       "    </tr>\n",
       "    <tr>\n",
       "      <th>2</th>\n",
       "      <td>047600_1..S02R</td>\n",
       "      <td>1</td>\n",
       "      <td>EXPECTED_TO_DEPART_AT</td>\n",
       "      <td>138S</td>\n",
       "      <td>1.411045e+09</td>\n",
       "      <td>1.411045e+09</td>\n",
       "    </tr>\n",
       "    <tr>\n",
       "      <th>3</th>\n",
       "      <td>047600_1..S02R</td>\n",
       "      <td>1</td>\n",
       "      <td>EXPECTED_TO_ARRIVE_AT</td>\n",
       "      <td>139S</td>\n",
       "      <td>1.411045e+09</td>\n",
       "      <td>1.411045e+09</td>\n",
       "    </tr>\n",
       "    <tr>\n",
       "      <th>4</th>\n",
       "      <td>047600_1..S02R</td>\n",
       "      <td>1</td>\n",
       "      <td>EXPECTED_TO_DEPART_AT</td>\n",
       "      <td>139S</td>\n",
       "      <td>1.411045e+09</td>\n",
       "      <td>1.411045e+09</td>\n",
       "    </tr>\n",
       "    <tr>\n",
       "      <th>5</th>\n",
       "      <td>047600_1..S02R</td>\n",
       "      <td>1</td>\n",
       "      <td>EXPECTED_TO_ARRIVE_AT</td>\n",
       "      <td>140S</td>\n",
       "      <td>1.411045e+09</td>\n",
       "      <td>1.411045e+09</td>\n",
       "    </tr>\n",
       "  </tbody>\n",
       "</table>\n",
       "</div>"
      ],
      "text/plain": [
       "          trip_id route_id                 action stop_id  time_assigned  \\\n",
       "0  047600_1..S02R        1             STOPPED_AT    137S   1.411045e+09   \n",
       "1  047600_1..S02R        1  EXPECTED_TO_ARRIVE_AT    138S   1.411045e+09   \n",
       "2  047600_1..S02R        1  EXPECTED_TO_DEPART_AT    138S   1.411045e+09   \n",
       "3  047600_1..S02R        1  EXPECTED_TO_ARRIVE_AT    139S   1.411045e+09   \n",
       "4  047600_1..S02R        1  EXPECTED_TO_DEPART_AT    139S   1.411045e+09   \n",
       "5  047600_1..S02R        1  EXPECTED_TO_ARRIVE_AT    140S   1.411045e+09   \n",
       "\n",
       "   information_time  \n",
       "0      1.411045e+09  \n",
       "1      1.411045e+09  \n",
       "2      1.411045e+09  \n",
       "3      1.411045e+09  \n",
       "4      1.411045e+09  \n",
       "5      1.411045e+09  "
      ]
     },
     "execution_count": 8,
     "metadata": {},
     "output_type": "execute_result"
    }
   ],
   "source": [
    "S02R_action_logs[0]"
   ]
  },
  {
   "cell_type": "code",
   "execution_count": 9,
   "metadata": {
    "collapsed": false
   },
   "outputs": [
    {
     "data": {
      "text/html": [
       "<div>\n",
       "<table border=\"1\" class=\"dataframe\">\n",
       "  <thead>\n",
       "    <tr style=\"text-align: right;\">\n",
       "      <th></th>\n",
       "      <th>trip_id</th>\n",
       "      <th>route_id</th>\n",
       "      <th>action</th>\n",
       "      <th>stop_id</th>\n",
       "      <th>time_assigned</th>\n",
       "      <th>information_time</th>\n",
       "    </tr>\n",
       "  </thead>\n",
       "  <tbody>\n",
       "    <tr>\n",
       "      <th>0</th>\n",
       "      <td>047600_1..S02R</td>\n",
       "      <td>1</td>\n",
       "      <td>EXPECTED_TO_ARRIVE_AT</td>\n",
       "      <td>140S</td>\n",
       "      <td>1.411046e+09</td>\n",
       "      <td>1.411046e+09</td>\n",
       "    </tr>\n",
       "  </tbody>\n",
       "</table>\n",
       "</div>"
      ],
      "text/plain": [
       "          trip_id route_id                 action stop_id  time_assigned  \\\n",
       "0  047600_1..S02R        1  EXPECTED_TO_ARRIVE_AT    140S   1.411046e+09   \n",
       "\n",
       "   information_time  \n",
       "0      1.411046e+09  "
      ]
     },
     "execution_count": 9,
     "metadata": {},
     "output_type": "execute_result"
    }
   ],
   "source": [
    "S02R_action_logs[1]"
   ]
  },
  {
   "cell_type": "markdown",
   "metadata": {},
   "source": [
    "The story here is that in five minutes, this train has cleared two stations. The state is also now consistent again (whereas in the first log it is not, see 06)."
   ]
  },
  {
   "cell_type": "code",
   "execution_count": 11,
   "metadata": {
    "collapsed": false
   },
   "outputs": [
    {
     "data": {
      "text/plain": [
       "(1411045639.0, 1411045560.0)"
      ]
     },
     "execution_count": 11,
     "metadata": {},
     "output_type": "execute_result"
    }
   ],
   "source": [
    "S02R_action_logs[1].time_assigned[0], S02R_action_logs[1].information_time[0]"
   ]
  },
  {
   "cell_type": "markdown",
   "metadata": {},
   "source": [
    "The information that we can recover from this data is as follows:\n",
    "* At time 1, the train was stopped at 137S.\n",
    "* Sometime between times 1 and 2, the train stopped at or passed by stops 138S and 139S.\n",
    "* At time 2, the train was en-route to stop 140S."
   ]
  },
  {
   "cell_type": "markdown",
   "metadata": {},
   "source": [
    "In terms of a trip log, what we see here is that:\n",
    "\n",
    "* The train stopped at 137S, with a known time.\n",
    "* The train either stopped at or skipped 138S and 139S, though the exact time at which it did these things is uncertain.\n",
    "* The train is still planned to stop at time 140S."
   ]
  },
  {
   "cell_type": "markdown",
   "metadata": {},
   "source": [
    "We could table this data as:\n",
    "\n",
    "```csv\n",
    "trip_id,route_id,action,stop_id,minimum_time_assigned,maximum_time_assigned,latest_information_time\n",
    "047600_1..S02R,1,STOPPED_AT,137S,1411044658,1411044718,1411045260\n",
    "047600_1..S02R,1,STOPPED_OR_SKIPPED,138S,1411044718,1411044918,1411045260\n",
    "047600_1..S02R,1,STOPPED_OR_SKIPPED,139S,1411044718,1411044918,1411045260\n",
    "047600_1..S02R,1,EXPECTED_TO_ARRIVE_AT,140S,1411045228,1411045228,1411045260\n",
    "```"
   ]
  },
  {
   "cell_type": "code",
   "execution_count": 13,
   "metadata": {
    "collapsed": true
   },
   "outputs": [],
   "source": [
    "from processing import parse_tripwise_action_logs_into_trip_log"
   ]
  },
  {
   "cell_type": "code",
   "execution_count": 28,
   "metadata": {
    "collapsed": false
   },
   "outputs": [],
   "source": [
    "import pandas as pd; pd.set_option('precision', 10)"
   ]
  },
  {
   "cell_type": "code",
   "execution_count": 48,
   "metadata": {
    "collapsed": false
   },
   "outputs": [
    {
     "data": {
      "text/html": [
       "<div>\n",
       "<table border=\"1\" class=\"dataframe\">\n",
       "  <thead>\n",
       "    <tr style=\"text-align: right;\">\n",
       "      <th></th>\n",
       "      <th>information_time</th>\n",
       "      <th>trip_id</th>\n",
       "      <th>route_id</th>\n",
       "      <th>action</th>\n",
       "      <th>stop_id</th>\n",
       "      <th>time_assigned</th>\n",
       "    </tr>\n",
       "  </thead>\n",
       "  <tbody>\n",
       "    <tr>\n",
       "      <th>0</th>\n",
       "      <td>1411045260.0</td>\n",
       "      <td>047600_1..S02R</td>\n",
       "      <td>1</td>\n",
       "      <td>STOPPED_AT</td>\n",
       "      <td>137S</td>\n",
       "      <td>1411044718.0</td>\n",
       "    </tr>\n",
       "    <tr>\n",
       "      <th>1</th>\n",
       "      <td>1411045560.0</td>\n",
       "      <td>047600_1..S02R</td>\n",
       "      <td>1</td>\n",
       "      <td>EXPECTED_TO_ARRIVE_AT</td>\n",
       "      <td>140S</td>\n",
       "      <td>1411045639.0</td>\n",
       "    </tr>\n",
       "  </tbody>\n",
       "</table>\n",
       "</div>"
      ],
      "text/plain": [
       "   information_time         trip_id route_id                 action stop_id  \\\n",
       "0      1411045260.0  047600_1..S02R        1             STOPPED_AT    137S   \n",
       "1      1411045560.0  047600_1..S02R        1  EXPECTED_TO_ARRIVE_AT    140S   \n",
       "\n",
       "   time_assigned  \n",
       "0   1411044718.0  \n",
       "1   1411045639.0  "
      ]
     },
     "execution_count": 48,
     "metadata": {},
     "output_type": "execute_result"
    }
   ],
   "source": [
    "S02R_action_logs[0].append(S02R_action_logs[1]).groupby('information_time').first().reset_index()"
   ]
  },
  {
   "cell_type": "markdown",
   "metadata": {},
   "source": [
    "`parse_tripwise_action_logs_into_trip_log` does this:"
   ]
  },
  {
   "cell_type": "code",
   "execution_count": 57,
   "metadata": {
    "collapsed": false,
    "scrolled": false
   },
   "outputs": [
    {
     "data": {
      "text/html": [
       "<div>\n",
       "<table border=\"1\" class=\"dataframe\">\n",
       "  <thead>\n",
       "    <tr style=\"text-align: right;\">\n",
       "      <th></th>\n",
       "      <th>action</th>\n",
       "      <th>latest_information_time</th>\n",
       "      <th>maximum_time</th>\n",
       "      <th>minimum_time</th>\n",
       "      <th>route_id</th>\n",
       "      <th>stop_id</th>\n",
       "      <th>trip_id</th>\n",
       "    </tr>\n",
       "  </thead>\n",
       "  <tbody>\n",
       "    <tr>\n",
       "      <th>0</th>\n",
       "      <td>STOPPED_AT</td>\n",
       "      <td>1411045260.0</td>\n",
       "      <td>1411045260</td>\n",
       "      <td>1411045260.0</td>\n",
       "      <td>1</td>\n",
       "      <td>137S</td>\n",
       "      <td>047600_1..S02R</td>\n",
       "    </tr>\n",
       "    <tr>\n",
       "      <th>1</th>\n",
       "      <td>STOPPED_OR_SKIPPED</td>\n",
       "      <td>1411045560.0</td>\n",
       "      <td>1411045560</td>\n",
       "      <td>1411045260.0</td>\n",
       "      <td>1</td>\n",
       "      <td>138S</td>\n",
       "      <td>047600_1..S02R</td>\n",
       "    </tr>\n",
       "    <tr>\n",
       "      <th>2</th>\n",
       "      <td>STOPPED_OR_SKIPPED</td>\n",
       "      <td>1411045560.0</td>\n",
       "      <td>1411045560</td>\n",
       "      <td>1411045260.0</td>\n",
       "      <td>1</td>\n",
       "      <td>139S</td>\n",
       "      <td>047600_1..S02R</td>\n",
       "    </tr>\n",
       "    <tr>\n",
       "      <th>3</th>\n",
       "      <td>EN_ROUTE_TO</td>\n",
       "      <td>1411045560.0</td>\n",
       "      <td>None</td>\n",
       "      <td>1411045560.0</td>\n",
       "      <td>1</td>\n",
       "      <td>140S</td>\n",
       "      <td>047600_1..S02R</td>\n",
       "    </tr>\n",
       "  </tbody>\n",
       "</table>\n",
       "</div>"
      ],
      "text/plain": [
       "               action  latest_information_time maximum_time  minimum_time  \\\n",
       "0          STOPPED_AT             1411045260.0   1411045260  1411045260.0   \n",
       "1  STOPPED_OR_SKIPPED             1411045560.0   1411045560  1411045260.0   \n",
       "2  STOPPED_OR_SKIPPED             1411045560.0   1411045560  1411045260.0   \n",
       "3         EN_ROUTE_TO             1411045560.0         None  1411045560.0   \n",
       "\n",
       "  route_id stop_id         trip_id  \n",
       "0        1    137S  047600_1..S02R  \n",
       "1        1    138S  047600_1..S02R  \n",
       "2        1    139S  047600_1..S02R  \n",
       "3        1    140S  047600_1..S02R  "
      ]
     },
     "execution_count": 57,
     "metadata": {},
     "output_type": "execute_result"
    }
   ],
   "source": [
    "parse_tripwise_action_logs_into_trip_log(S02R_action_logs)"
   ]
  },
  {
   "cell_type": "markdown",
   "metadata": {},
   "source": [
    "To make sure it's working properly, let's look at trip records from a few other trips.\n",
    "\n",
    "Here's one with three recordsets:"
   ]
  },
  {
   "cell_type": "code",
   "execution_count": 61,
   "metadata": {
    "collapsed": false
   },
   "outputs": [
    {
     "data": {
      "text/plain": [
       "'048150_1..S07R'"
      ]
     },
     "execution_count": 61,
     "metadata": {},
     "output_type": "execute_result"
    }
   ],
   "source": [
    "gtfs_r[0].entity[2].trip_update.trip.trip_id"
   ]
  },
  {
   "cell_type": "code",
   "execution_count": 62,
   "metadata": {
    "collapsed": false
   },
   "outputs": [
    {
     "data": {
      "text/plain": [
       "'048150_1..S07R'"
      ]
     },
     "execution_count": 62,
     "metadata": {},
     "output_type": "execute_result"
    }
   ],
   "source": [
    "gtfs_r[5].entity[2].trip_update.trip.trip_id"
   ]
  },
  {
   "cell_type": "code",
   "execution_count": 63,
   "metadata": {
    "collapsed": false
   },
   "outputs": [
    {
     "data": {
      "text/plain": [
       "'048600_1..S02R'"
      ]
     },
     "execution_count": 63,
     "metadata": {},
     "output_type": "execute_result"
    }
   ],
   "source": [
    "gtfs_r[10].entity[2].trip_update.trip.trip_id"
   ]
  },
  {
   "cell_type": "code",
   "execution_count": 66,
   "metadata": {
    "collapsed": true
   },
   "outputs": [],
   "source": [
    "S07R_action_logs = []\n",
    "\n",
    "for n in [0, 15]:\n",
    "    information_time = mta_archival_time_to_unix_timestamp('2014-09-18-09-' + str(1 + n).zfill(2))\n",
    "    S07R_action_logs.append(parse_message_into_action_log(gtfs_r[n].entity[2], \n",
    "                                                          gtfs_r[n].entity[3],\n",
    "                                                          information_time))"
   ]
  },
  {
   "cell_type": "code",
   "execution_count": 73,
   "metadata": {
    "collapsed": false
   },
   "outputs": [
    {
     "data": {
      "text/html": [
       "<div>\n",
       "<table border=\"1\" class=\"dataframe\">\n",
       "  <thead>\n",
       "    <tr style=\"text-align: right;\">\n",
       "      <th></th>\n",
       "      <th>action</th>\n",
       "      <th>latest_information_time</th>\n",
       "      <th>maximum_time</th>\n",
       "      <th>minimum_time</th>\n",
       "      <th>route_id</th>\n",
       "      <th>stop_id</th>\n",
       "      <th>trip_id</th>\n",
       "    </tr>\n",
       "  </thead>\n",
       "  <tbody>\n",
       "    <tr>\n",
       "      <th>0</th>\n",
       "      <td>STOPPED_AT</td>\n",
       "      <td>1411045260.0</td>\n",
       "      <td>1411045260.0</td>\n",
       "      <td>1411045260.0</td>\n",
       "      <td>1</td>\n",
       "      <td>136S</td>\n",
       "      <td>048150_1..S07R</td>\n",
       "    </tr>\n",
       "    <tr>\n",
       "      <th>1</th>\n",
       "      <td>STOPPED_OR_SKIPPED</td>\n",
       "      <td>1411046160.0</td>\n",
       "      <td>1411046160.0</td>\n",
       "      <td>1411045260.0</td>\n",
       "      <td>1</td>\n",
       "      <td>137S</td>\n",
       "      <td>048150_1..S07R</td>\n",
       "    </tr>\n",
       "    <tr>\n",
       "      <th>2</th>\n",
       "      <td>STOPPED_AT</td>\n",
       "      <td>1411046160.0</td>\n",
       "      <td>1411046160.0</td>\n",
       "      <td>1411046160.0</td>\n",
       "      <td>1</td>\n",
       "      <td>138S</td>\n",
       "      <td>048150_1..S07R</td>\n",
       "    </tr>\n",
       "    <tr>\n",
       "      <th>3</th>\n",
       "      <td>EN_ROUTE_TO</td>\n",
       "      <td>1411046160.0</td>\n",
       "      <td>NaN</td>\n",
       "      <td>1411046160.0</td>\n",
       "      <td>1</td>\n",
       "      <td>139S</td>\n",
       "      <td>048150_1..S07R</td>\n",
       "    </tr>\n",
       "    <tr>\n",
       "      <th>4</th>\n",
       "      <td>EN_ROUTE_TO</td>\n",
       "      <td>1411046160.0</td>\n",
       "      <td>NaN</td>\n",
       "      <td>1411046160.0</td>\n",
       "      <td>1</td>\n",
       "      <td>140S</td>\n",
       "      <td>048150_1..S07R</td>\n",
       "    </tr>\n",
       "  </tbody>\n",
       "</table>\n",
       "</div>"
      ],
      "text/plain": [
       "               action  latest_information_time  maximum_time  minimum_time  \\\n",
       "0          STOPPED_AT             1411045260.0  1411045260.0  1411045260.0   \n",
       "1  STOPPED_OR_SKIPPED             1411046160.0  1411046160.0  1411045260.0   \n",
       "2          STOPPED_AT             1411046160.0  1411046160.0  1411046160.0   \n",
       "3         EN_ROUTE_TO             1411046160.0           NaN  1411046160.0   \n",
       "4         EN_ROUTE_TO             1411046160.0           NaN  1411046160.0   \n",
       "\n",
       "  route_id stop_id         trip_id  \n",
       "0        1    136S  048150_1..S07R  \n",
       "1        1    137S  048150_1..S07R  \n",
       "2        1    138S  048150_1..S07R  \n",
       "3        1    139S  048150_1..S07R  \n",
       "4        1    140S  048150_1..S07R  "
      ]
     },
     "execution_count": 73,
     "metadata": {},
     "output_type": "execute_result"
    }
   ],
   "source": [
    "parse_tripwise_action_logs_into_trip_log(S07R_action_logs)"
   ]
  },
  {
   "cell_type": "code",
   "execution_count": null,
   "metadata": {
    "collapsed": true
   },
   "outputs": [],
   "source": []
  }
 ],
 "metadata": {
  "kernelspec": {
   "display_name": "Python 3",
   "language": "python",
   "name": "python3"
  },
  "language_info": {
   "codemirror_mode": {
    "name": "ipython",
    "version": 3
   },
   "file_extension": ".py",
   "mimetype": "text/x-python",
   "name": "python",
   "nbconvert_exporter": "python",
   "pygments_lexer": "ipython3",
   "version": "3.4.5"
  }
 },
 "nbformat": 4,
 "nbformat_minor": 2
}
