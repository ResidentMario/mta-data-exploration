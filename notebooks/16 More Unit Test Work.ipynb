{
 "cells": [
  {
   "cell_type": "code",
   "execution_count": 1,
   "metadata": {
    "collapsed": true
   },
   "outputs": [],
   "source": [
    "import sys; sys.path.append(\"../src/\")\n",
    "from processing import fetch_archival_gtfs_realtime_data, parse_gtfs_into_action_log"
   ]
  },
  {
   "cell_type": "code",
   "execution_count": 2,
   "metadata": {
    "collapsed": true
   },
   "outputs": [],
   "source": [
    "%load_ext autoreload\n",
    "%autoreload 2"
   ]
  },
  {
   "cell_type": "code",
   "execution_count": 4,
   "metadata": {
    "collapsed": true
   },
   "outputs": [],
   "source": [
    "from processing import parse_message_into_action_log"
   ]
  },
  {
   "cell_type": "code",
   "execution_count": 33,
   "metadata": {
    "collapsed": true
   },
   "outputs": [],
   "source": [
    "from google.transit import gtfs_realtime_pb2\n",
    "\n",
    "with open(\"../src/tests/data/gtfs_realtime_pull_1.dat\", \"rb\") as f:\n",
    "    gtfs_r0 = gtfs_realtime_pb2.FeedMessage()\n",
    "    gtfs_r0.ParseFromString(f.read())"
   ]
  },
  {
   "cell_type": "code",
   "execution_count": 103,
   "metadata": {
    "collapsed": false
   },
   "outputs": [
    {
     "data": {
      "text/html": [
       "<div>\n",
       "<table border=\"1\" class=\"dataframe\">\n",
       "  <thead>\n",
       "    <tr style=\"text-align: right;\">\n",
       "      <th></th>\n",
       "      <th>trip_id</th>\n",
       "      <th>route_id</th>\n",
       "      <th>information_time</th>\n",
       "      <th>action</th>\n",
       "      <th>stop_id</th>\n",
       "      <th>time_assigned</th>\n",
       "    </tr>\n",
       "  </thead>\n",
       "  <tbody>\n",
       "    <tr>\n",
       "      <th>0</th>\n",
       "      <td>047600_1..S02R</td>\n",
       "      <td>1</td>\n",
       "      <td>None</td>\n",
       "      <td>STOPPED_AT</td>\n",
       "      <td>137S</td>\n",
       "      <td>1411044718</td>\n",
       "    </tr>\n",
       "    <tr>\n",
       "      <th>1</th>\n",
       "      <td>047600_1..S02R</td>\n",
       "      <td>1</td>\n",
       "      <td>None</td>\n",
       "      <td>EXPECTED_TO_ARRIVE_AT</td>\n",
       "      <td>138S</td>\n",
       "      <td>1411044928</td>\n",
       "    </tr>\n",
       "    <tr>\n",
       "      <th>2</th>\n",
       "      <td>047600_1..S02R</td>\n",
       "      <td>1</td>\n",
       "      <td>None</td>\n",
       "      <td>EXPECTED_TO_DEPART_AT</td>\n",
       "      <td>138S</td>\n",
       "      <td>1411044928</td>\n",
       "    </tr>\n",
       "    <tr>\n",
       "      <th>3</th>\n",
       "      <td>047600_1..S02R</td>\n",
       "      <td>1</td>\n",
       "      <td>None</td>\n",
       "      <td>EXPECTED_TO_ARRIVE_AT</td>\n",
       "      <td>139S</td>\n",
       "      <td>1411045018</td>\n",
       "    </tr>\n",
       "    <tr>\n",
       "      <th>4</th>\n",
       "      <td>047600_1..S02R</td>\n",
       "      <td>1</td>\n",
       "      <td>None</td>\n",
       "      <td>EXPECTED_TO_DEPART_AT</td>\n",
       "      <td>139S</td>\n",
       "      <td>1411045078</td>\n",
       "    </tr>\n",
       "    <tr>\n",
       "      <th>5</th>\n",
       "      <td>047600_1..S02R</td>\n",
       "      <td>1</td>\n",
       "      <td>None</td>\n",
       "      <td>EXPECTED_TO_ARRIVE_AT</td>\n",
       "      <td>140S</td>\n",
       "      <td>1411045228</td>\n",
       "    </tr>\n",
       "  </tbody>\n",
       "</table>\n",
       "</div>"
      ],
      "text/plain": [
       "          trip_id route_id information_time                 action stop_id  \\\n",
       "0  047600_1..S02R        1             None             STOPPED_AT    137S   \n",
       "1  047600_1..S02R        1             None  EXPECTED_TO_ARRIVE_AT    138S   \n",
       "2  047600_1..S02R        1             None  EXPECTED_TO_DEPART_AT    138S   \n",
       "3  047600_1..S02R        1             None  EXPECTED_TO_ARRIVE_AT    139S   \n",
       "4  047600_1..S02R        1             None  EXPECTED_TO_DEPART_AT    139S   \n",
       "5  047600_1..S02R        1             None  EXPECTED_TO_ARRIVE_AT    140S   \n",
       "\n",
       "  time_assigned  \n",
       "0    1411044718  \n",
       "1    1411044928  \n",
       "2    1411044928  \n",
       "3    1411045018  \n",
       "4    1411045078  \n",
       "5    1411045228  "
      ]
     },
     "execution_count": 103,
     "metadata": {},
     "output_type": "execute_result"
    }
   ],
   "source": [
    "parse_message_into_action_log(gtfs_r0.entity[0], gtfs_r0.entity[1], None)"
   ]
  },
  {
   "cell_type": "code",
   "execution_count": 99,
   "metadata": {
    "collapsed": true
   },
   "outputs": [],
   "source": [
    "i = 0"
   ]
  },
  {
   "cell_type": "code",
   "execution_count": 102,
   "metadata": {
    "collapsed": false
   },
   "outputs": [
    {
     "data": {
      "text/html": [
       "<div>\n",
       "<table border=\"1\" class=\"dataframe\">\n",
       "  <thead>\n",
       "    <tr style=\"text-align: right;\">\n",
       "      <th></th>\n",
       "      <th>trip_id</th>\n",
       "      <th>route_id</th>\n",
       "      <th>information_time</th>\n",
       "      <th>action</th>\n",
       "      <th>stop_id</th>\n",
       "      <th>time_assigned</th>\n",
       "    </tr>\n",
       "  </thead>\n",
       "  <tbody>\n",
       "    <tr>\n",
       "      <th>0</th>\n",
       "      <td>052250_1..N02R</td>\n",
       "      <td>1</td>\n",
       "      <td>None</td>\n",
       "      <td>STOPPED_AT</td>\n",
       "      <td>106N</td>\n",
       "      <td>1410960945</td>\n",
       "    </tr>\n",
       "    <tr>\n",
       "      <th>1</th>\n",
       "      <td>052250_1..N02R</td>\n",
       "      <td>1</td>\n",
       "      <td>None</td>\n",
       "      <td>EXPECTED_TO_ARRIVE_AT</td>\n",
       "      <td>104N</td>\n",
       "      <td>1410961035</td>\n",
       "    </tr>\n",
       "    <tr>\n",
       "      <th>2</th>\n",
       "      <td>052250_1..N02R</td>\n",
       "      <td>1</td>\n",
       "      <td>None</td>\n",
       "      <td>EXPECTED_TO_DEPART_AT</td>\n",
       "      <td>104N</td>\n",
       "      <td>1410961035</td>\n",
       "    </tr>\n",
       "    <tr>\n",
       "      <th>3</th>\n",
       "      <td>052250_1..N02R</td>\n",
       "      <td>1</td>\n",
       "      <td>None</td>\n",
       "      <td>EXPECTED_TO_ARRIVE_AT</td>\n",
       "      <td>103N</td>\n",
       "      <td>1410961125</td>\n",
       "    </tr>\n",
       "    <tr>\n",
       "      <th>4</th>\n",
       "      <td>052250_1..N02R</td>\n",
       "      <td>1</td>\n",
       "      <td>None</td>\n",
       "      <td>EXPECTED_TO_DEPART_AT</td>\n",
       "      <td>103N</td>\n",
       "      <td>1410961245</td>\n",
       "    </tr>\n",
       "    <tr>\n",
       "      <th>5</th>\n",
       "      <td>052250_1..N02R</td>\n",
       "      <td>1</td>\n",
       "      <td>None</td>\n",
       "      <td>EXPECTED_TO_ARRIVE_AT</td>\n",
       "      <td>101N</td>\n",
       "      <td>1410961335</td>\n",
       "    </tr>\n",
       "  </tbody>\n",
       "</table>\n",
       "</div>"
      ],
      "text/plain": [
       "          trip_id route_id information_time                 action stop_id  \\\n",
       "0  052250_1..N02R        1             None             STOPPED_AT    106N   \n",
       "1  052250_1..N02R        1             None  EXPECTED_TO_ARRIVE_AT    104N   \n",
       "2  052250_1..N02R        1             None  EXPECTED_TO_DEPART_AT    104N   \n",
       "3  052250_1..N02R        1             None  EXPECTED_TO_ARRIVE_AT    103N   \n",
       "4  052250_1..N02R        1             None  EXPECTED_TO_DEPART_AT    103N   \n",
       "5  052250_1..N02R        1             None  EXPECTED_TO_ARRIVE_AT    101N   \n",
       "\n",
       "  time_assigned  \n",
       "0    1410960945  \n",
       "1    1410961035  \n",
       "2    1410961035  \n",
       "3    1410961125  \n",
       "4    1410961245  \n",
       "5    1410961335  "
      ]
     },
     "execution_count": 102,
     "metadata": {},
     "output_type": "execute_result"
    }
   ],
   "source": [
    "i += 2\n",
    "\n",
    "parse_message_into_action_log(gtfs_r1.entity[i], gtfs_r1.entity[i + 1], None)"
   ]
  },
  {
   "cell_type": "code",
   "execution_count": 94,
   "metadata": {
    "collapsed": false
   },
   "outputs": [
    {
     "data": {
      "text/plain": [
       "12"
      ]
     },
     "execution_count": 94,
     "metadata": {},
     "output_type": "execute_result"
    }
   ],
   "source": [
    "i"
   ]
  },
  {
   "cell_type": "code",
   "execution_count": 81,
   "metadata": {
    "collapsed": false
   },
   "outputs": [],
   "source": [
    "gtfs_r0.entity[15].vehicle.current_status = 1"
   ]
  },
  {
   "cell_type": "code",
   "execution_count": 82,
   "metadata": {
    "collapsed": false
   },
   "outputs": [
    {
     "data": {
      "text/plain": [
       "id: \"000016\"\n",
       "vehicle {\n",
       "  trip {\n",
       "    trip_id: \"049450_1..S08R\"\n",
       "    start_date: \"20140918\"\n",
       "    route_id: \"1\"\n",
       "  }\n",
       "  current_stop_sequence: 26\n",
       "  current_status: STOPPED_AT\n",
       "  timestamp: 1411045187\n",
       "  stop_id: \"140S\"\n",
       "}"
      ]
     },
     "execution_count": 82,
     "metadata": {},
     "output_type": "execute_result"
    }
   ],
   "source": [
    "gtfs_r0.entity[15]"
   ]
  },
  {
   "cell_type": "code",
   "execution_count": 85,
   "metadata": {
    "collapsed": false
   },
   "outputs": [
    {
     "data": {
      "text/html": [
       "<div>\n",
       "<table border=\"1\" class=\"dataframe\">\n",
       "  <thead>\n",
       "    <tr style=\"text-align: right;\">\n",
       "      <th></th>\n",
       "      <th>trip_id</th>\n",
       "      <th>route_id</th>\n",
       "      <th>information_time</th>\n",
       "      <th>action</th>\n",
       "      <th>stop_id</th>\n",
       "      <th>time_assigned</th>\n",
       "    </tr>\n",
       "  </thead>\n",
       "  <tbody>\n",
       "    <tr>\n",
       "      <th>0</th>\n",
       "      <td>049450_1..S08R</td>\n",
       "      <td>1</td>\n",
       "      <td>None</td>\n",
       "      <td>EXPECTED_TO_ARRIVE_AT</td>\n",
       "      <td>140S</td>\n",
       "      <td>1411045326</td>\n",
       "    </tr>\n",
       "  </tbody>\n",
       "</table>\n",
       "</div>"
      ],
      "text/plain": [
       "          trip_id route_id information_time                 action stop_id  \\\n",
       "0  049450_1..S08R        1             None  EXPECTED_TO_ARRIVE_AT    140S   \n",
       "\n",
       "  time_assigned  \n",
       "0    1411045326  "
      ]
     },
     "execution_count": 85,
     "metadata": {},
     "output_type": "execute_result"
    }
   ],
   "source": [
    "parse_message_into_action_log(gtfs_r0.entity[14], gtfs_r0.entity[15], None)"
   ]
  },
  {
   "cell_type": "code",
   "execution_count": 86,
   "metadata": {
    "collapsed": true
   },
   "outputs": [],
   "source": [
    "from google.transit import gtfs_realtime_pb2\n",
    "\n",
    "with open(\"../src/tests/data/gtfs_realtime_pull_2.dat\", \"rb\") as f:\n",
    "    gtfs_r1 = gtfs_realtime_pb2.FeedMessage()\n",
    "    gtfs_r1.ParseFromString(f.read())"
   ]
  },
  {
   "cell_type": "code",
   "execution_count": 113,
   "metadata": {
    "collapsed": false
   },
   "outputs": [
    {
     "name": "stdout",
     "output_type": "stream",
     "text": [
      "1\n",
      "6\n",
      "11\n",
      "16\n",
      "21\n",
      "26\n",
      "31\n",
      "36\n",
      "41\n",
      "46\n",
      "51\n",
      "56\n",
      "Done!\n"
     ]
    }
   ],
   "source": [
    "gtfs_r = dict()\n",
    "\n",
    "for n in range(0, 60, 5):\n",
    "    print(n + 1)\n",
    "    gtfs_r[n] = fetch_archival_gtfs_realtime_data(kind='gtfs', timestamp='2014-09-18-09-' + str(1 + n).zfill(2))\n",
    "    \n",
    "print(\"Done!\")"
   ]
  },
  {
   "cell_type": "code",
   "execution_count": 117,
   "metadata": {
    "collapsed": false
   },
   "outputs": [
    {
     "data": {
      "text/plain": [
       "[arrival {\n",
       "  time: 1411048585\n",
       "}\n",
       "stop_id: \"140S\"\n",
       "]"
      ]
     },
     "execution_count": 117,
     "metadata": {},
     "output_type": "execute_result"
    }
   ],
   "source": [
    "gtfs_r[n].entity[0].trip_update.stop_time_update"
   ]
  },
  {
   "cell_type": "code",
   "execution_count": 119,
   "metadata": {
    "collapsed": false
   },
   "outputs": [
    {
     "data": {
      "text/plain": [
       "time: 1411048585"
      ]
     },
     "execution_count": 119,
     "metadata": {},
     "output_type": "execute_result"
    }
   ],
   "source": [
    "gtfs_r[n].entity[0].trip_update.stop_time_update[0].arrival"
   ]
  },
  {
   "cell_type": "code",
   "execution_count": 120,
   "metadata": {
    "collapsed": false
   },
   "outputs": [
    {
     "data": {
      "text/plain": [
       "True"
      ]
     },
     "execution_count": 120,
     "metadata": {},
     "output_type": "execute_result"
    }
   ],
   "source": [
    "hasattr(gtfs_r[n].entity[0].trip_update.stop_time_update[0], 'arrival')"
   ]
  },
  {
   "cell_type": "code",
   "execution_count": 126,
   "metadata": {
    "collapsed": false
   },
   "outputs": [
    {
     "data": {
      "text/plain": [
       "arrival {\n",
       "  time: 1411048697\n",
       "}\n",
       "departure {\n",
       "  time: 1411048697\n",
       "}\n",
       "stop_id: \"104S\""
      ]
     },
     "execution_count": 126,
     "metadata": {},
     "output_type": "execute_result"
    }
   ],
   "source": [
    "gtfs_r[n].entity[50].trip_update.stop_time_update[1]"
   ]
  },
  {
   "cell_type": "code",
   "execution_count": 148,
   "metadata": {
    "collapsed": false
   },
   "outputs": [
    {
     "name": "stdout",
     "output_type": "stream",
     "text": [
      "DONE!\n",
      "arrival {\n",
      "  time: 1411046728\n",
      "}\n",
      "stop_id: \"234S\"\n",
      "\n",
      "> <ipython-input-148-c1bc6f33c5ab>(8)<module>()\n",
      "-> raise ValueError\n",
      "(Pdb) n\n",
      "ValueError\n",
      "> <ipython-input-148-c1bc6f33c5ab>(8)<module>()\n",
      "-> raise ValueError\n",
      "(Pdb) !n\n",
      "0\n",
      "(Pdb) i\n",
      "109\n",
      "(Pdb) k\n",
      "10\n",
      "(Pdb) q\n"
     ]
    },
    {
     "ename": "BdbQuit",
     "evalue": "",
     "output_type": "error",
     "traceback": [
      "\u001b[0;31m---------------------------------------------------------------------------\u001b[0m",
      "\u001b[0;31mBdbQuit\u001b[0m                                   Traceback (most recent call last)",
      "\u001b[0;32m<ipython-input-148-c1bc6f33c5ab>\u001b[0m in \u001b[0;36m<module>\u001b[0;34m()\u001b[0m\n\u001b[1;32m      6\u001b[0m                 \u001b[0mprint\u001b[0m\u001b[0;34m(\u001b[0m\u001b[0mupdate\u001b[0m\u001b[0;34m)\u001b[0m\u001b[0;34m\u001b[0m\u001b[0m\n\u001b[1;32m      7\u001b[0m                 \u001b[0;32mimport\u001b[0m \u001b[0mpdb\u001b[0m\u001b[0;34m;\u001b[0m \u001b[0mpdb\u001b[0m\u001b[0;34m.\u001b[0m\u001b[0mset_trace\u001b[0m\u001b[0;34m(\u001b[0m\u001b[0;34m)\u001b[0m\u001b[0;34m\u001b[0m\u001b[0m\n\u001b[0;32m----> 8\u001b[0;31m                 \u001b[0;32mraise\u001b[0m \u001b[0mValueError\u001b[0m\u001b[0;34m\u001b[0m\u001b[0m\n\u001b[0m",
      "\u001b[0;32m/home/alex/miniconda3/envs/mta-data-exploration/lib/python3.4/bdb.py\u001b[0m in \u001b[0;36mtrace_dispatch\u001b[0;34m(self, frame, event, arg)\u001b[0m\n\u001b[1;32m     52\u001b[0m             \u001b[0;32mreturn\u001b[0m \u001b[0mself\u001b[0m\u001b[0;34m.\u001b[0m\u001b[0mdispatch_return\u001b[0m\u001b[0;34m(\u001b[0m\u001b[0mframe\u001b[0m\u001b[0;34m,\u001b[0m \u001b[0marg\u001b[0m\u001b[0;34m)\u001b[0m\u001b[0;34m\u001b[0m\u001b[0m\n\u001b[1;32m     53\u001b[0m         \u001b[0;32mif\u001b[0m \u001b[0mevent\u001b[0m \u001b[0;34m==\u001b[0m \u001b[0;34m'exception'\u001b[0m\u001b[0;34m:\u001b[0m\u001b[0;34m\u001b[0m\u001b[0m\n\u001b[0;32m---> 54\u001b[0;31m             \u001b[0;32mreturn\u001b[0m \u001b[0mself\u001b[0m\u001b[0;34m.\u001b[0m\u001b[0mdispatch_exception\u001b[0m\u001b[0;34m(\u001b[0m\u001b[0mframe\u001b[0m\u001b[0;34m,\u001b[0m \u001b[0marg\u001b[0m\u001b[0;34m)\u001b[0m\u001b[0;34m\u001b[0m\u001b[0m\n\u001b[0m\u001b[1;32m     55\u001b[0m         \u001b[0;32mif\u001b[0m \u001b[0mevent\u001b[0m \u001b[0;34m==\u001b[0m \u001b[0;34m'c_call'\u001b[0m\u001b[0;34m:\u001b[0m\u001b[0;34m\u001b[0m\u001b[0m\n\u001b[1;32m     56\u001b[0m             \u001b[0;32mreturn\u001b[0m \u001b[0mself\u001b[0m\u001b[0;34m.\u001b[0m\u001b[0mtrace_dispatch\u001b[0m\u001b[0;34m\u001b[0m\u001b[0m\n",
      "\u001b[0;32m/home/alex/miniconda3/envs/mta-data-exploration/lib/python3.4/bdb.py\u001b[0m in \u001b[0;36mdispatch_exception\u001b[0;34m(self, frame, arg)\u001b[0m\n\u001b[1;32m    108\u001b[0m                     and arg[0] is StopIteration and arg[2] is None):\n\u001b[1;32m    109\u001b[0m                 \u001b[0mself\u001b[0m\u001b[0;34m.\u001b[0m\u001b[0muser_exception\u001b[0m\u001b[0;34m(\u001b[0m\u001b[0mframe\u001b[0m\u001b[0;34m,\u001b[0m \u001b[0marg\u001b[0m\u001b[0;34m)\u001b[0m\u001b[0;34m\u001b[0m\u001b[0m\n\u001b[0;32m--> 110\u001b[0;31m                 \u001b[0;32mif\u001b[0m \u001b[0mself\u001b[0m\u001b[0;34m.\u001b[0m\u001b[0mquitting\u001b[0m\u001b[0;34m:\u001b[0m \u001b[0;32mraise\u001b[0m \u001b[0mBdbQuit\u001b[0m\u001b[0;34m\u001b[0m\u001b[0m\n\u001b[0m\u001b[1;32m    111\u001b[0m         \u001b[0;31m# Stop at the StopIteration or GeneratorExit exception when the user\u001b[0m\u001b[0;34m\u001b[0m\u001b[0;34m\u001b[0m\u001b[0m\n\u001b[1;32m    112\u001b[0m         \u001b[0;31m# has set stopframe in a generator by issuing a return command, or a\u001b[0m\u001b[0;34m\u001b[0m\u001b[0;34m\u001b[0m\u001b[0m\n",
      "\u001b[0;31mBdbQuit\u001b[0m: "
     ]
    }
   ],
   "source": [
    "for n in range(0, 60, 5):\n",
    "    for i, message in enumerate(gtfs_r[n].entity):\n",
    "        for k, update in enumerate(message.trip_update.stop_time_update):\n",
    "            if str(update.arrival) != \"\" and str(update.departure) == \"\" and k != 0 and k != len(message.trip_update.stop_time_update) - 1:\n",
    "                print(\"DONE!\")\n",
    "                print(update)\n",
    "                import pdb; pdb.set_trace()\n",
    "                raise ValueError"
   ]
  },
  {
   "cell_type": "code",
   "execution_count": 147,
   "metadata": {
    "collapsed": false
   },
   "outputs": [],
   "source": [
    "with open(\"../src/tests/data/gtfs_realtime_pull_8.dat\", \"wb\") as f:\n",
    "    f.write(fetch_archival_gtfs_realtime_data(kind='gtfs', timestamp='2014-09-18-09-' + str(1 + 40).zfill(2), raw=True))"
   ]
  },
  {
   "cell_type": "code",
   "execution_count": 157,
   "metadata": {
    "collapsed": false,
    "scrolled": false
   },
   "outputs": [
    {
     "data": {
      "text/plain": [
       "arrival {\n",
       "  time: 1411046728\n",
       "}\n",
       "stop_id: \"234S\""
      ]
     },
     "execution_count": 157,
     "metadata": {},
     "output_type": "execute_result"
    }
   ],
   "source": [
    "gtfs_r[0].entity[109].trip_update.stop_time_update[10]"
   ]
  },
  {
   "cell_type": "code",
   "execution_count": null,
   "metadata": {
    "collapsed": true
   },
   "outputs": [],
   "source": []
  },
  {
   "cell_type": "code",
   "execution_count": null,
   "metadata": {
    "collapsed": true
   },
   "outputs": [],
   "source": [
    "gtfs_r[40]"
   ]
  },
  {
   "cell_type": "code",
   "execution_count": 144,
   "metadata": {
    "collapsed": false
   },
   "outputs": [
    {
     "data": {
      "text/plain": [
       "departure {\n",
       "  time: 1411050304\n",
       "}\n",
       "stop_id: \"213N\""
      ]
     },
     "execution_count": 144,
     "metadata": {},
     "output_type": "execute_result"
    }
   ],
   "source": [
    "gtfs_r[40].entity[99].trip_update.stop_time_update[17]"
   ]
  }
 ],
 "metadata": {
  "kernelspec": {
   "display_name": "Python 3",
   "language": "python",
   "name": "python3"
  },
  "language_info": {
   "codemirror_mode": {
    "name": "ipython",
    "version": 3
   },
   "file_extension": ".py",
   "mimetype": "text/x-python",
   "name": "python",
   "nbconvert_exporter": "python",
   "pygments_lexer": "ipython3",
   "version": "3.4.5"
  }
 },
 "nbformat": 4,
 "nbformat_minor": 2
}
