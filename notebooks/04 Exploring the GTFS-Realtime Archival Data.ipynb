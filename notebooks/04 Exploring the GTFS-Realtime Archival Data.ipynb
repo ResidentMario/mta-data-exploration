{
 "cells": [
  {
   "cell_type": "markdown",
   "metadata": {},
   "source": [
    "# About\n",
    "\n",
    "So far, I've gotten a model for how loading trips into TripSets will look like, and done a little bit of parsing with the current examples that I have (this was done in a development notebook). However, in order to better understand how to create a backwards-facing history of train movements using the GTFS-Realtime data, I need to examine what the process of merging backwards will look like.\n",
    "\n",
    "For that I need access to archival information. Luckily, we have that: see [here](http://web.mta.info/developers/MTA-Subway-Time-historical-data.html).\n",
    "\n",
    "These archival files are generated at 5-minute intervals, however, while the system as a whole updated at 30-second intervals. For testing purposes, I want to be able to build backwards off of this historical data. But is that going to be enough?\n",
    "\n",
    "I need to better understand the GTFS-Realtime format to be sure."
   ]
  },
  {
   "cell_type": "code",
   "execution_count": 34,
   "metadata": {
    "collapsed": true
   },
   "outputs": [],
   "source": [
    "import sys; sys.path.append(\"../src/\")\n",
    "from processing import fetch_archival_gtfs_realtime_data"
   ]
  },
  {
   "cell_type": "code",
   "execution_count": 6,
   "metadata": {
    "collapsed": true
   },
   "outputs": [],
   "source": [
    "ex1 = fetch_archival_gtfs_realtime_data(kind='gtfs', timestamp='2014-09-17-09-31')"
   ]
  },
  {
   "cell_type": "code",
   "execution_count": 9,
   "metadata": {
    "collapsed": false,
    "scrolled": false
   },
   "outputs": [
    {
     "data": {
      "text/plain": [
       "470"
      ]
     },
     "execution_count": 9,
     "metadata": {},
     "output_type": "execute_result"
    }
   ],
   "source": [
    "len(ex1.entity)"
   ]
  },
  {
   "cell_type": "code",
   "execution_count": 7,
   "metadata": {
    "collapsed": true
   },
   "outputs": [],
   "source": [
    "ex2 = fetch_archival_gtfs_realtime_data(kind='gtfs', timestamp='2014-09-17-09-36')"
   ]
  },
  {
   "cell_type": "code",
   "execution_count": 10,
   "metadata": {
    "collapsed": false
   },
   "outputs": [
    {
     "data": {
      "text/plain": [
       "454"
      ]
     },
     "execution_count": 10,
     "metadata": {},
     "output_type": "execute_result"
    }
   ],
   "source": [
    "len(ex2.entity)"
   ]
  },
  {
   "cell_type": "code",
   "execution_count": 11,
   "metadata": {
    "collapsed": true
   },
   "outputs": [],
   "source": [
    "ex3 = fetch_archival_gtfs_realtime_data(kind='gtfs', timestamp='2014-09-17-09-41')"
   ]
  },
  {
   "cell_type": "code",
   "execution_count": 12,
   "metadata": {
    "collapsed": false
   },
   "outputs": [
    {
     "data": {
      "text/plain": [
       "450"
      ]
     },
     "execution_count": 12,
     "metadata": {},
     "output_type": "execute_result"
    }
   ],
   "source": [
    "len(ex3.entity)"
   ]
  },
  {
   "cell_type": "code",
   "execution_count": 14,
   "metadata": {
    "collapsed": false
   },
   "outputs": [
    {
     "data": {
      "text/plain": [
       "'050400_1..S02R'"
      ]
     },
     "execution_count": 14,
     "metadata": {},
     "output_type": "execute_result"
    }
   ],
   "source": [
    "ex1.entity[0].trip_update.trip.trip_id"
   ]
  },
  {
   "cell_type": "code",
   "execution_count": 15,
   "metadata": {
    "collapsed": false
   },
   "outputs": [
    {
     "data": {
      "text/plain": [
       "'051600_1..S02R'"
      ]
     },
     "execution_count": 15,
     "metadata": {},
     "output_type": "execute_result"
    }
   ],
   "source": [
    "ex2.entity[0].trip_update.trip.trip_id"
   ]
  },
  {
   "cell_type": "code",
   "execution_count": 16,
   "metadata": {
    "collapsed": false
   },
   "outputs": [
    {
     "data": {
      "text/plain": [
       "'051600_1..S02R'"
      ]
     },
     "execution_count": 16,
     "metadata": {},
     "output_type": "execute_result"
    }
   ],
   "source": [
    "ex3.entity[0].trip_update.trip.trip_id"
   ]
  },
  {
   "cell_type": "markdown",
   "metadata": {},
   "source": [
    "OK, so here we see that the first entry in our three GTFS-Realtime structures are the same one trip. What can we learn by examing the raw info?"
   ]
  },
  {
   "cell_type": "code",
   "execution_count": 17,
   "metadata": {
    "collapsed": false
   },
   "outputs": [
    {
     "data": {
      "text/plain": [
       "id: \"000001\"\n",
       "trip_update {\n",
       "  trip {\n",
       "    trip_id: \"050400_1..S02R\"\n",
       "    start_date: \"20140917\"\n",
       "    route_id: \"1\"\n",
       "  }\n",
       "  stop_time_update {\n",
       "    arrival {\n",
       "      time: 1410960713\n",
       "    }\n",
       "    stop_id: \"140S\"\n",
       "  }\n",
       "}"
      ]
     },
     "execution_count": 17,
     "metadata": {},
     "output_type": "execute_result"
    }
   ],
   "source": [
    "ex1.entity[0]"
   ]
  },
  {
   "cell_type": "code",
   "execution_count": 18,
   "metadata": {
    "collapsed": false
   },
   "outputs": [
    {
     "data": {
      "text/plain": [
       "id: \"000002\"\n",
       "vehicle {\n",
       "  trip {\n",
       "    trip_id: \"050400_1..S02R\"\n",
       "    start_date: \"20140917\"\n",
       "    route_id: \"1\"\n",
       "  }\n",
       "  current_stop_sequence: 38\n",
       "  current_status: IN_TRANSIT_TO\n",
       "  timestamp: 1410960574\n",
       "  stop_id: \"140S\"\n",
       "}"
      ]
     },
     "execution_count": 18,
     "metadata": {},
     "output_type": "execute_result"
    }
   ],
   "source": [
    "ex1.entity[1]"
   ]
  },
  {
   "cell_type": "markdown",
   "metadata": {},
   "source": [
    "At time `ex1` (at timestamp 1410960574), this train is en route to station `140S`. It is planned to stop there at 1410960713. The next stop is supposed to be the last stop on this train's route."
   ]
  },
  {
   "cell_type": "code",
   "execution_count": 19,
   "metadata": {
    "collapsed": false
   },
   "outputs": [
    {
     "data": {
      "text/plain": [
       "id: \"000001\"\n",
       "trip_update {\n",
       "  trip {\n",
       "    trip_id: \"051600_1..S02R\"\n",
       "    start_date: \"20140917\"\n",
       "    route_id: \"1\"\n",
       "  }\n",
       "  stop_time_update {\n",
       "    arrival {\n",
       "      time: 1410960957\n",
       "    }\n",
       "    departure {\n",
       "      time: 1410961017\n",
       "    }\n",
       "    stop_id: \"139S\"\n",
       "  }\n",
       "  stop_time_update {\n",
       "    arrival {\n",
       "      time: 1410961167\n",
       "    }\n",
       "    stop_id: \"140S\"\n",
       "  }\n",
       "}"
      ]
     },
     "execution_count": 19,
     "metadata": {},
     "output_type": "execute_result"
    }
   ],
   "source": [
    "ex2.entity[0]"
   ]
  },
  {
   "cell_type": "code",
   "execution_count": 38,
   "metadata": {
    "collapsed": false
   },
   "outputs": [
    {
     "data": {
      "text/plain": []
     },
     "execution_count": 38,
     "metadata": {},
     "output_type": "execute_result"
    }
   ],
   "source": [
    "ex2.entity[0].trip_update.stop_time_update[1].departure"
   ]
  },
  {
   "cell_type": "code",
   "execution_count": 20,
   "metadata": {
    "collapsed": false
   },
   "outputs": [
    {
     "data": {
      "text/plain": [
       "id: \"000002\"\n",
       "vehicle {\n",
       "  trip {\n",
       "    trip_id: \"051600_1..S02R\"\n",
       "    start_date: \"20140917\"\n",
       "    route_id: \"1\"\n",
       "  }\n",
       "  current_stop_sequence: 37\n",
       "  current_status: INCOMING_AT\n",
       "  timestamp: 1410960909\n",
       "  stop_id: \"139S\"\n",
       "}"
      ]
     },
     "execution_count": 20,
     "metadata": {},
     "output_type": "execute_result"
    }
   ],
   "source": [
    "ex2.entity[1]"
   ]
  },
  {
   "cell_type": "markdown",
   "metadata": {},
   "source": [
    "Five minutes later, at time 2 (1410960909), we learn that the train was re-scheduled: probably it was made from an express to a local. Now we have one more stop, `139S`. We expect the train to stop there at 1410960957, and depart there at 1410961017. We expect it to *then* stop at `140S`, at time 1410961167."
   ]
  },
  {
   "cell_type": "code",
   "execution_count": 22,
   "metadata": {
    "collapsed": false
   },
   "outputs": [
    {
     "data": {
      "text/plain": [
       "id: \"000001\"\n",
       "trip_update {\n",
       "  trip {\n",
       "    trip_id: \"051600_1..S02R\"\n",
       "    start_date: \"20140917\"\n",
       "    route_id: \"1\"\n",
       "  }\n",
       "  stop_time_update {\n",
       "    arrival {\n",
       "      time: 1410961362\n",
       "    }\n",
       "    stop_id: \"140S\"\n",
       "  }\n",
       "}"
      ]
     },
     "execution_count": 22,
     "metadata": {},
     "output_type": "execute_result"
    }
   ],
   "source": [
    "ex3.entity[0]"
   ]
  },
  {
   "cell_type": "code",
   "execution_count": 23,
   "metadata": {
    "collapsed": false
   },
   "outputs": [
    {
     "data": {
      "text/plain": [
       "id: \"000002\"\n",
       "vehicle {\n",
       "  trip {\n",
       "    trip_id: \"051600_1..S02R\"\n",
       "    start_date: \"20140917\"\n",
       "    route_id: \"1\"\n",
       "  }\n",
       "  current_stop_sequence: 38\n",
       "  current_status: IN_TRANSIT_TO\n",
       "  timestamp: 1410961213\n",
       "  stop_id: \"140S\"\n",
       "}"
      ]
     },
     "execution_count": 23,
     "metadata": {},
     "output_type": "execute_result"
    }
   ],
   "source": [
    "ex3.entity[1]"
   ]
  },
  {
   "cell_type": "markdown",
   "metadata": {},
   "source": [
    "Five minutes later, at time 3 (1410961213), we have already stopped at station `139S`, and are currently in transit to station `140S`. We do not have any information about when the train actually stopped at `139S`. We expect to arrive at station `140S` at time 1410961362.\n",
    "\n",
    "NB: From the documentation:\n",
    "\n",
    "> This includes all future Stop Times for the trip but StopTimes from the past\n",
    "are omitted. The first StopTime in the sequence is the stop the train is\n",
    "currently approaching, stopped at or about to leave. A stop is dropped from\n",
    "the sequence when the train departs the station.\n",
    "\n",
    "This is what I was worried about. It is impossible to tell when a stop occurred except in five minute intervals, at least with the data that we have exported here.\n",
    "\n",
    "With the data that we can stream in at 30-second intervals, we will have acceptable resolution, since we will be able to isolate these stops inside of a half-minute. That's good enough.\n",
    "\n",
    "...from the documentation, with reference to the stop time update timestamp:\n",
    "\n",
    "> The motivation to include VehiclePosition is to provide the timestamp field. This is the time of the last\n",
    "detected movement of the train. This allows feed consumers to detect the situation when a train stops\n",
    "moving (aka stalled). The platform countdown clocks only count down when trains are moving\n",
    "otherwise they persist the last published arrival time for that train. If one wants to mimic this\n",
    "behavior you must first determine the absence of movement (stalled train condition) ), then the\n",
    "countdown must be stopped."
   ]
  },
  {
   "cell_type": "code",
   "execution_count": 24,
   "metadata": {
    "collapsed": true
   },
   "outputs": [],
   "source": [
    "ex4 = fetch_archival_gtfs_realtime_data(kind='gtfs', timestamp='2014-09-17-09-46')"
   ]
  },
  {
   "cell_type": "code",
   "execution_count": 25,
   "metadata": {
    "collapsed": false
   },
   "outputs": [
    {
     "data": {
      "text/plain": [
       "id: \"000001\"\n",
       "trip_update {\n",
       "  trip {\n",
       "    trip_id: \"052250_1..S02R\"\n",
       "    start_date: \"20140917\"\n",
       "    route_id: \"1\"\n",
       "  }\n",
       "  stop_time_update {\n",
       "    arrival {\n",
       "      time: 1410961501\n",
       "    }\n",
       "    stop_id: \"140S\"\n",
       "  }\n",
       "}"
      ]
     },
     "execution_count": 25,
     "metadata": {},
     "output_type": "execute_result"
    }
   ],
   "source": [
    "ex4.entity[0]"
   ]
  },
  {
   "cell_type": "code",
   "execution_count": 26,
   "metadata": {
    "collapsed": false
   },
   "outputs": [
    {
     "data": {
      "text/plain": [
       "id: \"000002\"\n",
       "vehicle {\n",
       "  trip {\n",
       "    trip_id: \"052250_1..S02R\"\n",
       "    start_date: \"20140917\"\n",
       "    route_id: \"1\"\n",
       "  }\n",
       "  current_stop_sequence: 38\n",
       "  current_status: STOPPED_AT\n",
       "  timestamp: 1410961501\n",
       "  stop_id: \"140S\"\n",
       "}"
      ]
     },
     "execution_count": 26,
     "metadata": {},
     "output_type": "execute_result"
    }
   ],
   "source": [
    "ex4.entity[1]"
   ]
  },
  {
   "cell_type": "markdown",
   "metadata": {},
   "source": [
    "Five minutes later we learn that we stopped at station `140S`, the last station on the line, at 1410961501. Per the note from above, the timestamp in vehicle movement reflects this fact, as it has the exact same timestamp. The train had been stopped at that station from that time until the time at which this data was generated."
   ]
  },
  {
   "cell_type": "markdown",
   "metadata": {},
   "source": [
    "The raw information associated with this specific update be distilled into a CSV file. `ex1` becomes:\n",
    "\n",
    "```csv\n",
    "trip_id,start_date,route_id,action,stop_id,timestamp,\n",
    "051600_1..S02R,20140917,1,IN_TRANSIT_TO,140S,1410960574,\n",
    "051600_1..S02R,20140917,1,EXPECTED_TO_ARRIVE,140S,1410960713,\n",
    "```\n",
    "\n",
    "`ex2` becomes:\n",
    "\n",
    "```csv\n",
    "trip_id,start_date,route_id,action,stop_id,timestamp,\n",
    "051600_1..S02R,20140917,1,EXPECTED_TO_ARRIVE,139S,1410960957,\n",
    "051600_1..S02R,20140917,1,EXPECTED_TO_LEAVE,139S,1410961017,\n",
    "051600_1..S02R,20140917,1,EXPECTED_TO_ARRIVE,140S,1410961167,\n",
    "```\n",
    "\n",
    "`ex3` becomes:\n",
    "\n",
    "```csv\n",
    "trip_id,start_date,route_id,action,stop_id,timestamp,\n",
    "051600_1..S02R,20140917,1,EXPECTED_TO_ARRIVE,140S,1410961362,\n",
    "```\n",
    "\n",
    "`ex4` becomes:\n",
    "\n",
    "```csv\n",
    "trip_id,start_date,route_id,action,stop_id,timestamp,\n",
    "051600_1..S02R,20140917,1,STOPPED_AT,140S,1410961501,\n",
    "```\n",
    "\n",
    "From this sequence of \"action logs\", as it were, we can reconstruct the story for our train trip. But, there are still things missing:\n",
    "\n",
    "* We don't know what the relationship between this trip and the one that was originally scheduled to happen is.\n",
    "* We don't know what happened inside of that `139S -> 140S` \"gap\". This occurs due to our 5-minute moving window. Plenty of stops can be passed over completely inside of five minutes; far fewer in 30 seconds, however. I expect that having the 30-second interval data will help a lot here, in terms of resolving timewise ambiguity. Still, this means that we will need to be able to provide an arrival/departure \"time band\".\n",
    "\n",
    "I still don't know what happens when a train ends its trip. Let's see by crunching forward some more time."
   ]
  },
  {
   "cell_type": "code",
   "execution_count": 30,
   "metadata": {
    "collapsed": true
   },
   "outputs": [],
   "source": [
    "ex_later1 = fetch_archival_gtfs_realtime_data(kind='gtfs', timestamp='2014-09-17-10-01')"
   ]
  },
  {
   "cell_type": "code",
   "execution_count": 31,
   "metadata": {
    "collapsed": false
   },
   "outputs": [
    {
     "data": {
      "text/plain": [
       "id: \"000002\"\n",
       "vehicle {\n",
       "  trip {\n",
       "    trip_id: \"053700_1..S02R\"\n",
       "    start_date: \"20140917\"\n",
       "    route_id: \"1\"\n",
       "  }\n",
       "  current_stop_sequence: 37\n",
       "  current_status: STOPPED_AT\n",
       "  timestamp: 1410962327\n",
       "  stop_id: \"139S\"\n",
       "}"
      ]
     },
     "execution_count": 31,
     "metadata": {},
     "output_type": "execute_result"
    }
   ],
   "source": [
    "ex_later1.entity[1]"
   ]
  },
  {
   "cell_type": "code",
   "execution_count": 32,
   "metadata": {
    "collapsed": true
   },
   "outputs": [],
   "source": [
    "ex_later2 = fetch_archival_gtfs_realtime_data(kind='gtfs', timestamp='2014-09-17-10-21')"
   ]
  },
  {
   "cell_type": "code",
   "execution_count": 33,
   "metadata": {
    "collapsed": false,
    "scrolled": true
   },
   "outputs": [
    {
     "data": {
      "text/plain": [
       "id: \"000002\"\n",
       "vehicle {\n",
       "  trip {\n",
       "    trip_id: \"056350_1..N\"\n",
       "    start_date: \"20140917\"\n",
       "    route_id: \"1\"\n",
       "  }\n",
       "  current_stop_sequence: 30\n",
       "  current_status: INCOMING_AT\n",
       "  timestamp: 1410963618\n",
       "  stop_id: \"106N\"\n",
       "}"
      ]
     },
     "execution_count": 33,
     "metadata": {},
     "output_type": "execute_result"
    }
   ],
   "source": [
    "ex_later2.entity[1]"
   ]
  },
  {
   "cell_type": "markdown",
   "metadata": {},
   "source": [
    "It looks like the entry will simply be stricken off the record. That makes sense. That means that we know that a trip has been cancelled, when its entry no longer appears inside of the GTFS-Realtime messages.\n",
    "\n",
    "I suspect that this northbound train is just our southbound train going the opposite direction now, as well.\n",
    "\n",
    "I see processing this as being a three-step process. First, grab the GTFS-Realtime data, and parse it into our little CSV format. Then, go through the CSVs that we have generated to rearrange the information from an update-oriented to a trip-oriented organization. Then, build TripSets out of our data.\n",
    "\n",
    "We still need to test using this archival data, so we'll also want to program in some understanding of the time bands we are working with.\n",
    "\n",
    "The limitations of the time band are akin to computing the position function of a moving particle over time, knowing only its velocity and heading. This is easy enough to do using integral calculus, but then, what if you only know the position of that particle at certain times? In between you have a band of possible actions, and you can't say for sure where or what it was doing anywhere in that band.\n",
    "\n",
    "In our case, this is going to make it difficult to pick up when a train skips a local stop, I suspect.<!-- This is a fascinating limitation of the format that I think we're actually familiar with from the electronic boards; longtime commuters will know that the arrival boards will display \"Arriving Now\" for trains that are actually skipping a local stop, and not update to show the next arrival time until the train skipping the stop has passed it by. -->\n",
    "\n",
    "Trains that make local stops, as above, should be easier to pick up. But then, you can't be too sure."
   ]
  }
 ],
 "metadata": {
  "kernelspec": {
   "display_name": "Python 3",
   "language": "python",
   "name": "python3"
  },
  "language_info": {
   "codemirror_mode": {
    "name": "ipython",
    "version": 3
   },
   "file_extension": ".py",
   "mimetype": "text/x-python",
   "name": "python",
   "nbconvert_exporter": "python",
   "pygments_lexer": "ipython3",
   "version": "3.4.5"
  }
 },
 "nbformat": 4,
 "nbformat_minor": 2
}
