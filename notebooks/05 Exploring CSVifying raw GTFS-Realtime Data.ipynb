{
 "cells": [
  {
   "cell_type": "markdown",
   "metadata": {},
   "source": [
    "# About\n",
    "\n",
    "Let's work through the first of the three steps mentioned in 04."
   ]
  },
  {
   "cell_type": "code",
   "execution_count": 2,
   "metadata": {
    "collapsed": false
   },
   "outputs": [],
   "source": [
    "import sys; sys.path.append(\"../src/\")\n",
    "from processing import fetch_archival_gtfs_realtime_data, parse_gtfs_into_action_log"
   ]
  },
  {
   "cell_type": "code",
   "execution_count": 4,
   "metadata": {
    "collapsed": true
   },
   "outputs": [],
   "source": [
    "%load_ext autoreload\n",
    "%autoreload 2"
   ]
  },
  {
   "cell_type": "code",
   "execution_count": 5,
   "metadata": {
    "collapsed": false
   },
   "outputs": [
    {
     "name": "stdout",
     "output_type": "stream",
     "text": [
      "1\n",
      "6\n",
      "11\n",
      "16\n",
      "21\n",
      "26\n",
      "31\n",
      "36\n",
      "41\n",
      "46\n",
      "51\n",
      "56\n",
      "Done!\n"
     ]
    }
   ],
   "source": [
    "gtfs_r = dict()\n",
    "\n",
    "for n in range(0, 60, 5):\n",
    "    print(n + 1)\n",
    "    gtfs_r[n] = fetch_archival_gtfs_realtime_data(kind='gtfs', timestamp='2014-09-18-09-' + str(1 + n).zfill(2))\n",
    "    \n",
    "print(\"Done!\")"
   ]
  },
  {
   "cell_type": "code",
   "execution_count": 6,
   "metadata": {
    "collapsed": false,
    "scrolled": false
   },
   "outputs": [],
   "source": [
    "action_log = parse_gtfs_into_action_log(gtfs_r[0])"
   ]
  },
  {
   "cell_type": "code",
   "execution_count": 14,
   "metadata": {
    "collapsed": false
   },
   "outputs": [
    {
     "data": {
      "text/plain": [
       "11763"
      ]
     },
     "execution_count": 14,
     "metadata": {},
     "output_type": "execute_result"
    }
   ],
   "source": [
    "len(action_log)"
   ]
  },
  {
   "cell_type": "code",
   "execution_count": 15,
   "metadata": {
    "collapsed": false
   },
   "outputs": [
    {
     "data": {
      "text/html": [
       "<div>\n",
       "<table border=\"1\" class=\"dataframe\">\n",
       "  <thead>\n",
       "    <tr style=\"text-align: right;\">\n",
       "      <th></th>\n",
       "      <th>trip_id</th>\n",
       "      <th>start_date</th>\n",
       "      <th>route_id</th>\n",
       "      <th>action</th>\n",
       "      <th>stop_id</th>\n",
       "      <th>timestamp</th>\n",
       "    </tr>\n",
       "  </thead>\n",
       "  <tbody>\n",
       "    <tr>\n",
       "      <th>0</th>\n",
       "      <td>047600_1..S02R</td>\n",
       "      <td>20140918</td>\n",
       "      <td>1</td>\n",
       "      <td>EXPECTED_TO_ARRIVE_AT</td>\n",
       "      <td>138S</td>\n",
       "      <td>1.411045e+09</td>\n",
       "    </tr>\n",
       "    <tr>\n",
       "      <th>1</th>\n",
       "      <td>047600_1..S02R</td>\n",
       "      <td>20140918</td>\n",
       "      <td>1</td>\n",
       "      <td>EXPECTED_TO_DEPART_AT</td>\n",
       "      <td>138S</td>\n",
       "      <td>1.411045e+09</td>\n",
       "    </tr>\n",
       "    <tr>\n",
       "      <th>2</th>\n",
       "      <td>047600_1..S02R</td>\n",
       "      <td>20140918</td>\n",
       "      <td>1</td>\n",
       "      <td>EXPECTED_TO_ARRIVE_AT</td>\n",
       "      <td>139S</td>\n",
       "      <td>1.411045e+09</td>\n",
       "    </tr>\n",
       "    <tr>\n",
       "      <th>3</th>\n",
       "      <td>047600_1..S02R</td>\n",
       "      <td>20140918</td>\n",
       "      <td>1</td>\n",
       "      <td>EXPECTED_TO_DEPART_AT</td>\n",
       "      <td>139S</td>\n",
       "      <td>1.411045e+09</td>\n",
       "    </tr>\n",
       "    <tr>\n",
       "      <th>4</th>\n",
       "      <td>047600_1..S02R</td>\n",
       "      <td>20140918</td>\n",
       "      <td>1</td>\n",
       "      <td>EXPECTED_TO_SKIP</td>\n",
       "      <td>140S</td>\n",
       "      <td>1.411045e+09</td>\n",
       "    </tr>\n",
       "  </tbody>\n",
       "</table>\n",
       "</div>"
      ],
      "text/plain": [
       "          trip_id start_date route_id                 action stop_id  \\\n",
       "0  047600_1..S02R   20140918        1  EXPECTED_TO_ARRIVE_AT    138S   \n",
       "1  047600_1..S02R   20140918        1  EXPECTED_TO_DEPART_AT    138S   \n",
       "2  047600_1..S02R   20140918        1  EXPECTED_TO_ARRIVE_AT    139S   \n",
       "3  047600_1..S02R   20140918        1  EXPECTED_TO_DEPART_AT    139S   \n",
       "4  047600_1..S02R   20140918        1       EXPECTED_TO_SKIP    140S   \n",
       "\n",
       "      timestamp  \n",
       "0  1.411045e+09  \n",
       "1  1.411045e+09  \n",
       "2  1.411045e+09  \n",
       "3  1.411045e+09  \n",
       "4  1.411045e+09  "
      ]
     },
     "execution_count": 15,
     "metadata": {},
     "output_type": "execute_result"
    }
   ],
   "source": [
    "action_log.head()"
   ]
  },
  {
   "cell_type": "code",
   "execution_count": 20,
   "metadata": {
    "collapsed": false
   },
   "outputs": [
    {
     "data": {
      "text/plain": [
       "EXPECTED_TO_DEPART_AT    5792\n",
       "EXPECTED_TO_ARRIVE_AT    5792\n",
       "EXPECTED_TO_SKIP          179\n",
       "Name: action, dtype: int64"
      ]
     },
     "execution_count": 20,
     "metadata": {},
     "output_type": "execute_result"
    }
   ],
   "source": [
    "action_log['action'].value_counts()"
   ]
  },
  {
   "cell_type": "code",
   "execution_count": 22,
   "metadata": {
    "collapsed": false
   },
   "outputs": [
    {
     "data": {
      "text/plain": [
       "id: \"000002\"\n",
       "vehicle {\n",
       "  trip {\n",
       "    trip_id: \"047600_1..S02R\"\n",
       "    start_date: \"20140918\"\n",
       "    route_id: \"1\"\n",
       "  }\n",
       "  current_stop_sequence: 35\n",
       "  current_status: STOPPED_AT\n",
       "  timestamp: 1411044718\n",
       "  stop_id: \"137S\"\n",
       "}"
      ]
     },
     "execution_count": 22,
     "metadata": {},
     "output_type": "execute_result"
    }
   ],
   "source": [
    "gtfs_r[0].entity[1]"
   ]
  },
  {
   "cell_type": "code",
   "execution_count": null,
   "metadata": {
    "collapsed": true
   },
   "outputs": [],
   "source": [
    "ex1 = fetch_archival_gtfs_realtime_data(kind='gtfs', timestamp='2014-09-17-09-31')"
   ]
  }
 ],
 "metadata": {
  "kernelspec": {
   "display_name": "Python 3",
   "language": "python",
   "name": "python3"
  }
 },
 "nbformat": 4,
 "nbformat_minor": 2
}
