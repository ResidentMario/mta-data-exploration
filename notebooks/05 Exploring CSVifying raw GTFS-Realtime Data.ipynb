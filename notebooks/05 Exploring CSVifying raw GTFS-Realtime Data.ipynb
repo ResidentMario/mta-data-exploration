{
 "cells": [
  {
   "cell_type": "markdown",
   "metadata": {},
   "source": [
    "# About\n",
    "\n",
    "Let's work through the first of the three steps mentioned in 04."
   ]
  },
  {
   "cell_type": "code",
   "execution_count": 3,
   "metadata": {
    "collapsed": false
   },
   "outputs": [],
   "source": [
    "import sys; sys.path.append(\"../src/\")\n",
    "from processing import fetch_archival_gtfs_realtime_data, parse_gtfs_into_action_log"
   ]
  },
  {
   "cell_type": "code",
   "execution_count": 4,
   "metadata": {
    "collapsed": true
   },
   "outputs": [],
   "source": [
    "%load_ext autoreload\n",
    "%autoreload 2"
   ]
  },
  {
   "cell_type": "code",
   "execution_count": 5,
   "metadata": {
    "collapsed": false
   },
   "outputs": [
    {
     "name": "stdout",
     "output_type": "stream",
     "text": [
      "1\n",
      "6\n",
      "11\n",
      "16\n",
      "21\n",
      "26\n",
      "31\n",
      "36\n",
      "41\n",
      "46\n",
      "51\n",
      "56\n",
      "Done!\n"
     ]
    }
   ],
   "source": [
    "gtfs_r = dict()\n",
    "\n",
    "for n in range(0, 60, 5):\n",
    "    print(n + 1)\n",
    "    gtfs_r[n] = fetch_archival_gtfs_realtime_data(kind='gtfs', timestamp='2014-09-18-09-' + str(1 + n).zfill(2))\n",
    "    \n",
    "print(\"Done!\")"
   ]
  },
  {
   "cell_type": "code",
   "execution_count": 6,
   "metadata": {
    "collapsed": false
   },
   "outputs": [],
   "source": [
    "from processing import fetch_archival_gtfs_realtime_data, parse_gtfs_into_action_log"
   ]
  },
  {
   "cell_type": "code",
   "execution_count": 7,
   "metadata": {
    "collapsed": false,
    "scrolled": false
   },
   "outputs": [],
   "source": [
    "action_log = parse_gtfs_into_action_log(gtfs_r[0])"
   ]
  },
  {
   "cell_type": "code",
   "execution_count": 8,
   "metadata": {
    "collapsed": false
   },
   "outputs": [
    {
     "data": {
      "text/plain": [
       "12045"
      ]
     },
     "execution_count": 8,
     "metadata": {},
     "output_type": "execute_result"
    }
   ],
   "source": [
    "len(action_log)"
   ]
  },
  {
   "cell_type": "code",
   "execution_count": 15,
   "metadata": {
    "collapsed": false
   },
   "outputs": [
    {
     "data": {
      "text/html": [
       "<div>\n",
       "<table border=\"1\" class=\"dataframe\">\n",
       "  <thead>\n",
       "    <tr style=\"text-align: right;\">\n",
       "      <th></th>\n",
       "      <th>trip_id</th>\n",
       "      <th>start_date</th>\n",
       "      <th>route_id</th>\n",
       "      <th>action</th>\n",
       "      <th>stop_id</th>\n",
       "      <th>timestamp</th>\n",
       "    </tr>\n",
       "  </thead>\n",
       "  <tbody>\n",
       "    <tr>\n",
       "      <th>0</th>\n",
       "      <td>047600_1..S02R</td>\n",
       "      <td>20140918</td>\n",
       "      <td>1</td>\n",
       "      <td>EXPECTED_TO_ARRIVE_AT</td>\n",
       "      <td>138S</td>\n",
       "      <td>1.411045e+09</td>\n",
       "    </tr>\n",
       "    <tr>\n",
       "      <th>1</th>\n",
       "      <td>047600_1..S02R</td>\n",
       "      <td>20140918</td>\n",
       "      <td>1</td>\n",
       "      <td>EXPECTED_TO_DEPART_AT</td>\n",
       "      <td>138S</td>\n",
       "      <td>1.411045e+09</td>\n",
       "    </tr>\n",
       "    <tr>\n",
       "      <th>2</th>\n",
       "      <td>047600_1..S02R</td>\n",
       "      <td>20140918</td>\n",
       "      <td>1</td>\n",
       "      <td>EXPECTED_TO_ARRIVE_AT</td>\n",
       "      <td>139S</td>\n",
       "      <td>1.411045e+09</td>\n",
       "    </tr>\n",
       "    <tr>\n",
       "      <th>3</th>\n",
       "      <td>047600_1..S02R</td>\n",
       "      <td>20140918</td>\n",
       "      <td>1</td>\n",
       "      <td>EXPECTED_TO_DEPART_AT</td>\n",
       "      <td>139S</td>\n",
       "      <td>1.411045e+09</td>\n",
       "    </tr>\n",
       "    <tr>\n",
       "      <th>4</th>\n",
       "      <td>047600_1..S02R</td>\n",
       "      <td>20140918</td>\n",
       "      <td>1</td>\n",
       "      <td>EXPECTED_TO_SKIP</td>\n",
       "      <td>140S</td>\n",
       "      <td>1.411045e+09</td>\n",
       "    </tr>\n",
       "  </tbody>\n",
       "</table>\n",
       "</div>"
      ],
      "text/plain": [
       "          trip_id start_date route_id                 action stop_id  \\\n",
       "0  047600_1..S02R   20140918        1  EXPECTED_TO_ARRIVE_AT    138S   \n",
       "1  047600_1..S02R   20140918        1  EXPECTED_TO_DEPART_AT    138S   \n",
       "2  047600_1..S02R   20140918        1  EXPECTED_TO_ARRIVE_AT    139S   \n",
       "3  047600_1..S02R   20140918        1  EXPECTED_TO_DEPART_AT    139S   \n",
       "4  047600_1..S02R   20140918        1       EXPECTED_TO_SKIP    140S   \n",
       "\n",
       "      timestamp  \n",
       "0  1.411045e+09  \n",
       "1  1.411045e+09  \n",
       "2  1.411045e+09  \n",
       "3  1.411045e+09  \n",
       "4  1.411045e+09  "
      ]
     },
     "execution_count": 15,
     "metadata": {},
     "output_type": "execute_result"
    }
   ],
   "source": [
    "action_log.head()"
   ]
  },
  {
   "cell_type": "code",
   "execution_count": 20,
   "metadata": {
    "collapsed": false
   },
   "outputs": [
    {
     "data": {
      "text/plain": [
       "EXPECTED_TO_DEPART_AT    5792\n",
       "EXPECTED_TO_ARRIVE_AT    5792\n",
       "EXPECTED_TO_SKIP          179\n",
       "Name: action, dtype: int64"
      ]
     },
     "execution_count": 20,
     "metadata": {},
     "output_type": "execute_result"
    }
   ],
   "source": [
    "action_log['action'].value_counts()"
   ]
  },
  {
   "cell_type": "code",
   "execution_count": 9,
   "metadata": {
    "collapsed": false
   },
   "outputs": [
    {
     "data": {
      "text/plain": [
       "EXPECTED_TO_ARRIVE_AT    6072\n",
       "EXPECTED_TO_DEPART_AT    5886\n",
       "STOPPED_AT                 85\n",
       "EXPECTED_TO_SKIP            2\n",
       "Name: action, dtype: int64"
      ]
     },
     "execution_count": 9,
     "metadata": {},
     "output_type": "execute_result"
    }
   ],
   "source": [
    "action_log['action'].value_counts()"
   ]
  },
  {
   "cell_type": "code",
   "execution_count": 89,
   "metadata": {
    "collapsed": true
   },
   "outputs": [],
   "source": [
    "from processing import parse_message_into_action_log"
   ]
  },
  {
   "cell_type": "code",
   "execution_count": 98,
   "metadata": {
    "collapsed": false,
    "scrolled": false
   },
   "outputs": [
    {
     "data": {
      "text/html": [
       "<div>\n",
       "<table border=\"1\" class=\"dataframe\">\n",
       "  <thead>\n",
       "    <tr style=\"text-align: right;\">\n",
       "      <th></th>\n",
       "      <th>trip_id</th>\n",
       "      <th>route_id</th>\n",
       "      <th>action</th>\n",
       "      <th>stop_id</th>\n",
       "      <th>timestamp</th>\n",
       "    </tr>\n",
       "  </thead>\n",
       "  <tbody>\n",
       "    <tr>\n",
       "      <th>0</th>\n",
       "      <td>047600_1..S02R</td>\n",
       "      <td>1</td>\n",
       "      <td>ARRIVED_AT</td>\n",
       "      <td>137S</td>\n",
       "      <td>1.411045e+09</td>\n",
       "    </tr>\n",
       "    <tr>\n",
       "      <th>1</th>\n",
       "      <td>047600_1..S02R</td>\n",
       "      <td>1</td>\n",
       "      <td>EXPECTED_TO_ARRIVE_AT</td>\n",
       "      <td>138S</td>\n",
       "      <td>1.411045e+09</td>\n",
       "    </tr>\n",
       "    <tr>\n",
       "      <th>2</th>\n",
       "      <td>047600_1..S02R</td>\n",
       "      <td>1</td>\n",
       "      <td>EXPECTED_TO_DEPART_AT</td>\n",
       "      <td>138S</td>\n",
       "      <td>1.411045e+09</td>\n",
       "    </tr>\n",
       "    <tr>\n",
       "      <th>3</th>\n",
       "      <td>047600_1..S02R</td>\n",
       "      <td>1</td>\n",
       "      <td>EXPECTED_TO_ARRIVE_AT</td>\n",
       "      <td>139S</td>\n",
       "      <td>1.411045e+09</td>\n",
       "    </tr>\n",
       "    <tr>\n",
       "      <th>4</th>\n",
       "      <td>047600_1..S02R</td>\n",
       "      <td>1</td>\n",
       "      <td>EXPECTED_TO_DEPART_AT</td>\n",
       "      <td>139S</td>\n",
       "      <td>1.411045e+09</td>\n",
       "    </tr>\n",
       "    <tr>\n",
       "      <th>5</th>\n",
       "      <td>047600_1..S02R</td>\n",
       "      <td>1</td>\n",
       "      <td>EXPECTED_TO_END_AT</td>\n",
       "      <td>140S</td>\n",
       "      <td>1.411045e+09</td>\n",
       "    </tr>\n",
       "  </tbody>\n",
       "</table>\n",
       "</div>"
      ],
      "text/plain": [
       "          trip_id route_id                 action stop_id     timestamp\n",
       "0  047600_1..S02R        1             ARRIVED_AT    137S  1.411045e+09\n",
       "1  047600_1..S02R        1  EXPECTED_TO_ARRIVE_AT    138S  1.411045e+09\n",
       "2  047600_1..S02R        1  EXPECTED_TO_DEPART_AT    138S  1.411045e+09\n",
       "3  047600_1..S02R        1  EXPECTED_TO_ARRIVE_AT    139S  1.411045e+09\n",
       "4  047600_1..S02R        1  EXPECTED_TO_DEPART_AT    139S  1.411045e+09\n",
       "5  047600_1..S02R        1     EXPECTED_TO_END_AT    140S  1.411045e+09"
      ]
     },
     "execution_count": 98,
     "metadata": {},
     "output_type": "execute_result"
    }
   ],
   "source": [
    "parse_message_into_action_log(gtfs_r[0].entity[0], gtfs_r[0].entity[1])"
   ]
  },
  {
   "cell_type": "code",
   "execution_count": 99,
   "metadata": {
    "collapsed": false,
    "scrolled": false
   },
   "outputs": [
    {
     "data": {
      "text/html": [
       "<div>\n",
       "<table border=\"1\" class=\"dataframe\">\n",
       "  <thead>\n",
       "    <tr style=\"text-align: right;\">\n",
       "      <th></th>\n",
       "      <th>trip_id</th>\n",
       "      <th>route_id</th>\n",
       "      <th>action</th>\n",
       "      <th>stop_id</th>\n",
       "      <th>timestamp</th>\n",
       "    </tr>\n",
       "  </thead>\n",
       "  <tbody>\n",
       "    <tr>\n",
       "      <th>0</th>\n",
       "      <td>048150_1..S07R</td>\n",
       "      <td>1</td>\n",
       "      <td>ARRIVED_AT</td>\n",
       "      <td>136S</td>\n",
       "      <td>1.411045e+09</td>\n",
       "    </tr>\n",
       "    <tr>\n",
       "      <th>1</th>\n",
       "      <td>048150_1..S07R</td>\n",
       "      <td>1</td>\n",
       "      <td>EXPECTED_TO_ARRIVE_AT</td>\n",
       "      <td>137S</td>\n",
       "      <td>1.411045e+09</td>\n",
       "    </tr>\n",
       "    <tr>\n",
       "      <th>2</th>\n",
       "      <td>048150_1..S07R</td>\n",
       "      <td>1</td>\n",
       "      <td>EXPECTED_TO_DEPART_AT</td>\n",
       "      <td>137S</td>\n",
       "      <td>1.411045e+09</td>\n",
       "    </tr>\n",
       "    <tr>\n",
       "      <th>3</th>\n",
       "      <td>048150_1..S07R</td>\n",
       "      <td>1</td>\n",
       "      <td>EXPECTED_TO_ARRIVE_AT</td>\n",
       "      <td>138S</td>\n",
       "      <td>1.411045e+09</td>\n",
       "    </tr>\n",
       "    <tr>\n",
       "      <th>4</th>\n",
       "      <td>048150_1..S07R</td>\n",
       "      <td>1</td>\n",
       "      <td>EXPECTED_TO_DEPART_AT</td>\n",
       "      <td>138S</td>\n",
       "      <td>1.411045e+09</td>\n",
       "    </tr>\n",
       "    <tr>\n",
       "      <th>5</th>\n",
       "      <td>048150_1..S07R</td>\n",
       "      <td>1</td>\n",
       "      <td>EXPECTED_TO_ARRIVE_AT</td>\n",
       "      <td>139S</td>\n",
       "      <td>1.411045e+09</td>\n",
       "    </tr>\n",
       "    <tr>\n",
       "      <th>6</th>\n",
       "      <td>048150_1..S07R</td>\n",
       "      <td>1</td>\n",
       "      <td>EXPECTED_TO_DEPART_AT</td>\n",
       "      <td>139S</td>\n",
       "      <td>1.411045e+09</td>\n",
       "    </tr>\n",
       "    <tr>\n",
       "      <th>7</th>\n",
       "      <td>048150_1..S07R</td>\n",
       "      <td>1</td>\n",
       "      <td>EXPECTED_TO_END_AT</td>\n",
       "      <td>140S</td>\n",
       "      <td>1.411045e+09</td>\n",
       "    </tr>\n",
       "  </tbody>\n",
       "</table>\n",
       "</div>"
      ],
      "text/plain": [
       "          trip_id route_id                 action stop_id     timestamp\n",
       "0  048150_1..S07R        1             ARRIVED_AT    136S  1.411045e+09\n",
       "1  048150_1..S07R        1  EXPECTED_TO_ARRIVE_AT    137S  1.411045e+09\n",
       "2  048150_1..S07R        1  EXPECTED_TO_DEPART_AT    137S  1.411045e+09\n",
       "3  048150_1..S07R        1  EXPECTED_TO_ARRIVE_AT    138S  1.411045e+09\n",
       "4  048150_1..S07R        1  EXPECTED_TO_DEPART_AT    138S  1.411045e+09\n",
       "5  048150_1..S07R        1  EXPECTED_TO_ARRIVE_AT    139S  1.411045e+09\n",
       "6  048150_1..S07R        1  EXPECTED_TO_DEPART_AT    139S  1.411045e+09\n",
       "7  048150_1..S07R        1     EXPECTED_TO_END_AT    140S  1.411045e+09"
      ]
     },
     "execution_count": 99,
     "metadata": {},
     "output_type": "execute_result"
    }
   ],
   "source": [
    "parse_message_into_action_log(gtfs_r[0].entity[2], gtfs_r[0].entity[3])"
   ]
  },
  {
   "cell_type": "code",
   "execution_count": 100,
   "metadata": {
    "collapsed": false
   },
   "outputs": [
    {
     "data": {
      "text/html": [
       "<div>\n",
       "<table border=\"1\" class=\"dataframe\">\n",
       "  <thead>\n",
       "    <tr style=\"text-align: right;\">\n",
       "      <th></th>\n",
       "      <th>trip_id</th>\n",
       "      <th>route_id</th>\n",
       "      <th>action</th>\n",
       "      <th>stop_id</th>\n",
       "      <th>timestamp</th>\n",
       "    </tr>\n",
       "  </thead>\n",
       "  <tbody>\n",
       "    <tr>\n",
       "      <th>0</th>\n",
       "      <td>048400_1..S02R</td>\n",
       "      <td>1</td>\n",
       "      <td>ARRIVED_AT</td>\n",
       "      <td>135S</td>\n",
       "      <td>1.411045e+09</td>\n",
       "    </tr>\n",
       "    <tr>\n",
       "      <th>1</th>\n",
       "      <td>048400_1..S02R</td>\n",
       "      <td>1</td>\n",
       "      <td>EXPECTED_TO_ARRIVE_AT</td>\n",
       "      <td>136S</td>\n",
       "      <td>1.411045e+09</td>\n",
       "    </tr>\n",
       "    <tr>\n",
       "      <th>2</th>\n",
       "      <td>048400_1..S02R</td>\n",
       "      <td>1</td>\n",
       "      <td>EXPECTED_TO_DEPART_AT</td>\n",
       "      <td>136S</td>\n",
       "      <td>1.411045e+09</td>\n",
       "    </tr>\n",
       "    <tr>\n",
       "      <th>3</th>\n",
       "      <td>048400_1..S02R</td>\n",
       "      <td>1</td>\n",
       "      <td>EXPECTED_TO_ARRIVE_AT</td>\n",
       "      <td>137S</td>\n",
       "      <td>1.411045e+09</td>\n",
       "    </tr>\n",
       "    <tr>\n",
       "      <th>4</th>\n",
       "      <td>048400_1..S02R</td>\n",
       "      <td>1</td>\n",
       "      <td>EXPECTED_TO_DEPART_AT</td>\n",
       "      <td>137S</td>\n",
       "      <td>1.411045e+09</td>\n",
       "    </tr>\n",
       "    <tr>\n",
       "      <th>5</th>\n",
       "      <td>048400_1..S02R</td>\n",
       "      <td>1</td>\n",
       "      <td>EXPECTED_TO_ARRIVE_AT</td>\n",
       "      <td>138S</td>\n",
       "      <td>1.411045e+09</td>\n",
       "    </tr>\n",
       "    <tr>\n",
       "      <th>6</th>\n",
       "      <td>048400_1..S02R</td>\n",
       "      <td>1</td>\n",
       "      <td>EXPECTED_TO_DEPART_AT</td>\n",
       "      <td>138S</td>\n",
       "      <td>1.411045e+09</td>\n",
       "    </tr>\n",
       "    <tr>\n",
       "      <th>7</th>\n",
       "      <td>048400_1..S02R</td>\n",
       "      <td>1</td>\n",
       "      <td>EXPECTED_TO_ARRIVE_AT</td>\n",
       "      <td>139S</td>\n",
       "      <td>1.411045e+09</td>\n",
       "    </tr>\n",
       "    <tr>\n",
       "      <th>8</th>\n",
       "      <td>048400_1..S02R</td>\n",
       "      <td>1</td>\n",
       "      <td>EXPECTED_TO_DEPART_AT</td>\n",
       "      <td>139S</td>\n",
       "      <td>1.411045e+09</td>\n",
       "    </tr>\n",
       "    <tr>\n",
       "      <th>9</th>\n",
       "      <td>048400_1..S02R</td>\n",
       "      <td>1</td>\n",
       "      <td>EXPECTED_TO_END_AT</td>\n",
       "      <td>140S</td>\n",
       "      <td>1.411046e+09</td>\n",
       "    </tr>\n",
       "  </tbody>\n",
       "</table>\n",
       "</div>"
      ],
      "text/plain": [
       "          trip_id route_id                 action stop_id     timestamp\n",
       "0  048400_1..S02R        1             ARRIVED_AT    135S  1.411045e+09\n",
       "1  048400_1..S02R        1  EXPECTED_TO_ARRIVE_AT    136S  1.411045e+09\n",
       "2  048400_1..S02R        1  EXPECTED_TO_DEPART_AT    136S  1.411045e+09\n",
       "3  048400_1..S02R        1  EXPECTED_TO_ARRIVE_AT    137S  1.411045e+09\n",
       "4  048400_1..S02R        1  EXPECTED_TO_DEPART_AT    137S  1.411045e+09\n",
       "5  048400_1..S02R        1  EXPECTED_TO_ARRIVE_AT    138S  1.411045e+09\n",
       "6  048400_1..S02R        1  EXPECTED_TO_DEPART_AT    138S  1.411045e+09\n",
       "7  048400_1..S02R        1  EXPECTED_TO_ARRIVE_AT    139S  1.411045e+09\n",
       "8  048400_1..S02R        1  EXPECTED_TO_DEPART_AT    139S  1.411045e+09\n",
       "9  048400_1..S02R        1     EXPECTED_TO_END_AT    140S  1.411046e+09"
      ]
     },
     "execution_count": 100,
     "metadata": {},
     "output_type": "execute_result"
    }
   ],
   "source": [
    "parse_message_into_action_log(gtfs_r[0].entity[4], gtfs_r[0].entity[5])"
   ]
  },
  {
   "cell_type": "code",
   "execution_count": 101,
   "metadata": {
    "collapsed": false
   },
   "outputs": [
    {
     "data": {
      "text/html": [
       "<div>\n",
       "<table border=\"1\" class=\"dataframe\">\n",
       "  <thead>\n",
       "    <tr style=\"text-align: right;\">\n",
       "      <th></th>\n",
       "      <th>trip_id</th>\n",
       "      <th>route_id</th>\n",
       "      <th>action</th>\n",
       "      <th>stop_id</th>\n",
       "      <th>timestamp</th>\n",
       "    </tr>\n",
       "  </thead>\n",
       "  <tbody>\n",
       "    <tr>\n",
       "      <th>0</th>\n",
       "      <td>048600_1..S02R</td>\n",
       "      <td>1</td>\n",
       "      <td>ARRIVED_AT</td>\n",
       "      <td>134S</td>\n",
       "      <td>1.411045e+09</td>\n",
       "    </tr>\n",
       "    <tr>\n",
       "      <th>1</th>\n",
       "      <td>048600_1..S02R</td>\n",
       "      <td>1</td>\n",
       "      <td>EXPECTED_TO_ARRIVE_AT</td>\n",
       "      <td>135S</td>\n",
       "      <td>1.411045e+09</td>\n",
       "    </tr>\n",
       "    <tr>\n",
       "      <th>2</th>\n",
       "      <td>048600_1..S02R</td>\n",
       "      <td>1</td>\n",
       "      <td>EXPECTED_TO_DEPART_AT</td>\n",
       "      <td>135S</td>\n",
       "      <td>1.411045e+09</td>\n",
       "    </tr>\n",
       "    <tr>\n",
       "      <th>3</th>\n",
       "      <td>048600_1..S02R</td>\n",
       "      <td>1</td>\n",
       "      <td>EXPECTED_TO_ARRIVE_AT</td>\n",
       "      <td>136S</td>\n",
       "      <td>1.411045e+09</td>\n",
       "    </tr>\n",
       "    <tr>\n",
       "      <th>4</th>\n",
       "      <td>048600_1..S02R</td>\n",
       "      <td>1</td>\n",
       "      <td>EXPECTED_TO_DEPART_AT</td>\n",
       "      <td>136S</td>\n",
       "      <td>1.411045e+09</td>\n",
       "    </tr>\n",
       "    <tr>\n",
       "      <th>5</th>\n",
       "      <td>048600_1..S02R</td>\n",
       "      <td>1</td>\n",
       "      <td>EXPECTED_TO_ARRIVE_AT</td>\n",
       "      <td>137S</td>\n",
       "      <td>1.411045e+09</td>\n",
       "    </tr>\n",
       "    <tr>\n",
       "      <th>6</th>\n",
       "      <td>048600_1..S02R</td>\n",
       "      <td>1</td>\n",
       "      <td>EXPECTED_TO_DEPART_AT</td>\n",
       "      <td>137S</td>\n",
       "      <td>1.411045e+09</td>\n",
       "    </tr>\n",
       "    <tr>\n",
       "      <th>7</th>\n",
       "      <td>048600_1..S02R</td>\n",
       "      <td>1</td>\n",
       "      <td>EXPECTED_TO_ARRIVE_AT</td>\n",
       "      <td>138S</td>\n",
       "      <td>1.411045e+09</td>\n",
       "    </tr>\n",
       "    <tr>\n",
       "      <th>8</th>\n",
       "      <td>048600_1..S02R</td>\n",
       "      <td>1</td>\n",
       "      <td>EXPECTED_TO_DEPART_AT</td>\n",
       "      <td>138S</td>\n",
       "      <td>1.411045e+09</td>\n",
       "    </tr>\n",
       "    <tr>\n",
       "      <th>9</th>\n",
       "      <td>048600_1..S02R</td>\n",
       "      <td>1</td>\n",
       "      <td>EXPECTED_TO_ARRIVE_AT</td>\n",
       "      <td>139S</td>\n",
       "      <td>1.411045e+09</td>\n",
       "    </tr>\n",
       "    <tr>\n",
       "      <th>10</th>\n",
       "      <td>048600_1..S02R</td>\n",
       "      <td>1</td>\n",
       "      <td>EXPECTED_TO_DEPART_AT</td>\n",
       "      <td>139S</td>\n",
       "      <td>1.411046e+09</td>\n",
       "    </tr>\n",
       "    <tr>\n",
       "      <th>11</th>\n",
       "      <td>048600_1..S02R</td>\n",
       "      <td>1</td>\n",
       "      <td>EXPECTED_TO_END_AT</td>\n",
       "      <td>140S</td>\n",
       "      <td>1.411046e+09</td>\n",
       "    </tr>\n",
       "  </tbody>\n",
       "</table>\n",
       "</div>"
      ],
      "text/plain": [
       "           trip_id route_id                 action stop_id     timestamp\n",
       "0   048600_1..S02R        1             ARRIVED_AT    134S  1.411045e+09\n",
       "1   048600_1..S02R        1  EXPECTED_TO_ARRIVE_AT    135S  1.411045e+09\n",
       "2   048600_1..S02R        1  EXPECTED_TO_DEPART_AT    135S  1.411045e+09\n",
       "3   048600_1..S02R        1  EXPECTED_TO_ARRIVE_AT    136S  1.411045e+09\n",
       "4   048600_1..S02R        1  EXPECTED_TO_DEPART_AT    136S  1.411045e+09\n",
       "5   048600_1..S02R        1  EXPECTED_TO_ARRIVE_AT    137S  1.411045e+09\n",
       "6   048600_1..S02R        1  EXPECTED_TO_DEPART_AT    137S  1.411045e+09\n",
       "7   048600_1..S02R        1  EXPECTED_TO_ARRIVE_AT    138S  1.411045e+09\n",
       "8   048600_1..S02R        1  EXPECTED_TO_DEPART_AT    138S  1.411045e+09\n",
       "9   048600_1..S02R        1  EXPECTED_TO_ARRIVE_AT    139S  1.411045e+09\n",
       "10  048600_1..S02R        1  EXPECTED_TO_DEPART_AT    139S  1.411046e+09\n",
       "11  048600_1..S02R        1     EXPECTED_TO_END_AT    140S  1.411046e+09"
      ]
     },
     "execution_count": 101,
     "metadata": {},
     "output_type": "execute_result"
    }
   ],
   "source": [
    "parse_message_into_action_log(gtfs_r[0].entity[6], gtfs_r[0].entity[7])"
   ]
  },
  {
   "cell_type": "code",
   "execution_count": 77,
   "metadata": {
    "collapsed": false
   },
   "outputs": [
    {
     "data": {
      "text/plain": [
       "id: \"000002\"\n",
       "vehicle {\n",
       "  trip {\n",
       "    trip_id: \"047600_1..S02R\"\n",
       "    start_date: \"20140918\"\n",
       "    route_id: \"1\"\n",
       "  }\n",
       "  current_stop_sequence: 35\n",
       "  current_status: STOPPED_AT\n",
       "  timestamp: 1411044718\n",
       "  stop_id: \"137S\"\n",
       "}"
      ]
     },
     "execution_count": 77,
     "metadata": {},
     "output_type": "execute_result"
    }
   ],
   "source": [
    "gtfs_r[0].entity[1]"
   ]
  },
  {
   "cell_type": "code",
   "execution_count": 63,
   "metadata": {
    "collapsed": false
   },
   "outputs": [
    {
     "data": {
      "text/plain": [
       "trip {\n",
       "  trip_id: \"047600_1..S02R\"\n",
       "  start_date: \"20140918\"\n",
       "  route_id: \"1\"\n",
       "}\n",
       "current_stop_sequence: 35\n",
       "current_status: STOPPED_AT\n",
       "timestamp: 1411044718\n",
       "stop_id: \"137S\""
      ]
     },
     "execution_count": 63,
     "metadata": {},
     "output_type": "execute_result"
    }
   ],
   "source": [
    "gtfs_r[0].entity[1].vehicle"
   ]
  },
  {
   "cell_type": "code",
   "execution_count": 68,
   "metadata": {
    "collapsed": false
   },
   "outputs": [
    {
     "data": {
      "text/plain": [
       "1"
      ]
     },
     "execution_count": 68,
     "metadata": {},
     "output_type": "execute_result"
    }
   ],
   "source": [
    "gtfs_r[0].entity[1].vehicle.current_status"
   ]
  },
  {
   "cell_type": "code",
   "execution_count": 69,
   "metadata": {
    "collapsed": false
   },
   "outputs": [
    {
     "data": {
      "text/plain": [
       "[2,\n",
       " 1,\n",
       " 2,\n",
       " 1,\n",
       " 2,\n",
       " 1,\n",
       " 2,\n",
       " 1,\n",
       " 2,\n",
       " 1,\n",
       " 2,\n",
       " 1,\n",
       " 2,\n",
       " 2,\n",
       " 2,\n",
       " 2,\n",
       " 2,\n",
       " 1,\n",
       " 2,\n",
       " 2,\n",
       " 2,\n",
       " 1,\n",
       " 2,\n",
       " 1,\n",
       " 2,\n",
       " 2,\n",
       " 2,\n",
       " 2,\n",
       " 2,\n",
       " 1,\n",
       " 2,\n",
       " 1,\n",
       " 2,\n",
       " 0,\n",
       " 2,\n",
       " 1,\n",
       " 2,\n",
       " 2,\n",
       " 2,\n",
       " 1,\n",
       " 2,\n",
       " 2,\n",
       " 2,\n",
       " 1,\n",
       " 2,\n",
       " 1,\n",
       " 2,\n",
       " 0,\n",
       " 2,\n",
       " 1]"
      ]
     },
     "execution_count": 69,
     "metadata": {},
     "output_type": "execute_result"
    }
   ],
   "source": [
    "[gtfs_r[0].entity[i].vehicle.current_status for i in range(0, 50)]"
   ]
  },
  {
   "cell_type": "code",
   "execution_count": null,
   "metadata": {
    "collapsed": true
   },
   "outputs": [],
   "source": [
    "gtfs_r[0].entity[i].vehicle.current_status"
   ]
  },
  {
   "cell_type": "code",
   "execution_count": 67,
   "metadata": {
    "collapsed": false
   },
   "outputs": [
    {
     "data": {
      "text/plain": [
       "['ALERT_FIELD_NUMBER',\n",
       " 'ByteSize',\n",
       " 'Clear',\n",
       " 'ClearExtension',\n",
       " 'ClearField',\n",
       " 'CopyFrom',\n",
       " 'DESCRIPTOR',\n",
       " 'DiscardUnknownFields',\n",
       " 'Extensions',\n",
       " 'FindInitializationErrors',\n",
       " 'FromString',\n",
       " 'HasExtension',\n",
       " 'HasField',\n",
       " 'ID_FIELD_NUMBER',\n",
       " 'IS_DELETED_FIELD_NUMBER',\n",
       " 'IsInitialized',\n",
       " 'ListFields',\n",
       " 'MergeFrom',\n",
       " 'MergeFromString',\n",
       " 'ParseFromString',\n",
       " 'RegisterExtension',\n",
       " 'SerializePartialToString',\n",
       " 'SerializeToString',\n",
       " 'SetInParent',\n",
       " 'TRIP_UPDATE_FIELD_NUMBER',\n",
       " 'VEHICLE_FIELD_NUMBER',\n",
       " 'WhichOneof',\n",
       " '_InternalParse',\n",
       " '_InternalSerialize',\n",
       " '_Modified',\n",
       " '_SetListener',\n",
       " '_UpdateOneofState',\n",
       " '__class__',\n",
       " '__deepcopy__',\n",
       " '__delattr__',\n",
       " '__dir__',\n",
       " '__doc__',\n",
       " '__eq__',\n",
       " '__format__',\n",
       " '__ge__',\n",
       " '__getattribute__',\n",
       " '__getstate__',\n",
       " '__gt__',\n",
       " '__hash__',\n",
       " '__init__',\n",
       " '__le__',\n",
       " '__lt__',\n",
       " '__module__',\n",
       " '__ne__',\n",
       " '__new__',\n",
       " '__reduce__',\n",
       " '__reduce_ex__',\n",
       " '__repr__',\n",
       " '__setattr__',\n",
       " '__setstate__',\n",
       " '__sizeof__',\n",
       " '__slots__',\n",
       " '__str__',\n",
       " '__subclasshook__',\n",
       " '__unicode__',\n",
       " '__weakref__',\n",
       " '_cached_byte_size',\n",
       " '_cached_byte_size_dirty',\n",
       " '_decoders_by_tag',\n",
       " '_extensions_by_name',\n",
       " '_extensions_by_number',\n",
       " '_fields',\n",
       " '_is_present_in_parent',\n",
       " '_listener',\n",
       " '_listener_for_children',\n",
       " '_oneofs',\n",
       " '_unknown_fields',\n",
       " 'alert',\n",
       " 'id',\n",
       " 'is_deleted',\n",
       " 'trip_update',\n",
       " 'vehicle']"
      ]
     },
     "execution_count": 67,
     "metadata": {},
     "output_type": "execute_result"
    }
   ],
   "source": [
    "dir(gtfs_r[0].entity[1])"
   ]
  },
  {
   "cell_type": "code",
   "execution_count": null,
   "metadata": {
    "collapsed": true
   },
   "outputs": [],
   "source": [
    "ex1 = fetch_archival_gtfs_realtime_data(kind='gtfs', timestamp='2014-09-17-09-31')"
   ]
  }
 ],
 "metadata": {
  "kernelspec": {
   "display_name": "Python 3",
   "language": "python",
   "name": "python3"
  }
 },
 "nbformat": 4,
 "nbformat_minor": 2
}
